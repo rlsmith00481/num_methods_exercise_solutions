{
 "cells": [
  {
   "cell_type": "code",
   "execution_count": 6,
   "id": "2ffb416d",
   "metadata": {},
   "outputs": [
    {
     "name": "stdout",
     "output_type": "stream",
     "text": [
      "EX1\n",
      "What’s parallel computing?\n",
      "\n",
      "The use of multiple processing elements simultaneously for solving any problem\n",
      "by allowing code to run concurrently broken into a process threads for each processor.\n",
      "Types of Parallelism:\n",
      "1. Bit-level Parallelism\n",
      "2. Instruction-level Parallelism\n",
      "3. Task Parallelism\n",
      "4. Data-level parallelism (DLP)\n"
     ]
    }
   ],
   "source": [
    "print('EX1')\n",
    "\n",
    "print('What’s parallel computing?')\n",
    "print(\"\"\"\n",
    "The use of multiple processing elements simultaneously for solving any problem\n",
    "by allowing code to run concurrently broken into a process threads for each processor.\n",
    "Types of Parallelism:\n",
    "1. Bit-level Parallelism\n",
    "2. Instruction-level Parallelism\n",
    "3. Task Parallelism\n",
    "4. Data-level parallelism (DLP)\"\"\")"
   ]
  },
  {
   "cell_type": "code",
   "execution_count": 7,
   "id": "4e51cf96",
   "metadata": {},
   "outputs": [
    {
     "name": "stdout",
     "output_type": "stream",
     "text": [
      "EX2\n",
      "Please specify the difference between process and thread.\n",
      "\n",
      "A process means any program that is in execution and a thread is a segment of a process.\n",
      "A process can create other processes which are known as Child Processes.\n",
      "The process can have the following states\n",
      "1. new, \n",
      "2. ready, \n",
      "3. running, \n",
      "4. waiting, \n",
      "5. terminated,\n",
      "6. suspended.\n",
      "\n",
      "A thread has three states: \n",
      "1. running, \n",
      "2. ready, \n",
      "3. blocked. \n"
     ]
    }
   ],
   "source": [
    "print('EX2')\n",
    "\n",
    "print('Please specify the difference between process and thread.')\n",
    "print(\"\"\"\n",
    "A process means any program that is in execution and a thread is a segment of a process.\n",
    "A process can create other processes which are known as Child Processes.\n",
    "The process can have the following states\n",
    "1. new, \n",
    "2. ready, \n",
    "3. running, \n",
    "4. waiting, \n",
    "5. terminated,\n",
    "6. suspended.\n",
    "\n",
    "A thread has three states: \n",
    "1. running, \n",
    "2. ready, \n",
    "3. blocked. \"\"\")"
   ]
  },
  {
   "cell_type": "code",
   "execution_count": 3,
   "id": "2296137f",
   "metadata": {},
   "outputs": [
    {
     "name": "stdout",
     "output_type": "stream",
     "text": [
      "EX3\n",
      "Find the number of processors on your computer using the multiprocessing package.\n",
      "Number of cpu: 8\n"
     ]
    }
   ],
   "source": [
    "print('EX3')\n",
    "import multiprocessing as mp\n",
    "print('Find the number of processors on your computer using the multiprocessing package.')\n",
    "print((f'Number of cpu: {mp.cpu_count()}'))"
   ]
  },
  {
   "cell_type": "code",
   "execution_count": 10,
   "id": "91646ab2",
   "metadata": {},
   "outputs": [
    {
     "name": "stdout",
     "output_type": "stream",
     "text": [
      "EX4 & EX5\n",
      "\n",
      "Due to the windows 11 enviroment none of the multiprocessing or joblib could be run in Jupyter.\n",
      "The only way to run the parallel cpu packages was to run them in a script editor like Spyder.\n",
      "All the code had to be in udf format with the main process in def main() and the main() had\n",
      "to be run under if __name__ == '__main__' to protect the entry point also the file must be\n",
      "saved under a name file before excution or an error will occure.\n",
      "All script files are in the same folder as this file. Note: This problem was not encountered\n",
      "on the ubuntu linux os.\n"
     ]
    }
   ],
   "source": [
    "print('EX4 & EX5')\n",
    "print(\"\"\"\n",
    "Due to the windows 11 enviroment none of the multiprocessing or joblib could be run in Jupyter.\n",
    "The only way to run the parallel cpu packages was to run them in a script editor like Spyder.\n",
    "All the code had to be in udf format with the main process in def main() and the main() had\n",
    "to be run under if __name__ == '__main__' to protect the entry point also the file must be\n",
    "saved under a name file before excution or an error will occure.\n",
    "All script files are in the same folder as this file. Note: This problem was not encountered\n",
    "on the ubuntu linux os.\"\"\")"
   ]
  },
  {
   "cell_type": "code",
   "execution_count": 9,
   "id": "3f38361b",
   "metadata": {},
   "outputs": [
    {
     "name": "stdout",
     "output_type": "stream",
     "text": [
      "EX6\n",
      "What is python's GIL\n",
      "\n",
      "The Python Global Interpreter Lock or GIL, in simple words, is a mutex (or a lock) that\n",
      "allows only one thread to hold the control of the Python interpreter. This was introduced \n",
      "due to the combination of C and python code Cthon. C has no control over the theading processes\n",
      "and GIL will lock it to a single process preventing memory leaks and memory values errors.\n",
      "GIL will slow down and multi-threading process by limiting it to one thread per process. \n",
      "For a single processor system it makes things faster preventing bottle necks in memory.\n",
      "to over come this for a multiprocessor system A multi-processing approach is used instead\n",
      "of threads. Each Python process gets its own Python interpreter and memory space so \n",
      "the GIL won’t be a problem. \n"
     ]
    }
   ],
   "source": [
    "print('EX6')\n",
    "print(\"What is python's GIL?\")\n",
    "print(\"\"\"\n",
    "The Python Global Interpreter Lock or GIL, in simple words, is a mutex (or a lock) that\n",
    "allows only one thread to hold the control of the Python interpreter. This was introduced \n",
    "due to the combination of C and python code Cthon. C has no control over the theading processes\n",
    "and GIL will lock it to a single process preventing memory leaks and memory values errors.\n",
    "GIL will slow down and multi-threading process by limiting it to one thread per process. \n",
    "For a single processor system it makes things faster preventing bottle necks in memory.\n",
    "to over come this for a multiprocessor system A multi-processing approach is used instead\n",
    "of threads. Each Python process gets its own Python interpreter and memory space so \n",
    "the GIL won’t be a problem. \"\"\")"
   ]
  },
  {
   "cell_type": "code",
   "execution_count": null,
   "id": "bf44f22e",
   "metadata": {},
   "outputs": [],
   "source": []
  }
 ],
 "metadata": {
  "kernelspec": {
   "display_name": "Python 3 (ipykernel)",
   "language": "python",
   "name": "python3"
  },
  "language_info": {
   "codemirror_mode": {
    "name": "ipython",
    "version": 3
   },
   "file_extension": ".py",
   "mimetype": "text/x-python",
   "name": "python",
   "nbconvert_exporter": "python",
   "pygments_lexer": "ipython3",
   "version": "3.10.4"
  }
 },
 "nbformat": 4,
 "nbformat_minor": 5
}
