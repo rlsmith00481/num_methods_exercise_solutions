{
 "cells": [
  {
   "cell_type": "code",
   "execution_count": 11,
   "id": "7277dd81",
   "metadata": {},
   "outputs": [],
   "source": [
    "class People():\n",
    "    def __init__(self, name, age):\n",
    "        self.name = name\n",
    "        self.age = str(age)\n",
    "        \n",
    "    def greet(self):\n",
    "        print('Greetings, ' + self.name + ' Age: ' + self.age)\n",
    "        \n",
    "    "
   ]
  },
  {
   "cell_type": "code",
   "execution_count": 12,
   "id": "202e30e8",
   "metadata": {},
   "outputs": [
    {
     "name": "stdout",
     "output_type": "stream",
     "text": [
      "Greetings, Iron Man Age: 35\n",
      "Greetings, Batman Age: 42\n",
      "Iron Man\n",
      "35\n"
     ]
    }
   ],
   "source": [
    "person1 = People(name = 'Iron Man', age = 35)\n",
    "\n",
    "person2 = People(name = 'Batman', age = 42)\n",
    "person1.greet()\n",
    "person2.greet()\n",
    "print(person1.name)\n",
    "print(person1.age)\n"
   ]
  },
  {
   "cell_type": "code",
   "execution_count": 82,
   "id": "f2856e48",
   "metadata": {},
   "outputs": [],
   "source": [
    "class Stack:\n",
    "    # Constructor to set the data of\n",
    "    # the newly created tree node\n",
    "    # capacity is the number of disk,\n",
    "    def __init__(self, capacity):\n",
    "        self.capacity = capacity\n",
    "        self.top = -1\n",
    "        self.array = [0]*capacity\n",
    "    \n",
    "    def disk(self):\n",
    "        print('Number of disk,  ' +  str(self.capacity))\n",
    "\n"
   ]
  },
  {
   "cell_type": "code",
   "execution_count": 85,
   "id": "0f7f0ab5",
   "metadata": {},
   "outputs": [
    {
     "name": "stdout",
     "output_type": "stream",
     "text": [
      "Number of disk,  3\n"
     ]
    }
   ],
   "source": [
    "stack = Stack(capacity = 3)\n",
    "stack.disk()\n",
    "#print(stack.disk)"
   ]
  },
  {
   "cell_type": "code",
   "execution_count": 156,
   "id": "b8dee3c2",
   "metadata": {},
   "outputs": [],
   "source": [
    "class Student():\n",
    "    n = 0\n",
    "    def __init__ (self, sid, name, gender):\n",
    "        self.sid = sid\n",
    "        self.name = name\n",
    "        self.gender = gender\n",
    "        self.type = 'learning'\n",
    "        Student.n += 1\n",
    "        \n",
    "    def say_name(self):\n",
    "        print(\"My name is: \" + self.name)\n",
    "        \n",
    "    def num_instances(self):\n",
    "        print(f\"We have {Student.n} - instances in total\")\n",
    "        \n",
    "    def report(self, score):\n",
    "        self.say_name()\n",
    "        print(\"My ID is : \" + self.sid)\n",
    "        print(\"My score is: \" + str(score))\n",
    "        self.num_instances()\n",
    "    \n",
    "   "
   ]
  },
  {
   "cell_type": "code",
   "execution_count": 158,
   "id": "6114d891",
   "metadata": {},
   "outputs": [
    {
     "name": "stdout",
     "output_type": "stream",
     "text": [
      "My name is: Rusty\n",
      "My ID is : 1023\n",
      "My score is: 89\n",
      "We have 4 - instances in total\n",
      "My name is: Suzan\n",
      "My ID is : 1024\n",
      "My score is: 92\n",
      "We have 4 - instances in total\n"
     ]
    }
   ],
   "source": [
    "Student1 = Student('1023', 'Rusty', 'M')\n",
    "\n",
    "Student2 = Student('1024', 'Suzan', 'F')\n",
    "\n",
    "Student1.report(89)\n",
    "Student2.report(92)"
   ]
  },
  {
   "cell_type": "code",
   "execution_count": 165,
   "id": "137ff68d",
   "metadata": {},
   "outputs": [
    {
     "name": "stdout",
     "output_type": "stream",
     "text": [
      "14.0 + 12.0 = 26.0\n",
      "14.0 - 12.0 = 2.0\n",
      "168.0\n",
      "1.1666666666666667\n"
     ]
    }
   ],
   "source": [
    "class Operator():\n",
    "    def __init__ (self, a, b):\n",
    "        self.a = float(a)\n",
    "        self.b = float(b)\n",
    "    \n",
    "    def addition(self):\n",
    "        print(f'{self.a} + {self.b} = {self.a + self.b}')\n",
    "\n",
    "    def subtraction(self):\n",
    "        print(f'{self.a} - {self.b} = {self.a - self.b}')\n",
    "\n",
    "    def multiplication(self):\n",
    "        print(self.a*self.b)\n",
    "    def division(self):\n",
    "        print(self.a/self.b)\n",
    "        \n",
    "num = Operator(14, 12)\n",
    "num.addition()\n",
    "num.subtraction()\n",
    "num.multiplication()\n",
    "num.division()"
   ]
  },
  {
   "cell_type": "code",
   "execution_count": 131,
   "id": "6f0bbff5",
   "metadata": {},
   "outputs": [
    {
     "data": {
      "text/plain": [
       "168.0"
      ]
     },
     "execution_count": 131,
     "metadata": {},
     "output_type": "execute_result"
    }
   ],
   "source": [
    "add.b * add.a"
   ]
  },
  {
   "cell_type": "code",
   "execution_count": 213,
   "id": "b332e6f9",
   "metadata": {},
   "outputs": [],
   "source": [
    "class Sensor():\n",
    "    def __init__(self, name, location, record_date):\n",
    "        self.name = name\n",
    "        self.location = location\n",
    "        self.record_date = record_date\n",
    "        self.data = {}\n",
    "        \n",
    "    def add_data(self, t, data):\n",
    "        self.data[\"time\"] = t\n",
    "        self.data[\"data\"] = data\n",
    "        print(f'We have {len(data)} points saved')\n",
    "    \n",
    "    def clear_data(self):\n",
    "        self.data = []\n",
    "        print(\"Data Cleared!\")\n",
    "\n",
    "class Accelerometer(Sensor):\n",
    "    \n",
    "    def show_type(self):\n",
    "        print(\"accelerometer sensor\")\n",
    "        \n",
    "class Pressuremeter(Sensor):\n",
    "    \n",
    "    def show_type(self):\n",
    "        print(\"pressure sensor\")\n",
    "    \n",
    "class UCBAcc(Accelerometer):\n",
    "    \n",
    "    def show_type(self):\n",
    "        print(f\"I am {self.name}, created at Berkeley!\")\n",
    "        \n",
    "class NewSensor(Sensor):\n",
    "    def __init__(self, name, location, record_date, brand):\n",
    "        super().__init__(name, location, record_date)\n",
    "        self.brand = brand       \n",
    "    \n"
   ]
  },
  {
   "cell_type": "code",
   "execution_count": 214,
   "id": "d7e122ae",
   "metadata": {},
   "outputs": [
    {
     "name": "stdout",
     "output_type": "stream",
     "text": [
      "pressure sensor\n",
      "We have 10 points saved\n",
      "   time    data  \n",
      "0    0   5.445846\n",
      "1    1   7.933657\n",
      "2    2   9.905021\n",
      "3    3   6.350049\n",
      "4    4   7.985905\n",
      "5    5   9.387308\n",
      "6    6   4.672254\n",
      "7    7   4.603419\n",
      "8    8   6.092528\n",
      "9    9   6.568312\n",
      "accelerometer sensor\n",
      "We have 10 points saved\n",
      "   time  data\n",
      "0    0     9 \n",
      "1    1     4 \n",
      "2    2   -10 \n",
      "3    3    -2 \n",
      "4    4     7 \n",
      "5    5    -1 \n",
      "6    6     1 \n",
      "7    7    -9 \n",
      "8    8    -6 \n",
      "9    9     4 \n",
      " Pressure           Accelerometer     \n",
      "   time      data        time     data\n",
      "     0     5.292000        0        9 \n",
      "     1     9.526687        1        4 \n",
      "     2     9.635612        2      -10 \n",
      "     3     6.819031        3       -2 \n",
      "     4     2.061842        4        7 \n",
      "     5     5.113114        5       -1 \n",
      "     6     2.470765        6        1 \n",
      "     7     5.320366        7       -9 \n",
      "     8     8.012863        8       -6 \n",
      "     9     7.267766        9        4  \n",
      "\n",
      "I am UCBAcc, created at Berkeley!\n"
     ]
    },
    {
     "data": {
      "text/plain": [
       "'x, y, z'"
      ]
     },
     "execution_count": 214,
     "metadata": {},
     "output_type": "execute_result"
    }
   ],
   "source": [
    "import numpy as np\n",
    "import pandas as pd\n",
    "pd.set_option('display.colheader_justify', 'center')\n",
    "\n",
    "pressure = Pressuremeter('pressure', 'Berkeley', '2022-01-01')\n",
    "pressure.show_type()\n",
    "data = 10*(np.random.random(10))\n",
    "pressure.add_data(np.arange(10), data)\n",
    "pressure.data\n",
    "pressure_df = pd.DataFrame(pressure.data)\n",
    "print(pressure_df)\n",
    "\n",
    "acc = Accelerometer('acc', 'Oakland', '2022-01-01')\n",
    "acc.show_type()\n",
    "data = np.random.randint(-10, 10, 10)\n",
    "acc.add_data(np.arange(10), data)\n",
    "acc.data\n",
    "acc_df = pd.DataFrame(acc.data)\n",
    "print(acc_df)\n",
    "\n",
    "sensors_df = pd.concat([sensor1_df, acc_df], axis=1, keys=['Pressure','Accelerometer'])\n",
    "blankIndex=[''] * len(sensors_df)\n",
    "sensors_df.index=blankIndex\n",
    "print(sensors_df, '\\n')\n",
    "\n",
    "acc2 = UCBAcc(\"UCBAcc\", \"Berkeley\", \"2022-01-01\")\n",
    "acc2.show_type()\n",
    "\n",
    "new_sensor =NewSensor(\"OK\", \"SF\", \"2022-01-01\", \"x, y, z\")\n",
    "new_sensor.brand"
   ]
  },
  {
   "cell_type": "code",
   "execution_count": 204,
   "id": "74e1de3b",
   "metadata": {},
   "outputs": [
    {
     "data": {
      "text/plain": [
       "'None'"
      ]
     },
     "execution_count": 204,
     "metadata": {},
     "output_type": "execute_result"
    }
   ],
   "source": [
    "press"
   ]
  },
  {
   "cell_type": "code",
   "execution_count": null,
   "id": "757ee574",
   "metadata": {},
   "outputs": [],
   "source": []
  }
 ],
 "metadata": {
  "kernelspec": {
   "display_name": "Python 3 (ipykernel)",
   "language": "python",
   "name": "python3"
  },
  "language_info": {
   "codemirror_mode": {
    "name": "ipython",
    "version": 3
   },
   "file_extension": ".py",
   "mimetype": "text/x-python",
   "name": "python",
   "nbconvert_exporter": "python",
   "pygments_lexer": "ipython3",
   "version": "3.10.4"
  }
 },
 "nbformat": 4,
 "nbformat_minor": 5
}
