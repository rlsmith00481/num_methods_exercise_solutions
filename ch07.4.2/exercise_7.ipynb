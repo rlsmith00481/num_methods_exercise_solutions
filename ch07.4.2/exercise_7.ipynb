{
 "cells": [
  {
   "cell_type": "code",
   "execution_count": 5,
   "id": "6f2d01ca",
   "metadata": {},
   "outputs": [
    {
     "name": "stdout",
     "output_type": "stream",
     "text": [
      "EX 1\n",
      "Describe the differences between classes and objects.\n",
      "A class is a blueprint used to define a logical grouping of data and functions,\n",
      "while an object is the instance of the defined class wthe actual values.\n",
      "\n"
     ]
    }
   ],
   "source": [
    "print('EX 1')\n",
    "\n",
    "print(\"\"\"Describe the differences between classes and objects.\"\"\")\n",
    "print(\"\"\"A class is a blueprint used to define a logical grouping of data and functions,\n",
    "while an object is the instance of the defined class wthe actual values.\\n\"\"\")"
   ]
  },
  {
   "cell_type": "code",
   "execution_count": 7,
   "id": "62b1397d",
   "metadata": {},
   "outputs": [
    {
     "name": "stdout",
     "output_type": "stream",
     "text": [
      "EX 2\n",
      "Describe why we use self as the first argument in a method.\n",
      "The class instance method must have and extra argument to as the \n",
      "first argument (self) which refers back to the object itself. Instance methods\n",
      "can freely access attributes and other methods in the same object by using self.\n",
      "\n"
     ]
    }
   ],
   "source": [
    "print(\"EX 2\")\n",
    "print(\"Describe why we use self as the first argument in a method.\")\n",
    "print(\"\"\"The class instance method must have and extra argument to as the \n",
    "first argument (self) which refers back to the object itself. Instance methods\n",
    "can freely access attributes and other methods in the same object by using self.\\n\"\"\")"
   ]
  },
  {
   "cell_type": "code",
   "execution_count": 8,
   "id": "c2346609",
   "metadata": {},
   "outputs": [
    {
     "name": "stdout",
     "output_type": "stream",
     "text": [
      "EX 3\n",
      "What ia constructor and why do we use it?\n",
      "Constructors are generally used for instantiating an object. The task\n",
      "of constructors is to initialize(assign values) to the data members of the class\n",
      "when an object of the class is created. In Python the __init__() method is called\n",
      "the constructor and is always called when an object is created.\n",
      "\n"
     ]
    }
   ],
   "source": [
    "print(\"EX 3\")\n",
    "print('What ia constructor and why do we use it?')\n",
    "print(\"\"\"Constructors are generally used for instantiating an object. The task\n",
    "of constructors is to initialize(assign values) to the data members of the class\n",
    "when an object of the class is created. In Python the __init__() method is called\n",
    "the constructor and is always called when an object is created.\\n\"\"\")"
   ]
  },
  {
   "cell_type": "code",
   "execution_count": 9,
   "id": "28c3d691",
   "metadata": {},
   "outputs": [
    {
     "name": "stdout",
     "output_type": "stream",
     "text": [
      "EX 4\n",
      "Describe the differences between classes and instance attributes.\n",
      "A class is a blueprint used to define a logical grouping of data and functions. \n",
      "Defines a grouping of objects. Classes are created by a key word class \n",
      "Attributes are the variables that belong to a class.\n",
      "Attributes are always public and can be accessed using the dot (.) operator.\n",
      "State: It is represented by the attributes of an object. It also reflects the properties of an object.\n",
      "Behavior: It is represented by the methods of an object. It also reflects the response of an object to other objects.\n",
      "Identity: It gives a unique name to an object and enables one object to interact with other objects.\n"
     ]
    }
   ],
   "source": [
    "print(\"EX 4\")\n",
    "print(\"\"\"Describe the differences between classes and instance attributes.\"\"\")\n",
    "print(\"\"\"A class is a blueprint used to define a logical grouping of data and functions. \n",
    "Defines a grouping of objects. Classes are created by a key word class \n",
    "Attributes are the variables that belong to a class.\n",
    "Attributes are always public and can be accessed using the dot (.) operator.\n",
    "State: It is represented by the attributes of an object. It also reflects the properties of an object.\n",
    "Behavior: It is represented by the methods of an object. It also reflects the response of an object to other objects.\n",
    "Identity: It gives a unique name to an object and enables one object to interact with other objects.\n",
    "Instance attributes are those tha belong to a specific instance and to use them you must use self.attribute\n",
    "within the class (belonging to the class). Class attributes can be used anywhere within the class without self.\"\"\")"
   ]
  },
  {
   "cell_type": "code",
   "execution_count": 48,
   "id": "1460bfd5",
   "metadata": {},
   "outputs": [
    {
     "name": "stdout",
     "output_type": "stream",
     "text": [
      "EX 5\n"
     ]
    },
    {
     "data": {
      "image/png": "[encoded data removed]",
      "text/plain": [
       "<Figure size 432x288 with 1 Axes>"
      ]
     },
     "metadata": {
      "needs_background": "light"
     },
     "output_type": "display_data"
    },
    {
     "name": "stdout",
     "output_type": "stream",
     "text": [
      "The distance between points (2, 8) and (10, 14) is 10.0\n"
     ]
    }
   ],
   "source": [
    "print(\"EX 5 and 6\")\n",
    "import matplotlib.pyplot as plt\n",
    "import math\n",
    "\n",
    "class Point():\n",
    "    def __init__(self, x, y):\n",
    "        self.x = x\n",
    "        self.y = y\n",
    "        \n",
    "    def plot_points(self):\n",
    "        plt.scatter(self.x, self.y, marker='o', color='blue')\n",
    "        plt.plot(self.x, self.y, 'bo', linestyle=\"--\")\n",
    "        plt.show()\n",
    "        \n",
    "    def distance(self):\n",
    "        if self.x == list and self.y == list:\n",
    "            d = ((self.y[0]-self.x[0])**2 + (self.y[1] - self.x[1])**2)**.5\n",
    "        else:\n",
    "            d = math.dist(self.x, self.y)\n",
    "        \n",
    "        print(f'The distance between points {self.x} and {self.y} is {d}')\n",
    "\n",
    "loc = Point((2, 8), (10, 14))\n",
    "loc.plot_points()\n",
    "loc.distance()"
   ]
  },
  {
   "cell_type": "code",
   "execution_count": 50,
   "id": "5e20a9b8",
   "metadata": {},
   "outputs": [
    {
     "name": "stdout",
     "output_type": "stream",
     "text": [
      "EX 6\n",
      "What is inheritance?\n",
      "Inheritance enables us to define a class that takes all the functionality \n",
      "from a parent class and allows us to add more. It refers to defining a new class \n",
      "with little or no modification to an existing class. The new class is called derived\n",
      "(or child) class and the one from which it inherits is called the base (or parent) class.\n",
      "\n"
     ]
    }
   ],
   "source": [
    "print(\"EX 7\")\n",
    "print(\"\"\"What is inheritance?\"\"\")\n",
    "print(\"\"\"Inheritance enables us to define a class that takes all the functionality \n",
    "from a parent class and allows us to add more. It refers to defining a new class \n",
    "with little or no modification to an existing class. The new class is called derived\n",
    "(or child) class and the one from which it inherits is called the base (or parent) class.\\n\"\"\")"
   ]
  },
  {
   "cell_type": "code",
   "execution_count": 42,
   "id": "4d24f311",
   "metadata": {},
   "outputs": [],
   "source": [
    "print(\"EX 8\")\n",
    "print(\"\"\"How do we inherit from a superclass and add a new method?\"\"\")\n",
    "print(\"\"\"This is done by writing a new class that references\n",
    "(inherits from parent) the parent class. class Newclass(Parent): We\n",
    "can then write a new method (function) with in the new class.\n",
    "def new_method(self):. The child class will inherit all the attributes and methods.\"\"\")"
   ]
  },
  {
   "cell_type": "code",
   "execution_count": 2,
   "id": "0f89bacb",
   "metadata": {},
   "outputs": [
    {
     "name": "stdout",
     "output_type": "stream",
     "text": [
      "EX 9\n",
      "When we inherit from a superclass, we need to replace a methods with a new one; how do we do that?\n",
      "The class from which a class inherits is called the parent or superclass. A class which inherits from\n",
      "a superclass is called a subclass, also called heir class or child class. Superclasses are sometimes called\n",
      "ancestors as well. There exists a hierarchical relationship between classes.This is done by writing function\n",
      "with added attributes and accessing the parent __init__function. This will allow you to change the attributes and\n",
      "still maintain all the attributes from parent.\n"
     ]
    }
   ],
   "source": [
    "print(\"EX 9\")\n",
    "print(\"\"\"When we inherit from a superclass, we need to replace a methods with a new one; how do we do that?\"\"\")\n",
    "print(\"\"\"The class from which a class inherits is called the parent or superclass. A class which inherits from\n",
    "a superclass is called a subclass, also called heir class or child class. Superclasses are sometimes called\n",
    "ancestors as well. There exists a hierarchical relationship between classes.This is done by writing function\n",
    "with added attributes and accessing the parent __init__function. This will allow you to change the attributes and\n",
    "still maintain all the attributes from parent.\"\"\")"
   ]
  },
  {
   "cell_type": "code",
   "execution_count": 5,
   "id": "9eceff8a",
   "metadata": {},
   "outputs": [
    {
     "name": "stdout",
     "output_type": "stream",
     "text": [
      "EX 10\n",
      "Whats the super method and why do we need it?\n",
      "The super() function is used to give access to methods\n",
      "and properties of a parent or sibling class. The super() function\n",
      "returns an object that represents the parent class. It allow the\n",
      "code to be maintainable for the foreseeable future.\n"
     ]
    }
   ],
   "source": [
    "print(\"EX 10\")\n",
    "print(\"\"\"Whats the super method and why do we need it?\"\"\")\n",
    "print(\"\"\"The super() function is used to give access to methods\n",
    "and properties of a parent or sibling class. The super() function\n",
    "returns an object that represents the parent class. It allow the\n",
    "code to be maintainable for the foreseeable future.\"\"\")"
   ]
  },
  {
   "cell_type": "code",
   "execution_count": 58,
   "id": "fea51059",
   "metadata": {},
   "outputs": [
    {
     "name": "stdout",
     "output_type": "stream",
     "text": [
      "EX 11\n",
      "24.0 + 56.0 = 80.0\n",
      "24.0 - 56.0 = -32.0\n",
      "24.0 x 56.0 = 1344.0\n",
      "24.0 / 56.0 = 0.42857142857142855\n",
      "24.0^2 and 56.0^2 = 576.0 , 3136.0\n",
      "\n",
      "Using inheriting and updating attributes with super() including encapsulation\n",
      "3.0^10.0 = 59049.0\n",
      "The distance between points 24.0, 12.0 and 10.0, 3.0 = 16.64331697709324\n",
      "The distance is : 16.643\n",
      "The number of instances used in the calculation = 2\n",
      "\n",
      "\n"
     ]
    }
   ],
   "source": [
    "print(\"EX 11\")\n",
    "\n",
    "class Operator():\n",
    "    n = 0    \n",
    "    def __init__ (self, a, b):\n",
    "        self.a = float(a)\n",
    "        self.b = float(b)\n",
    "        Operator.n += 1\n",
    "    \n",
    "    def addition(self):\n",
    "        print(f'{self.a} + {self.b} = {self.a + self.b}')\n",
    "\n",
    "    def subtraction(self):\n",
    "        print(f'{self.a} - {self.b} = {self.a - self.b}')\n",
    "\n",
    "    def multiplication(self):\n",
    "        print(f'{self.a} x {self.b} = {self.a * self.b}')\n",
    "   \n",
    "    def division(self):\n",
    "        print(f'{self.a} / {self.b} = {self.a / self.b}')\n",
    "        \n",
    "    def square(self):\n",
    "        print(f'{self.a}^2 and {self.b}^2 = {(self.a)**2} , {(self.b)**2}')\n",
    "\n",
    "class Power(Operator):\n",
    "    \n",
    "    def __init__(self, a, b, x, y):\n",
    "        super().__init__(a, b)\n",
    "        self.x = float(x)\n",
    "        self.y = float(y)\n",
    "    \n",
    "    def power(self):\n",
    "        print(f'{self.y}^{self.x} = {self.y**self.x}')\n",
    "        \n",
    "    def dist(self):\n",
    "        self.__distance = round(((self.x-self.a)**2 + (self.y-self.b)**2)**.5, 3)\n",
    "        print(f'The distance between points {self.a}, {self.b} and'\n",
    "              f' {self.x}, {self.y} ='\n",
    "              f' {((self.x-self.a)**2 + (self.y-self.b)**2)**.5}')\n",
    "        \n",
    "    def get_distance(self):\n",
    "        print(f'The distance is : {self.__distance}')\n",
    "        \n",
    "    def Num_inits(self):\n",
    "        print(f'The number of instances used in the calculation = {Operator.n}')\n",
    "        \n",
    "op = Operator(24, 56)\n",
    "pw = Power(24, 12, 10, 3)\n",
    "op.addition()\n",
    "op.subtraction()\n",
    "op.multiplication()\n",
    "op.division()\n",
    "op.square()\n",
    "print('\\nUsing inheriting and updating attributes with super() including encapsulation')\n",
    "pw.power()\n",
    "pw.dist()\n",
    "pw.get_distance()\n",
    "pw.Num_inits()\n",
    "print('\\n')"
   ]
  },
  {
   "cell_type": "code",
   "execution_count": null,
   "id": "5ec9cf7b",
   "metadata": {},
   "outputs": [],
   "source": []
  }
 ],
 "metadata": {
  "kernelspec": {
   "display_name": "Python 3 (ipykernel)",
   "language": "python",
   "name": "python3"
  },
  "language_info": {
   "codemirror_mode": {
    "name": "ipython",
    "version": 3
   },
   "file_extension": ".py",
   "mimetype": "text/x-python",
   "name": "python",
   "nbconvert_exporter": "python",
   "pygments_lexer": "ipython3",
   "version": "3.10.4"
  }
 },
 "nbformat": 4,
 "nbformat_minor": 5
}
