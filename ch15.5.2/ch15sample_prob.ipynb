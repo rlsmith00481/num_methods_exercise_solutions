{
 "cells": [
  {
   "cell_type": "code",
   "execution_count": 2,
   "id": "77a041c7",
   "metadata": {},
   "outputs": [
    {
     "data": {
      "text/plain": [
       "array([4, 8])"
      ]
     },
     "execution_count": 2,
     "metadata": {},
     "output_type": "execute_result"
    }
   ],
   "source": [
    "import numpy as np\n",
    "from numpy.linalg import inv, det, eig, qr\n",
    "\n",
    "A=[[0, 2],[2, 3]]\n",
    "v =[1, 2]\n",
    "np.dot(A,v)"
   ]
  },
  {
   "cell_type": "code",
   "execution_count": null,
   "id": "6dd97f68",
   "metadata": {},
   "outputs": [],
   "source": [
    "A = [[0, -1, 0],\n",
    "     [4, 0, 2],\n",
    "     [8, -1, 7]]\n",
    "\n",
    "B = [[2], [-3], [1]]\n",
    "     #[-3, 1]]\n",
    "     #[1, 10]]\n",
    "print(np.stack(A))\n",
    "print(np.stack(B))\n",
    "np.dot(A, B)"
   ]
  },
  {
   "cell_type": "code",
   "execution_count": null,
   "id": "fb66bb28",
   "metadata": {},
   "outputs": [],
   "source": [
    "import matplotlib.pyplot as plt\n",
    "\n",
    "plt.style.use('seaborn-poster')\n",
    "\n",
    "%matplotlib inline\n",
    "\n",
    "def plot_vect(x, b, xlim, ylim):\n",
    "    '''\n",
    "    function to plot two vectors, \n",
    "    x - the original vector\n",
    "    b - the transformed vector\n",
    "    xlim - the limit for x\n",
    "    ylim - the limit for y\n",
    "    '''\n",
    "    plt.figure(figsize = (10, 6))\n",
    "    plt.quiver(0,0,x[0],x[1],\\\n",
    "        color='k',angles='xy',\\\n",
    "        scale_units='xy',scale=1,\\\n",
    "        label='Original vector')\n",
    "    plt.quiver(0,0,b[0],b[1],\\\n",
    "        color='g',angles='xy',\\\n",
    "        scale_units='xy',scale=1,\\\n",
    "        label ='Transformed vector')\n",
    "    plt.xlim(xlim)\n",
    "    plt.ylim(ylim)\n",
    "    plt.xlabel('X')\n",
    "    plt.ylabel('Y')\n",
    "    plt.legend()\n",
    "    plt.show()\n",
    "\n",
    "    \n",
    "A = np.array([[2, 0],[0, 1]])\n",
    "x0 = np.array([[1],[1]])\n",
    "b0 = np.dot(A, x0)\n",
    "\n",
    "plot_vect(x0,b0,(0,3),(0,2))\n",
    "\n",
    "\n",
    "\n",
    "\n"
   ]
  },
  {
   "cell_type": "code",
   "execution_count": 29,
   "id": "3f081d5f",
   "metadata": {},
   "outputs": [
    {
     "ename": "NameError",
     "evalue": "name 'plot_vect' is not defined",
     "output_type": "error",
     "traceback": [
      "\u001b[1;31m---------------------------------------------------------------------------\u001b[0m",
      "\u001b[1;31mNameError\u001b[0m                                 Traceback (most recent call last)",
      "\u001b[1;32mC:\\Users\\rlsmi\\AppData\\Local\\Temp\\ipykernel_13732\\1746255692.py\u001b[0m in \u001b[0;36m<cell line: 4>\u001b[1;34m()\u001b[0m\n\u001b[0;32m      2\u001b[0m \u001b[0mb1\u001b[0m \u001b[1;33m=\u001b[0m \u001b[0mnp\u001b[0m\u001b[1;33m.\u001b[0m\u001b[0mdot\u001b[0m\u001b[1;33m(\u001b[0m\u001b[0mA\u001b[0m\u001b[1;33m,\u001b[0m \u001b[0mx1\u001b[0m\u001b[1;33m)\u001b[0m\u001b[1;33m\u001b[0m\u001b[1;33m\u001b[0m\u001b[0m\n\u001b[0;32m      3\u001b[0m \u001b[1;33m\u001b[0m\u001b[0m\n\u001b[1;32m----> 4\u001b[1;33m \u001b[0mplot_vect\u001b[0m\u001b[1;33m(\u001b[0m\u001b[0mx1\u001b[0m\u001b[1;33m,\u001b[0m\u001b[0mb1\u001b[0m\u001b[1;33m,\u001b[0m\u001b[1;33m(\u001b[0m\u001b[1;36m0\u001b[0m\u001b[1;33m,\u001b[0m\u001b[1;36m3\u001b[0m\u001b[1;33m)\u001b[0m\u001b[1;33m,\u001b[0m\u001b[1;33m(\u001b[0m\u001b[1;33m-\u001b[0m\u001b[1;36m0.3\u001b[0m\u001b[1;33m,\u001b[0m\u001b[1;36m0.3\u001b[0m\u001b[1;33m)\u001b[0m\u001b[1;33m)\u001b[0m\u001b[1;33m\u001b[0m\u001b[1;33m\u001b[0m\u001b[0m\n\u001b[0m",
      "\u001b[1;31mNameError\u001b[0m: name 'plot_vect' is not defined"
     ]
    }
   ],
   "source": [
    "x1 = np.array([[1], [0]])\n",
    "b1 = np.dot(A, x1)\n",
    "\n",
    "plot_vect(x1,b1,(0,3),(-0.3,0.3))"
   ]
  },
  {
   "cell_type": "code",
   "execution_count": 30,
   "id": "f7ac4255",
   "metadata": {},
   "outputs": [
    {
     "data": {
      "text/plain": [
       "array([[1.  , 0.25]])"
      ]
     },
     "execution_count": 30,
     "metadata": {},
     "output_type": "execute_result"
    }
   ],
   "source": [
    "x3 = np.array([[4, 1]])\n",
    "np.abs(x3).max()\n",
    "x3 / x3.max()"
   ]
  },
  {
   "cell_type": "code",
   "execution_count": 28,
   "id": "250914bb",
   "metadata": {},
   "outputs": [
    {
     "name": "stdout",
     "output_type": "stream",
     "text": [
      "0.8451542024363766\n",
      "Eigenvalue: 6.16225\n",
      "Eigenvector: [0.53452 0.84515]\n",
      "Number of iterations: 4\n"
     ]
    }
   ],
   "source": [
    "def normalize(x):\n",
    "    fac = abs(x).max()\n",
    "    x_n = x / x.max()\n",
    "    return fac, x_n\n",
    "\n",
    "def two_norm(x):\n",
    "    two_norm = 0\n",
    "    for i in x:\n",
    "        two_norm += np.abs(i)**2\n",
    "    two_norm = np.sqrt(two_norm)\n",
    "    return two_norm\n",
    "\n",
    "x = np.array([1, 1])\n",
    "a = np.array([[3, 2], \n",
    "              [5, 3]])\n",
    "tol = 0.00001\n",
    "count, xn = 0, 0\n",
    "diff = 1\n",
    "#for i in range(8):\n",
    "while diff > tol:\n",
    "    _, xn = normalize(x)\n",
    "    x = np.dot(a, x)\n",
    "    lambda_1, x = normalize(x)\n",
    "    diff = np.abs(np.sum(xn) - np.sum(x))\n",
    "    count += 1\n",
    "xn = two_norm(x)\n",
    "xn = 1/xn\n",
    "print(xn)\n",
    "print(f'Eigenvalue: {np.round(lambda_1, 5)}')\n",
    "print(f'Eigenvector: {np.round(np.dot(xn,x), 5)}')\n",
    "print(f'Number of iterations: {count}')"
   ]
  },
  {
   "cell_type": "code",
   "execution_count": 32,
   "id": "c0595217",
   "metadata": {},
   "outputs": [
    {
     "name": "stdout",
     "output_type": "stream",
     "text": [
      "6.162277660168377\n",
      "Eigenvalue: -6.16228\n",
      "Eigenvector: [1 1]\n",
      "Number of iterations: 0\n"
     ]
    }
   ],
   "source": [
    "def normalize(x):\n",
    "    fac = abs(x).max()\n",
    "    x_n = x / x.max()\n",
    "    return fac, x_n\n",
    "\n",
    "def two_norm(x):\n",
    "    two_norm = 0\n",
    "    for i in x:\n",
    "        two_norm += np.abs(i)**2\n",
    "    two_norm = np.sqrt(two_norm)\n",
    "    return two_norm\n",
    "\n",
    "x = np.array([1, 1])\n",
    "a = np.array([[3, 2], \n",
    "              [5, 3]])\n",
    "tol = 0.00001\n",
    "a_inv = inv(a)\n",
    "\n",
    "count, xn = 0, 0\n",
    "diff = 1\n",
    "while diff < tol:\n",
    "#for i in range(11):\n",
    "    _, xn = normalize(x) # for tolerance\n",
    "    x = np.dot(x, a_inv)\n",
    "    lambda_1, x = normalize(x)\n",
    "    diff =np.abs( _ - lambda_1)\n",
    "    count += 1\n",
    "print(lambda_1)\n",
    "print(f'Eigenvalue: {np.round(-lambda_1, 5)}')\n",
    "print(f'Eigenvector: {np.round(x, 5)}')\n",
    "print(f'Number of iterations: {count}')"
   ]
  },
  {
   "cell_type": "code",
   "execution_count": 5,
   "id": "b7d45e13",
   "metadata": {},
   "outputs": [
    {
     "name": "stdout",
     "output_type": "stream",
     "text": [
      "Eigenvalue: [ 6.16227766 -0.16227766]\n",
      "Eigenvector:\n",
      "[[ 0.53452248 -0.53452248]\n",
      " [ 0.84515425  0.84515425]]\n"
     ]
    }
   ],
   "source": [
    "a_eiv = np.array([[3, 2], \n",
    "                  [5, 3]])\n",
    "w, v = eig(a_eiv)\n",
    "print(f'Eigenvalue: {w}')\n",
    "print('Eigenvector:')\n",
    "print(np.stack(v))"
   ]
  },
  {
   "cell_type": "code",
   "execution_count": 50,
   "id": "13970a4a",
   "metadata": {},
   "outputs": [
    {
     "name": "stdout",
     "output_type": "stream",
     "text": [
      "Q: [[ 0. -1.]\n",
      " [-1.  0.]]\n",
      "R: [[-2. -3.]\n",
      " [ 0. -2.]]\n",
      "QR: [[0. 2.]\n",
      " [2. 3.]] \n",
      "\n",
      "Iteration 1:\n",
      "[[3. 2.]\n",
      " [2. 0.]] \n",
      "\n",
      "Iteration 5:\n",
      "[[ 3.99998093  0.00976559]\n",
      " [ 0.00976559 -0.99998093]] \n",
      "\n",
      "Iteration 10:\n",
      "[[ 4.00000000e+00  9.53674316e-06]\n",
      " [ 9.53674316e-06 -1.00000000e+00]] \n",
      "\n",
      "Iteration 20:\n",
      "[[ 4.00000000e+00  9.09482285e-12]\n",
      " [ 9.09494702e-12 -1.00000000e+00]] \n",
      "\n"
     ]
    }
   ],
   "source": [
    "a = np.array([[0, 2], \n",
    "              [2, 3]])\n",
    "\n",
    "q, r = qr(a)\n",
    "\n",
    "print('Q:', q)\n",
    "print('R:', r)\n",
    "\n",
    "b = np.dot(q, r)\n",
    "print('QR:', b, '\\n')\n",
    "\n",
    "p = [1, 5, 10, 20]\n",
    "for i in range(20):\n",
    "    q, r = qr(a)\n",
    "    a = np.dot(r, q)\n",
    "    if i+1 in p:\n",
    "        print(f'Iteration {i+1}:')\n",
    "        print(a, '\\n')"
   ]
  },
  {
   "cell_type": "code",
   "execution_count": 52,
   "id": "b2165d50",
   "metadata": {},
   "outputs": [
    {
     "name": "stdout",
     "output_type": "stream",
     "text": [
      "Eigenvalue: [ 8.80916362  0.92620912 -0.73537273]\n",
      "Eigenvector:\n",
      "[[-0.52799324 -0.77557092 -0.36272811]\n",
      " [-0.604391    0.62277013 -0.7103262 ]\n",
      " [-0.59660259 -0.10318482  0.60321224]]\n"
     ]
    }
   ],
   "source": [
    "a_eiv = np.array([[2, 2, 4], \n",
    "                  [1, 3, 5],\n",
    "                  [2, 3, 4]])\n",
    "w, v = eig(a_eiv)\n",
    "print(f'Eigenvalue: {w}')\n",
    "print('Eigenvector:')\n",
    "print(np.stack(v))"
   ]
  },
  {
   "cell_type": "code",
   "execution_count": null,
   "id": "7ec9e795",
   "metadata": {},
   "outputs": [],
   "source": []
  }
 ],
 "metadata": {
  "kernelspec": {
   "display_name": "Python 3 (ipykernel)",
   "language": "python",
   "name": "python3"
  },
  "language_info": {
   "codemirror_mode": {
    "name": "ipython",
    "version": 3
   },
   "file_extension": ".py",
   "mimetype": "text/x-python",
   "name": "python",
   "nbconvert_exporter": "python",
   "pygments_lexer": "ipython3",
   "version": "3.10.4"
  }
 },
 "nbformat": 4,
 "nbformat_minor": 5
}
