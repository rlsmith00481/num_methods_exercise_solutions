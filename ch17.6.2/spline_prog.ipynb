{
 "cells": [
  {
   "cell_type": "code",
   "execution_count": 4,
   "id": "fd083469",
   "metadata": {},
   "outputs": [
    {
     "name": "stdout",
     "output_type": "stream",
     "text": [
      "[[ 0.  0.  0.  1.  0.  0.  0.  0.]\n",
      " [ 0.  0.  0.  0.  1.  1.  1.  1.]\n",
      " [ 1.  1.  1.  1.  0.  0.  0.  0.]\n",
      " [ 0.  0.  0.  0.  8.  4.  2.  1.]\n",
      " [ 3.  2.  1.  0. -3. -2. -1.  0.]\n",
      " [ 6.  2.  0.  0. -6. -2.  0.  0.]\n",
      " [ 0.  2.  0.  0.  0.  0.  0.  0.]\n",
      " [ 0.  0.  0.  0. 12.  2.  0.  0.]]\n",
      "[1 3 3 2 0 0 0 0]\n"
     ]
    }
   ],
   "source": [
    "import numpy as np\n",
    "x = np.array([0, 1, 2])\n",
    "y = np.array([1, 3, 2])\n",
    "\n",
    "n = len(x)\n",
    "num = 4*(n-1)\n",
    "yo = [0]*num\n",
    "for i in range(int(num/2/2)):\n",
    "    yo[i] = y[i]\n",
    "    yo[i+2] = y[i+1]\n",
    "yo = np.array(yo)\n",
    "co = np.zeros((num, num))\n",
    "for j in range(0, 1):\n",
    "    for i in range(0, 4):\n",
    "        r1 = x[j]**(i+1)\n",
    "        co[j, i] = r1\n",
    "        if i == 3:\n",
    "            co[j,i] = 1\n",
    "for j in range(1, 2):\n",
    "    for i in range(4, 8):\n",
    "        r1 = x[j]**(i+1) \n",
    "        co[j, i] = r1\n",
    "        if i == 7:\n",
    "            co[j,i] = 1\n",
    "for j in range(2, 3):\n",
    "    for i in range(0, 4):\n",
    "        r1 = x[j-1]**(i+1)\n",
    "        co[j, i] = r1\n",
    "        if i == 3:\n",
    "            co[j,i] = 1\n",
    "for j in range(3, 4):\n",
    "    for i in range(4, 8):\n",
    "        r1 = x[j-1]**(7-i)\n",
    "        co[j, i] = r1\n",
    "        if i == 7:\n",
    "            co[j,i] = 1\n",
    "for j in range(4, 5):\n",
    "    for i in range(0, 4):\n",
    "        r1 = (3-i)*x[j-3]**(3-i)\n",
    "        co[j, i] = r1\n",
    "        if i == 2:\n",
    "            co[j,i] = 1\n",
    "    for i in range(4, 8):\n",
    "        r1 = -(7-i)*x[j-3]**(7-i)\n",
    "        co[j, i] = r1\n",
    "for j in range(5, 6):\n",
    "    for i in range(0, 2):\n",
    "        r1 = 6*x[j-4]\n",
    "        co[j, i] = r1\n",
    "        if i == 1:\n",
    "            co[j,i] = 2\n",
    "    for i in range(4, 6):\n",
    "        r1 = -6*x[j-4]\n",
    "        co[j, i] = r1\n",
    "        if i == 5:\n",
    "            co[j,i] = -2\n",
    "for j in range(6, 7):\n",
    "    for i in range(0, 2):\n",
    "        r1 = 6*x[j-6]\n",
    "        r2 = 6*x[j-4]\n",
    "        co[j, i] = r1\n",
    "        co[j+1, i+4] = r2\n",
    "        if i == 1:\n",
    "            co[j,i] = 2\n",
    "            co[j+1,i+4] = 2\n",
    "print(co)\n",
    "print(yo)\n",
    "coef = np.dot(np.linalg.inv(co), yo)"
   ]
  },
  {
   "cell_type": "code",
   "execution_count": 5,
   "id": "447f1478",
   "metadata": {},
   "outputs": [
    {
     "data": {
      "text/plain": [
       "array([-0.75,  0.  ,  2.75,  1.  ,  0.75, -4.5 ,  7.25, -0.5 ])"
      ]
     },
     "execution_count": 5,
     "metadata": {},
     "output_type": "execute_result"
    }
   ],
   "source": [
    "coef"
   ]
  },
  {
   "cell_type": "code",
   "execution_count": 160,
   "id": "1d7fa450",
   "metadata": {},
   "outputs": [
    {
     "data": {
      "text/plain": [
       "array([[ 0.,  0.,  0.,  1.,  0.,  0.,  0.,  0.],\n",
       "       [ 0.,  0.,  0.,  0.,  1.,  1.,  1.,  1.],\n",
       "       [ 1.,  1.,  1.,  1.,  0.,  0.,  0.,  0.],\n",
       "       [ 0.,  0.,  0.,  0.,  8.,  4.,  2.,  1.],\n",
       "       [ 3.,  2.,  1.,  0., -3., -2., -1.,  0.],\n",
       "       [ 6.,  2.,  0.,  0., -6.,  2.,  0.,  0.],\n",
       "       [ 0.,  2.,  0.,  0.,  0.,  0.,  0.,  0.],\n",
       "       [ 0.,  0.,  0.,  0.,  6.,  2.,  0.,  0.]])"
      ]
     },
     "execution_count": 160,
     "metadata": {},
     "output_type": "execute_result"
    }
   ],
   "source": [
    "co"
   ]
  },
  {
   "cell_type": "code",
   "execution_count": null,
   "id": "ccded2dd",
   "metadata": {},
   "outputs": [],
   "source": []
  }
 ],
 "metadata": {
  "kernelspec": {
   "display_name": "Python 3 (ipykernel)",
   "language": "python",
   "name": "python3"
  },
  "language_info": {
   "codemirror_mode": {
    "name": "ipython",
    "version": 3
   },
   "file_extension": ".py",
   "mimetype": "text/x-python",
   "name": "python",
   "nbconvert_exporter": "python",
   "pygments_lexer": "ipython3",
   "version": "3.10.4"
  }
 },
 "nbformat": 4,
 "nbformat_minor": 5
}
