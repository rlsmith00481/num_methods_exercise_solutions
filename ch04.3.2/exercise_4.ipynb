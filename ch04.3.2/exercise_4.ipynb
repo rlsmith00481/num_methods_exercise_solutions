{
 "cells": [
  {
   "cell_type": "code",
   "execution_count": 2,
   "id": "13ebf5f4",
   "metadata": {},
   "outputs": [
    {
     "name": "stdout",
     "output_type": "stream",
     "text": [
      "All four cases where the number of people in the dinner party changed from 3, 7, 9, 12 and the bill was $109.29\n",
      "The tip amounts varied based on number of people in the party from 25%, 20%, 18%, and 15%. \n",
      "                    Tips   \n",
      "Numbers in Party           \n",
      "3                 16.393500\n",
      "7                 45.901800\n",
      "9                 59.612727\n",
      "12                91.075000\n"
     ]
    },
    {
     "data": {
      "text/html": [
       "<style type=\"text/css\">\n",
       "#T_34a5b_row0_col0, #T_34a5b_row1_col0, #T_34a5b_row2_col0, #T_34a5b_row3_col0 {\n",
       "  text-align: center;\n",
       "}\n",
       "</style>\n",
       "<table id=\"T_34a5b\">\n",
       "  <thead>\n",
       "    <tr>\n",
       "      <th class=\"blank level0\" >&nbsp;</th>\n",
       "      <th id=\"T_34a5b_level0_col0\" class=\"col_heading level0 col0\" >Tips</th>\n",
       "    </tr>\n",
       "    <tr>\n",
       "      <th class=\"index_name level0\" >Numbers in Party</th>\n",
       "      <th class=\"blank col0\" >&nbsp;</th>\n",
       "    </tr>\n",
       "  </thead>\n",
       "  <tbody>\n",
       "    <tr>\n",
       "      <th id=\"T_34a5b_level0_row0\" class=\"row_heading level0 row0\" >3</th>\n",
       "      <td id=\"T_34a5b_row0_col0\" class=\"data row0 col0\" >16.393500</td>\n",
       "    </tr>\n",
       "    <tr>\n",
       "      <th id=\"T_34a5b_level0_row1\" class=\"row_heading level0 row1\" >7</th>\n",
       "      <td id=\"T_34a5b_row1_col0\" class=\"data row1 col0\" >45.901800</td>\n",
       "    </tr>\n",
       "    <tr>\n",
       "      <th id=\"T_34a5b_level0_row2\" class=\"row_heading level0 row2\" >9</th>\n",
       "      <td id=\"T_34a5b_row2_col0\" class=\"data row2 col0\" >59.612727</td>\n",
       "    </tr>\n",
       "    <tr>\n",
       "      <th id=\"T_34a5b_level0_row3\" class=\"row_heading level0 row3\" >12</th>\n",
       "      <td id=\"T_34a5b_row3_col0\" class=\"data row3 col0\" >91.075000</td>\n",
       "    </tr>\n",
       "  </tbody>\n",
       "</table>\n"
      ],
      "text/plain": [
       "<pandas.io.formats.style.Styler at 0x1921d2d1600>"
      ]
     },
     "metadata": {},
     "output_type": "display_data"
    }
   ],
   "source": [
    "import pandas as pd\n",
    "import numpy as np\n",
    "from IPython.display import display_html\n",
    "from IPython.display import display, HTML\n",
    "from itertools import chain,cycle\n",
    "import matplotlib.pyplot as plt\n",
    "from matplotlib.patches import Polygon\n",
    "import cmath\n",
    "import math\n",
    "\n",
    "\n",
    "def display_side_by_side(*args,titles=cycle([''])):\n",
    "    html_str=''\n",
    "    for df,title in zip(args, chain(titles,cycle(['</br>'])) ):\n",
    "        html_str+='<th style=\"text-align:center\"><td style=\"vertical-align:top\">'\n",
    "        html_str+=f'<h2 style=\"text-align: center;\">{title}</h2>'\n",
    "        html_str+=df.to_html().replace('table','table style=\"display:inline\"')\n",
    "        html_str+='</td></th>'\n",
    "    display_html(html_str,raw=True)\n",
    "\n",
    "\n",
    "# EX1\n",
    "\n",
    "\n",
    "def tip_calc(bill, party=4):\n",
    "    if party > 11:\n",
    "        tip = bill * 0.25\n",
    "    elif party <= 11 and party > 8:\n",
    "        tip = bill * 0.20\n",
    "    elif party <= 8 and party > 6:\n",
    "        tip = bill * 0.18\n",
    "    elif party <= 6:\n",
    "        tip = bill * 0.15\n",
    "    else:\n",
    "        tip = bill * 0.15\n",
    "    return tip\n",
    "\n",
    "\n",
    "\n",
    "pd.set_option('display.colheader_justify', 'center')\n",
    "per = 109.29/3\n",
    "tips_1 = tip_calc(109.29, 3)\n",
    "tips_2 = tip_calc((per*7), 7)\n",
    "tips_3 = tip_calc(per*9/1.1, 9)\n",
    "tips_4 = tip_calc(per*12/1.2, 12)\n",
    "df_tips = pd.DataFrame({'Numbers in Party': [3, 7, 9, 12],\n",
    "                        'Tips': [tips_1, tips_2, tips_3, tips_4]})\\\n",
    "                        .set_index('Numbers in Party')\n",
    "print(\"All four cases where the number of people in the dinner party\"\n",
    "      \" changed from 3, 7, 9, 12 and the bill was $109.29\")\n",
    "print(\"The tip amounts varied based on number of people in the party from 25%,\"\n",
    "      \" 20%, 18%, and 15%. \")\n",
    "print(df_tips)\n",
    "\n",
    "display(df_tips.style.set_properties(**{'text-align': 'center'}))"
   ]
  },
  {
   "cell_type": "code",
   "execution_count": 3,
   "id": "3dc8da03",
   "metadata": {},
   "outputs": [],
   "source": [
    "# EX2\n",
    "\n",
    "\n",
    "def my_mult_operration(a, b, operations=str(r'')):\n",
    "       \n",
    "    if operations == 'plus':\n",
    "        return np.add(a, b)\n",
    "    if operations == 'minus':\n",
    "        return np.subtract(a, b)\n",
    "    if operations == 'mult':\n",
    "        return np.multiply(a, b)\n",
    "    if operations == 'div':\n",
    "        return np.divide(a, b)\n",
    "    if operations == 'pow':\n",
    "        return np.power(a, b)\n",
    "    else:\n",
    "        print(\"The choices are 'plus' to add, 'minus' to subtract, 'mult' to multiply, 'div' to divide, 'pow' for a^b.\")\n",
    "        print(\"For the function my_mult_operration(a = <array>, b = <array>, operations = <'str'>.\")\n",
    "        print('The operation was not one of the choices listed. Please enter one of the choices listed.')\n"
   ]
  },
  {
   "cell_type": "code",
   "execution_count": 4,
   "id": "67ebd4ad",
   "metadata": {},
   "outputs": [
    {
     "name": "stdout",
     "output_type": "stream",
     "text": [
      "         Input Arrays\n",
      "Array_a  [1, 2, 3, 4]\n",
      "Array_b  [2, 3, 4, 5]\n",
      " Add_a+b  Subtract_a-b  Multiply_a*b  Divide_a/b  Exponential_a^b\n",
      "   3           -1             2         0.500             1      \n",
      "   5           -1             6         0.667             8      \n",
      "   7           -1            12         0.750            81      \n",
      "   9           -1            20         0.800          1024      \n"
     ]
    },
    {
     "data": {
      "text/html": [
       "<th style=\"text-align:center\"><td style=\"vertical-align:top\"><h2 style=\"text-align: center;\"></h2><style type=\"text/css\">\n",
       "#T_50da6_row0_col0, #T_50da6_row1_col0 {\n",
       "  text-align: center;\n",
       "}\n",
       "</style>\n",
       "<table style=\"display:inline\" id=\"T_50da6\">\n",
       "  <thead>\n",
       "    <tr>\n",
       "      <th class=\"blank level0\" >&nbsp;</th>\n",
       "      <th id=\"T_50da6_level0_col0\" class=\"col_heading level0 col0\" >Input Arrays</th>\n",
       "    </tr>\n",
       "  </thead>\n",
       "  <tbody>\n",
       "    <tr>\n",
       "      <th id=\"T_50da6_level0_row0\" class=\"row_heading level0 row0\" >Array_a</th>\n",
       "      <td id=\"T_50da6_row0_col0\" class=\"data row0 col0\" >[1 2 3 4]</td>\n",
       "    </tr>\n",
       "    <tr>\n",
       "      <th id=\"T_50da6_level0_row1\" class=\"row_heading level0 row1\" >Array_b</th>\n",
       "      <td id=\"T_50da6_row1_col0\" class=\"data row1 col0\" >[2 3 4 5]</td>\n",
       "    </tr>\n",
       "  </tbody>\n",
       "</table style=\"display:inline\">\n",
       "</td></th><th style=\"text-align:center\"><td style=\"vertical-align:top\"><h2 style=\"text-align: center;\"></h2><style type=\"text/css\">\n",
       "#T_e59b7_row0_col0, #T_e59b7_row0_col1, #T_e59b7_row0_col2, #T_e59b7_row0_col3, #T_e59b7_row0_col4, #T_e59b7_row1_col0, #T_e59b7_row1_col1, #T_e59b7_row1_col2, #T_e59b7_row1_col3, #T_e59b7_row1_col4, #T_e59b7_row2_col0, #T_e59b7_row2_col1, #T_e59b7_row2_col2, #T_e59b7_row2_col3, #T_e59b7_row2_col4, #T_e59b7_row3_col0, #T_e59b7_row3_col1, #T_e59b7_row3_col2, #T_e59b7_row3_col3, #T_e59b7_row3_col4 {\n",
       "  text-align: center;\n",
       "}\n",
       "</style>\n",
       "<table style=\"display:inline\" id=\"T_e59b7\">\n",
       "  <thead>\n",
       "    <tr>\n",
       "      <th id=\"T_e59b7_level0_col0\" class=\"col_heading level0 col0\" >Add_a+b</th>\n",
       "      <th id=\"T_e59b7_level0_col1\" class=\"col_heading level0 col1\" >Subtract_a-b</th>\n",
       "      <th id=\"T_e59b7_level0_col2\" class=\"col_heading level0 col2\" >Multiply_a*b</th>\n",
       "      <th id=\"T_e59b7_level0_col3\" class=\"col_heading level0 col3\" >Divide_a/b</th>\n",
       "      <th id=\"T_e59b7_level0_col4\" class=\"col_heading level0 col4\" >Exponential_a^b</th>\n",
       "    </tr>\n",
       "  </thead>\n",
       "  <tbody>\n",
       "    <tr>\n",
       "      <td id=\"T_e59b7_row0_col0\" class=\"data row0 col0\" >3</td>\n",
       "      <td id=\"T_e59b7_row0_col1\" class=\"data row0 col1\" >-1</td>\n",
       "      <td id=\"T_e59b7_row0_col2\" class=\"data row0 col2\" >2</td>\n",
       "      <td id=\"T_e59b7_row0_col3\" class=\"data row0 col3\" >0.500</td>\n",
       "      <td id=\"T_e59b7_row0_col4\" class=\"data row0 col4\" >1</td>\n",
       "    </tr>\n",
       "    <tr>\n",
       "      <td id=\"T_e59b7_row1_col0\" class=\"data row1 col0\" >5</td>\n",
       "      <td id=\"T_e59b7_row1_col1\" class=\"data row1 col1\" >-1</td>\n",
       "      <td id=\"T_e59b7_row1_col2\" class=\"data row1 col2\" >6</td>\n",
       "      <td id=\"T_e59b7_row1_col3\" class=\"data row1 col3\" >0.667</td>\n",
       "      <td id=\"T_e59b7_row1_col4\" class=\"data row1 col4\" >8</td>\n",
       "    </tr>\n",
       "    <tr>\n",
       "      <td id=\"T_e59b7_row2_col0\" class=\"data row2 col0\" >7</td>\n",
       "      <td id=\"T_e59b7_row2_col1\" class=\"data row2 col1\" >-1</td>\n",
       "      <td id=\"T_e59b7_row2_col2\" class=\"data row2 col2\" >12</td>\n",
       "      <td id=\"T_e59b7_row2_col3\" class=\"data row2 col3\" >0.750</td>\n",
       "      <td id=\"T_e59b7_row2_col4\" class=\"data row2 col4\" >81</td>\n",
       "    </tr>\n",
       "    <tr>\n",
       "      <td id=\"T_e59b7_row3_col0\" class=\"data row3 col0\" >9</td>\n",
       "      <td id=\"T_e59b7_row3_col1\" class=\"data row3 col1\" >-1</td>\n",
       "      <td id=\"T_e59b7_row3_col2\" class=\"data row3 col2\" >20</td>\n",
       "      <td id=\"T_e59b7_row3_col3\" class=\"data row3 col3\" >0.800</td>\n",
       "      <td id=\"T_e59b7_row3_col4\" class=\"data row3 col4\" >1024</td>\n",
       "    </tr>\n",
       "  </tbody>\n",
       "</table style=\"display:inline\">\n",
       "</td></th>"
      ]
     },
     "metadata": {},
     "output_type": "display_data"
    }
   ],
   "source": [
    "x = np.array([1, 2, 3, 4])\n",
    "y = np.array([2, 3, 4, 5])\n",
    "df_input = pd.DataFrame({'Array_a': [x], 'Array_b': [y]}, index=['Input Arrays'])\n",
    "df_input = df_input.T\n",
    "case1 = my_mult_operration(x, y, 'plus')\n",
    "case2 = my_mult_operration(x, y, 'minus')\n",
    "case3 = my_mult_operration(x, y, 'mult')\n",
    "case4 = np.around(my_mult_operration(x, y, 'div'), 3)\n",
    "case5 = my_mult_operration(x, y, 'pow')\n",
    "df_operations = pd.DataFrame({'Add_a+b': case1, 'Subtract_a-b': case2, 'Multiply_a*b': case3,\n",
    "                        'Divide_a/b': case4, 'Exponential_a^b': case5})\n",
    "\n",
    "print(df_input)\n",
    "print(df_operations.to_string(index=False))\n",
    "\n",
    "display_side_by_side(df_input.style.set_properties(**{'text-align': 'center'}),\n",
    "                     df_operations.style.format(precision=0, formatter={('Divide_a/b'): \"{:.3f}\"})\n",
    "                     .set_properties(**{'text-align': 'center'}).hide(axis='index'))"
   ]
  },
  {
   "cell_type": "code",
   "execution_count": 5,
   "id": "e469884c",
   "metadata": {},
   "outputs": [
    {
     "data": {
      "image/png": "[encoded data removed]",
      "text/plain": [
       "<Figure size 432x288 with 1 Axes>"
      ]
     },
     "metadata": {
      "needs_background": "light"
     },
     "output_type": "display_data"
    },
    {
     "name": "stdout",
     "output_type": "stream",
     "text": [
      "The point is located on the border with coordinance of (0.5, 0.5).\n",
      "\n",
      "\n"
     ]
    },
    {
     "data": {
      "image/png": "[encoded data removed]",
      "text/plain": [
       "<Figure size 432x288 with 1 Axes>"
      ]
     },
     "metadata": {
      "needs_background": "light"
     },
     "output_type": "display_data"
    },
    {
     "name": "stdout",
     "output_type": "stream",
     "text": [
      "The point is located on the inside with coordinance of (0.25, 0.25).\n",
      "\n",
      "\n"
     ]
    },
    {
     "data": {
      "image/png": "[encoded data removed]",
      "text/plain": [
       "<Figure size 432x288 with 1 Axes>"
      ]
     },
     "metadata": {
      "needs_background": "light"
     },
     "output_type": "display_data"
    },
    {
     "name": "stdout",
     "output_type": "stream",
     "text": [
      "The point is located on the outside with coordinance of (0.6, 0.8).\n",
      "\n",
      "The function my_inside_triangle(x, y) finds points inside (inside)\n",
      "the triangle, on the lines (border), and those outside (outside) of the triangle.\n",
      "Just enter the (x, y) coordinance in the function and it will tell you where\n",
      "the point is located relative to the area of the triangle bound by (0, 0)(1, 0) and (0, 1).\n",
      "\n"
     ]
    }
   ],
   "source": [
    "# EX3 \n",
    "\n",
    "\n",
    "def my_inside_triangle(x, y):\n",
    "        if x <= 1 and x >= 0 and y <= 1 and y >= 0 and x <= 1-y: \n",
    "            # Test for all points inside the triangle\n",
    "            if x <= 1 and x >= 0 and y <= 1 and y >= 0 and x == 1-y: \n",
    "                # test for points on line (0, 1) to (1, 0), slope -1\n",
    "                where = 'border'\n",
    "            elif x <= 1 and x >= 0 and y == 0:\n",
    "                # test for points on the x axis from (0, 0) to (1, 0)\n",
    "                where ='border'\n",
    "            elif y <= 1 and y >= 0 and x == 0:\n",
    "                # test for points on the y axis from (0, 0) to (0, 1)\n",
    "                where ='border'\n",
    "            else:\n",
    "                where = 'inside'\n",
    "        else:\n",
    "            where = 'outside'\n",
    "\n",
    "        pts = np.array([[0,0], [1,0], [0,1]])\n",
    "        x = x\n",
    "        y = y\n",
    "        p = Polygon(pts, closed=False, fill=True, fc='green', ec='black')\n",
    "        ax = plt.gca()\n",
    "        ax.add_patch(p)\n",
    "        ax.set_xlim(-0.1, 1)\n",
    "        ax.set_ylim(-0.1, 1)\n",
    "        ax.grid()\n",
    "        ax.plot(x, y, marker=\"o\", markersize=10, markeredgecolor=\"red\", markerfacecolor=\"black\")\n",
    "        ax.annotate('(0.5, 0.5)',\n",
    "                xy=(0.5, 0.5), xycoords='data',\n",
    "                xytext=(5, 8), textcoords=('offset points'),\n",
    "                horizontalalignment='center',\n",
    "                verticalalignment='bottom')\n",
    "        ax.annotate('(0.25, 0.25)',\n",
    "                    xy=(0.25, 0.25), xycoords='data',\n",
    "                    xytext=(5, 8), textcoords=('offset points'),\n",
    "                    horizontalalignment='center',\n",
    "                    verticalalignment='bottom')\n",
    "        ax.annotate('(0.60, 0.80)',\n",
    "                    xy=(0.6, 0.8), xycoords='data',\n",
    "                    xytext=(5, 8), textcoords=('offset points'),\n",
    "                    horizontalalignment='center',\n",
    "                    verticalalignment='bottom')\n",
    "        plt.show()\n",
    "        return (where, x, y)\n",
    "    \n",
    "loc1, x1, y1 = my_inside_triangle(0.5, 0.5)\n",
    "print(f'The point is located on the {loc1} with coordinance of {x1, y1}.\\n\\n')\n",
    "loc2, x2, y2 = my_inside_triangle(0.25, 0.25)\n",
    "print(f'The point is located on the {loc2} with coordinance of {x2, y2}.\\n\\n')\n",
    "loc3, x3, y3 = my_inside_triangle(0.6, 0.8)\n",
    "print(f'The point is located on the {loc3} with coordinance of {x3, y3}.\\n')\n",
    "print('The function my_inside_triangle(x, y) finds points inside (inside)\\nthe triangle,'\n",
    "      ' on the lines (border), and those outside (outside) of the triangle.\\n'\n",
    "      'Just enter the (x, y) coordinance in the function and it will tell you where\\nthe'\n",
    "      ' point is located relative to the area of the triangle bound by (0, 0)(1, 0) and (0, 1).\\n')"
   ]
  },
  {
   "cell_type": "code",
   "execution_count": 12,
   "id": "45fc999c",
   "metadata": {},
   "outputs": [
    {
     "data": {
      "text/plain": [
       "array([1, 2, 0, 0, 0, 0, 0, 0, 0, 0])"
      ]
     },
     "metadata": {},
     "output_type": "display_data"
    },
    {
     "data": {
      "text/plain": [
       "array([ 1,  2,  3,  4,  5,  6,  7,  8,  9, 10])"
      ]
     },
     "metadata": {},
     "output_type": "display_data"
    },
    {
     "data": {
      "text/plain": [
       "array([ 3,  6,  9, 12,  0,  0,  0,  0,  0,  0])"
      ]
     },
     "metadata": {},
     "output_type": "display_data"
    },
    {
     "name": "stdout",
     "output_type": "stream",
     "text": [
      "The table below is for all four cases with if - else statements.\n",
      "Case 1     [1, 2, 0, 0, 0, 0, 0, 0, 0, 0]\n",
      "Case 2    [1, 2, 3, 4, 5, 6, 7, 8, 9, 10]\n",
      "Case 3    [3, 6, 9, 12, 0, 0, 0, 0, 0, 0]\n"
     ]
    }
   ],
   "source": [
    "# EX4\n",
    "\n",
    "def my_make_size10(x):\n",
    "    if len(x) > 10:\n",
    "        x = x[0:10]\n",
    "    elif len(x) > 0 and len(x) < 10:\n",
    "        x = np.pad(x, (0, 10-len(x)), 'constant', constant_values=(0))\n",
    "    return x\n",
    "\n",
    "\n",
    "c1 = my_make_size10(np.array(np.arange(1,3)))\n",
    "c2 = my_make_size10(np.array(np.arange(1,15)))\n",
    "c3 = my_make_size10(np.array(np.arange(3,13,3)))\n",
    "sizes1 = pd.Series({'Case 1': c1, 'Case 2': c2, 'Case 3': c3})\n",
    "display(c1)\n",
    "display(c2)\n",
    "display(c3)\n",
    "print(\"The table below is for all four cases with if - else statements.\")\n",
    "print(sizes1.to_string(), '\\n')"
   ]
  },
  {
   "cell_type": "code",
   "execution_count": 14,
   "id": "2ba7028b",
   "metadata": {},
   "outputs": [
    {
     "data": {
      "text/plain": [
       "array([1, 2, 0, 0, 0, 0, 0, 0, 0, 0])"
      ]
     },
     "metadata": {},
     "output_type": "display_data"
    },
    {
     "data": {
      "text/plain": [
       "array([ 1,  2,  3,  4,  5,  6,  7,  8,  9, 10])"
      ]
     },
     "metadata": {},
     "output_type": "display_data"
    },
    {
     "data": {
      "text/plain": [
       "array([ 3,  6,  9, 12,  0,  0,  0,  0,  0,  0])"
      ]
     },
     "metadata": {},
     "output_type": "display_data"
    },
    {
     "name": "stdout",
     "output_type": "stream",
     "text": [
      "The table below is for all four cases without if - else statements.\n",
      "Case 1     [1, 2, 0, 0, 0, 0, 0, 0, 0, 0]\n",
      "Case 2    [1, 2, 3, 4, 5, 6, 7, 8, 9, 10]\n",
      "Case 3    [3, 6, 9, 12, 0, 0, 0, 0, 0, 0] \n",
      "\n"
     ]
    }
   ],
   "source": [
    "# EX5\n",
    "\n",
    "def my_make_size10(x):\n",
    "    x = x[0:10]\n",
    "    x = np.pad(x, (0, 10-len(x)), 'constant', constant_values=(0))\n",
    "    return x\n",
    "\n",
    "c11 = my_make_size10(np.array(np.arange(1,3)))\n",
    "c22 = my_make_size10(np.array(np.arange(1,15)))\n",
    "c33 = my_make_size10(np.array(np.arange(3,13,3)))\n",
    "sizes2 = pd.Series({'Case 1': c11, 'Case 2': c22, 'Case 3': c33})\n",
    "display(c11)\n",
    "display(c22)\n",
    "display(c33)\n",
    "print(\"The table below is for all four cases without if - else statements.\")\n",
    "print(sizes2.to_string(), '\\n')"
   ]
  },
  {
   "cell_type": "code",
   "execution_count": 51,
   "id": "3dae4c72",
   "metadata": {
    "scrolled": true
   },
   "outputs": [
    {
     "data": {
      "text/html": [
       "<style type=\"text/css\">\n",
       "#T_f4ab7_row0_col0, #T_f4ab7_row0_col1, #T_f4ab7_row1_col0, #T_f4ab7_row1_col1 {\n",
       "  text-align: center;\n",
       "}\n",
       "</style>\n",
       "<table id=\"T_f4ab7\">\n",
       "  <thead>\n",
       "    <tr>\n",
       "      <th id=\"T_f4ab7_level0_col0\" class=\"col_heading level0 col0\" >Average</th>\n",
       "      <th id=\"T_f4ab7_level0_col1\" class=\"col_heading level0 col1\" >Grade</th>\n",
       "    </tr>\n",
       "  </thead>\n",
       "  <tbody>\n",
       "    <tr>\n",
       "      <td id=\"T_f4ab7_row0_col0\" class=\"data row0 col0\" >97%</td>\n",
       "      <td id=\"T_f4ab7_row0_col1\" class=\"data row0 col1\" >A+</td>\n",
       "    </tr>\n",
       "    <tr>\n",
       "      <td id=\"T_f4ab7_row1_col0\" class=\"data row1 col0\" >84%</td>\n",
       "      <td id=\"T_f4ab7_row1_col1\" class=\"data row1 col1\" >B</td>\n",
       "    </tr>\n",
       "  </tbody>\n",
       "</table>\n"
      ],
      "text/plain": [
       "<pandas.io.formats.style.Styler at 0x228db952e90>"
      ]
     },
     "metadata": {},
     "output_type": "display_data"
    },
    {
     "name": "stdout",
     "output_type": "stream",
     "text": [
      "Grades bases on average percents.\n",
      "Average Grade\n",
      "  97%     A+ \n",
      "  84%      B  \n",
      "\n"
     ]
    }
   ],
   "source": [
    "# EX6\n",
    "\n",
    "\n",
    "def my_letter_grader(percent=\"C\"):\n",
    "    if percent >= 97:\n",
    "        grade = 'A+'\n",
    "    elif percent > 93:\n",
    "        grade = 'A'\n",
    "    elif percent > 90:\n",
    "        grade = 'A-'\n",
    "    elif percent > 87:\n",
    "        grade = 'B+'\n",
    "    elif percent > 83:\n",
    "        grade = 'B'\n",
    "    elif percent > 80:\n",
    "        grade = 'B-'\n",
    "    elif percent > 77:\n",
    "        grade = 'C+'\n",
    "    elif percent > 73:\n",
    "        grade = 'C'\n",
    "    elif percent > 70:\n",
    "        grade = 'C-'\n",
    "    elif percent > 67:\n",
    "        grade = 'D+'\n",
    "    elif percent > 73:\n",
    "        grade = 'D'\n",
    "    elif percent > 60:\n",
    "        grade = 'D-'\n",
    "    else:\n",
    "        grade = 'F'\n",
    "    return grade\n",
    "\n",
    "\n",
    "Cas_1 = my_letter_grader(97)\n",
    "Cas_2 = my_letter_grader(84)\n",
    "grades = pd.DataFrame({'Average': ['97%', '84%'],'Grade': [Cas_1, Cas_2]})\n",
    "display(grades.style.set_properties(**{'text-align': 'center'}).hide(axis='index'))\n",
    "print('Grades bases on average percents.')\n",
    "print(grades.to_string(index=False), '\\n')"
   ]
  },
  {
   "cell_type": "code",
   "execution_count": 125,
   "id": "533acf2c",
   "metadata": {
    "scrolled": true
   },
   "outputs": [
    {
     "data": {
      "text/html": [
       "<style type=\"text/css\">\n",
       "#T_5df33_row0_col0, #T_5df33_row0_col1, #T_5df33_row1_col0, #T_5df33_row1_col1, #T_5df33_row2_col0, #T_5df33_row2_col1 {\n",
       "  text-align: center;\n",
       "}\n",
       "</style>\n",
       "<table id=\"T_5df33\">\n",
       "  <thead>\n",
       "    <tr>\n",
       "      <th id=\"T_5df33_level0_col0\" class=\"col_heading level0 col0\" >4 Hour Temps °F</th>\n",
       "      <th id=\"T_5df33_level0_col1\" class=\"col_heading level0 col1\" >Condition</th>\n",
       "    </tr>\n",
       "  </thead>\n",
       "  <tbody>\n",
       "    <tr>\n",
       "      <td id=\"T_5df33_row0_col0\" class=\"data row0 col0\" >[94, 96, 90]</td>\n",
       "      <td id=\"T_5df33_row0_col1\" class=\"data row0 col1\" >Normal</td>\n",
       "    </tr>\n",
       "    <tr>\n",
       "      <td id=\"T_5df33_row1_col0\" class=\"data row1 col0\" >[94, 96, 80]</td>\n",
       "      <td id=\"T_5df33_row1_col1\" class=\"data row1 col1\" >-ALARM!- </td>\n",
       "    </tr>\n",
       "    <tr>\n",
       "      <td id=\"T_5df33_row2_col0\" class=\"data row2 col0\" >[100, 96, 90]</td>\n",
       "      <td id=\"T_5df33_row2_col1\" class=\"data row2 col1\" >Normal</td>\n",
       "    </tr>\n",
       "  </tbody>\n",
       "</table>\n"
      ],
      "text/plain": [
       "<pandas.io.formats.style.Styler at 0x228dcb67a30>"
      ]
     },
     "metadata": {},
     "output_type": "display_data"
    },
    {
     "name": "stdout",
     "output_type": "stream",
     "text": [
      "Daily checks on alarm system.\n",
      "4 Hour Temps °F Condition\n",
      "  [94, 96, 90]     Normal\n",
      "  [94, 96, 80]  -ALARM!- \n",
      " [100, 96, 90]     Normal \n",
      "\n"
     ]
    }
   ],
   "source": [
    "# EX7\n",
    "\n",
    "\n",
    "def my_nuke_alarm(s1, s2, s3):\n",
    "    \"\"\"This function used data from three temperature sensors (s1, s2, s3) and evaulates \n",
    "    if they exceed 10° change.\n",
    "    If they do not no alarm but if the difference between any of them is > 10° then alarm.\"\"\"\n",
    "    if abs(s1-s2) > 10 or abs(s2-s3) > 10 or abs(s1-s3) > 10:\n",
    "        responce = \"-ALARM!- \"\n",
    "    else:\n",
    "        responce = 'Normal'\n",
    "    return responce\n",
    "\n",
    "nuk1 = my_nuke_alarm(94, 96, 90)\n",
    "nuk2 = my_nuke_alarm(94, 96, 80)\n",
    "nuk3 = my_nuke_alarm(100, 96, 90)\n",
    "alarms = pd.DataFrame({'4 Hour Temps °F': [[94, 96, 90], [94, 96, 80], [100, 96, 90]],'Condition': [nuk1, nuk2, nuk3]})\n",
    "pd.set_option('display.colheader_justify', 'center')\n",
    "display(alarms.style.set_properties(**{'text-align': 'center'}).hide(axis='index'))\n",
    "print('Daily checks on alarm system.')\n",
    "print(alarms.to_string(index=False), '\\n')"
   ]
  },
  {
   "cell_type": "code",
   "execution_count": 119,
   "id": "03c6c09e",
   "metadata": {},
   "outputs": [
    {
     "name": "stdout",
     "output_type": "stream",
     "text": [
      "Roots to the quadratic equation Q(x) = ax2 + bx + c.\n"
     ]
    },
    {
     "data": {
      "text/html": [
       "<style type=\"text/css\">\n",
       "#T_173d4_row0_col0, #T_173d4_row0_col1, #T_173d4_row1_col0, #T_173d4_row1_col1, #T_173d4_row2_col0, #T_173d4_row2_col1 {\n",
       "  text-align: right;\n",
       "}\n",
       "</style>\n",
       "<table id=\"T_173d4\">\n",
       "  <thead>\n",
       "    <tr>\n",
       "      <th id=\"T_173d4_level0_col0\" class=\"col_heading level0 col0\" >Coefficients a, b, c</th>\n",
       "      <th id=\"T_173d4_level0_col1\" class=\"col_heading level0 col1\" >Number of Roots, Roots</th>\n",
       "    </tr>\n",
       "  </thead>\n",
       "  <tbody>\n",
       "    <tr>\n",
       "      <td id=\"T_173d4_row0_col0\" class=\"data row0 col0\" >(1, 0, -9)</td>\n",
       "      <td id=\"T_173d4_row0_col1\" class=\"data row0 col1\" >(2, ['root 1: 3.000', 'root 2: -3.000'])</td>\n",
       "    </tr>\n",
       "    <tr>\n",
       "      <td id=\"T_173d4_row1_col0\" class=\"data row1 col0\" >(3, 4, 5)</td>\n",
       "      <td id=\"T_173d4_row1_col1\" class=\"data row1 col1\" >(-2, ['root 1: -0.6667+1.1055j', 'root 2: -0.6667-1.1055j'])</td>\n",
       "    </tr>\n",
       "    <tr>\n",
       "      <td id=\"T_173d4_row2_col0\" class=\"data row2 col0\" >(2, 4, 2)</td>\n",
       "      <td id=\"T_173d4_row2_col1\" class=\"data row2 col1\" >(1, ['root: -1.00'])</td>\n",
       "    </tr>\n",
       "  </tbody>\n",
       "</table>\n"
      ],
      "text/plain": [
       "<pandas.io.formats.style.Styler at 0x228d6b450f0>"
      ]
     },
     "metadata": {},
     "output_type": "display_data"
    },
    {
     "name": "stdout",
     "output_type": "stream",
     "text": [
      "Coefficients a, b, c                                   Number of Roots, Roots\n",
      "          (1, 0, -9)                     (2, [root 1: 3.000, root 2: -3.000])\n",
      "           (3, 4, 5) (-2, [root 1: -0.6667+1.1055j, root 2: -0.6667-1.1055j])\n",
      "           (2, 4, 2)                                       (1, [root: -1.00]) \n",
      "\n"
     ]
    }
   ],
   "source": [
    "# EX8\n",
    "# Solving the quadratic equations Q(x) = ax2 + bx + c\n",
    "\n",
    "\n",
    "def my_n_roots(a, b, c):\n",
    "    \"\"\"This function will solve for roots to the quadratic equations Q(x) = ax2 + bx + c.\n",
    "    it is based on quadratic formula r = (-b ± √b² - 4ac)/2a where (√b² - 4ac) is the determinate.\n",
    "    a, b, c are the Coefficients used in the function.\"\"\"\n",
    "    det = (b**2) - 4*a*c # Calculate the determinate.\n",
    "    if (b**2) > (4*a*c): # Returns a real number.\n",
    "        r1 = (-b + math.sqrt(det))/(2*a)\n",
    "        r2 = (-b - math.sqrt(det))/(2*a)\n",
    "        r1 = 'root 1: {:.3f}'.format(r1) # Format the number & include root r1\n",
    "        r2 = 'root 2: {:.3f}'.format(r2)\n",
    "        r = np.array([r1, r2]).tolist()\n",
    "        # The tolist removes the dtype from th printout.\n",
    "        n_roots = 2\n",
    "    elif (b**2) < (4*a*c): # Returns a imaginary number.\n",
    "        r1 = (-b + cmath.sqrt(det))/(2*a)\n",
    "        r2 = (-b - cmath.sqrt(det))/(2*a)\n",
    "        r1 = 'root 1: {:.4f}'.format(r1)\n",
    "        r2 = 'root 2: {:.4f}'.format(r2)\n",
    "        r = np.array([r1, r2]).tolist()\n",
    "        # The tolist removes the dtype from th printout.\n",
    "        n_roots = -2\n",
    "    else:                 # Returns a single root\n",
    "        r1 = (-b + math.sqrt(det))/(2*a)\n",
    "        r2 = (-b - math.sqrt(det))/(2*a)\n",
    "        if r1 == r2:\n",
    "            r1 = 'root: {:.2f}'.format(r1)\n",
    "            r = np.array([r1]).tolist()\n",
    "            # The tolist removes the dtype from th printout.\n",
    "            n_roots = 1\n",
    "    return(n_roots, r)\n",
    "\n",
    "sol1 = my_n_roots(1, 0, -9)\n",
    "sol2 = my_n_roots(3, 4, 5)\n",
    "sol3 = my_n_roots(2, 4, 2)\n",
    "pd.set_option('display.colheader_justify', 'right')\n",
    "roots = pd.DataFrame({'Coefficients a, b, c': [(1, 0, -9), (3, 4, 5), (2, 4, 2)],'Number of Roots, Roots': [sol1, sol2, sol3]})\n",
    "print('Roots to the quadratic equation Q(x) = ax2 + bx + c.\\n where Q(x) = 0, x = roots')\n",
    "display(roots.style.set_properties(**{'text-align': 'right'}).hide(axis='index'))\n",
    "print(roots.to_string(index=False), '\\n')\n"
   ]
  },
  {
   "cell_type": "code",
   "execution_count": 157,
   "id": "5a8f7783",
   "metadata": {},
   "outputs": [
    {
     "name": "stdout",
     "output_type": "stream",
     "text": [
      "Split function\n"
     ]
    },
    {
     "data": {
      "text/html": [
       "<style type=\"text/css\">\n",
       "#T_6730b_row0_col0, #T_6730b_row0_col1, #T_6730b_row0_col2, #T_6730b_row1_col0, #T_6730b_row1_col1, #T_6730b_row1_col2 {\n",
       "  text-align: right;\n",
       "}\n",
       "</style>\n",
       "<table id=\"T_6730b\">\n",
       "  <thead>\n",
       "    <tr>\n",
       "      <th id=\"T_6730b_level0_col0\" class=\"col_heading level0 col0\" >(2, 4, 1) </th>\n",
       "      <th id=\"T_6730b_level0_col1\" class=\"col_heading level0 col1\" >(2, 4, 3)</th>\n",
       "      <th id=\"T_6730b_level0_col2\" class=\"col_heading level0 col2\" >(2, 4, 5)</th>\n",
       "    </tr>\n",
       "  </thead>\n",
       "  <tbody>\n",
       "    <tr>\n",
       "      <td id=\"T_6730b_row0_col0\" class=\"data row0 col0\" ><ufunc 'exp'></td>\n",
       "      <td id=\"T_6730b_row0_col1\" class=\"data row0 col1\" >None</td>\n",
       "      <td id=\"T_6730b_row0_col2\" class=\"data row0 col2\" ><ufunc 'sin'></td>\n",
       "    </tr>\n",
       "    <tr>\n",
       "      <td id=\"T_6730b_row1_col0\" class=\"data row1 col0\" >2.718</td>\n",
       "      <td id=\"T_6730b_row1_col1\" class=\"data row1 col1\" >0.0</td>\n",
       "      <td id=\"T_6730b_row1_col2\" class=\"data row1 col2\" >-0.959</td>\n",
       "    </tr>\n",
       "  </tbody>\n",
       "</table>\n"
      ],
      "text/plain": [
       "<pandas.io.formats.style.Styler at 0x228db8d48b0>"
      ]
     },
     "metadata": {},
     "output_type": "display_data"
    },
    {
     "name": "stdout",
     "output_type": "stream",
     "text": [
      "  (2, 4, 1)   (2, 4, 3)   (2, 4, 5)  \n",
      "<ufunc 'exp'>    None   <ufunc 'sin'>\n",
      "        2.718     0.0          -0.959 \n",
      "\n"
     ]
    }
   ],
   "source": [
    "# EX9\n",
    "\n",
    "\n",
    "def my_split_function(f, g, a, b, x):\n",
    "    \"\"\"This function accepts any function (f) and (g) and varifies that b > a to insure compatibility.\n",
    "    The functions f(x) and g(x) use x in the criteria given x <= a the f(x) and x >= b for the given \n",
    "    boundries a and b. The results from three case are used here.\"\"\"\n",
    "    if b > a:\n",
    "        if x <= a:\n",
    "            funct = str(f)\n",
    "            result = f(x)\n",
    "            result = '{:.3f}'.format(result)\n",
    "            return funct, result\n",
    "        elif x >= b:\n",
    "            funct = str(g)\n",
    "            result = g(x)\n",
    "            result = '{:.3f}'.format(result)\n",
    "            return funct, result\n",
    "        else:\n",
    "            funct = ('None')\n",
    "            result = 0.0\n",
    "            result = '{:.1f}'.format(result)\n",
    "            return funct, result\n",
    "    else:\n",
    "        funct = ('Does not meet criteria that b > a.')\n",
    "        return funct, 0.0\n",
    "\n",
    "\n",
    "sp1 = my_split_function(np.exp, np.sin, 2, 4, 1)\n",
    "sp2 = my_split_function(np.exp, np.sin, 2, 4, 3)\n",
    "sp3 = my_split_function(np.exp, np.sin, 2, 4, 5)\n",
    "function = pd.DataFrame({'(2, 4, 1) ': sp1,'(2, 4, 3)': sp2, '(2, 4, 5)': sp3})\n",
    "print('Split function')\n",
    "display(function = function.style.set_table_styles([dict(selector='th', props=[('text-align', 'center')])]))\n",
    "display(function.style.set_properties(**{'text-align': 'right'}).hide(axis='index'))\n",
    "\n",
    "print(function.to_string(index=False), '\\n')"
   ]
  },
  {
   "cell_type": "code",
   "execution_count": 133,
   "id": "9e09bbfc",
   "metadata": {},
   "outputs": [
    {
     "data": {
      "text/plain": [
       "2.718281828459045"
      ]
     },
     "execution_count": 133,
     "metadata": {},
     "output_type": "execute_result"
    }
   ],
   "source": [
    "np.exp(1)"
   ]
  },
  {
   "cell_type": "code",
   "execution_count": null,
   "id": "a54f1d3b",
   "metadata": {},
   "outputs": [],
   "source": []
  }
 ],
 "metadata": {
  "kernelspec": {
   "display_name": "Python 3 (ipykernel)",
   "language": "python",
   "name": "python3"
  },
  "language_info": {
   "codemirror_mode": {
    "name": "ipython",
    "version": 3
   },
   "file_extension": ".py",
   "mimetype": "text/x-python",
   "name": "python",
   "nbconvert_exporter": "python",
   "pygments_lexer": "ipython3",
   "version": "3.10.4"
  }
 },
 "nbformat": 4,
 "nbformat_minor": 5
}
