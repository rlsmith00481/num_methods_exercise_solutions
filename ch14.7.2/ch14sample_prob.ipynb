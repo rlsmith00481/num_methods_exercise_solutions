{
 "cells": [
  {
   "cell_type": "code",
   "execution_count": 1,
   "id": "99a55863",
   "metadata": {},
   "outputs": [
    {
     "name": "stdout",
     "output_type": "stream",
     "text": [
      "[-3  2  1 -3  2  5  1  5 -3  8]\n",
      "8.025929215717877\n",
      "8.025929215717877\n",
      "8.0\n",
      "False\n"
     ]
    }
   ],
   "source": [
    "import numpy as np\n",
    "\n",
    "def main():\n",
    "\n",
    "    x = np.random.randint(-5, 10, 10)\n",
    "\n",
    "    print(x)\n",
    "\n",
    "    p = 9\n",
    "\n",
    "    c = (np.sum(np.abs(x) ** p) ** (1. / p))\n",
    "    print(c)\n",
    "    b = (np.linalg.norm(x, p))\n",
    "    print(b)\n",
    "    d = (np.linalg.norm(x, np.inf))\n",
    "   \n",
    "    print(d)\n",
    "    print(c == d)\n",
    "if __name__ == \"__main__\":\n",
    "    \n",
    "    main()\n"
   ]
  },
  {
   "cell_type": "code",
   "execution_count": 11,
   "id": "cd6c77d1",
   "metadata": {},
   "outputs": [
    {
     "name": "stdout",
     "output_type": "stream",
     "text": [
      "[[10 10]] (1, 2)\n",
      "[[4]\n",
      " [4]\n",
      " [4]\n",
      " [4]\n",
      " [4]] (5, 1)\n",
      "[[40 40]\n",
      " [40 40]\n",
      " [40 40]\n",
      " [40 40]\n",
      " [40 40]]\n",
      "8.94427190999916\n"
     ]
    },
    {
     "ename": "ValueError",
     "evalue": "incompatible dimensions for cross product\n(dimension must be 2 or 3)",
     "output_type": "error",
     "traceback": [
      "\u001b[1;31m---------------------------------------------------------------------------\u001b[0m",
      "\u001b[1;31mValueError\u001b[0m                                Traceback (most recent call last)",
      "\u001b[1;32mC:\\Users\\rlsmi\\AppData\\Local\\Temp\\ipykernel_30472\\4086026841.py\u001b[0m in \u001b[0;36m<cell line: 15>\u001b[1;34m()\u001b[0m\n\u001b[0;32m     13\u001b[0m \u001b[0mprint\u001b[0m\u001b[1;33m(\u001b[0m\u001b[0mnorm\u001b[0m\u001b[1;33m(\u001b[0m\u001b[0mvector_column\u001b[0m\u001b[1;33m)\u001b[0m\u001b[1;33m)\u001b[0m\u001b[1;33m\u001b[0m\u001b[1;33m\u001b[0m\u001b[0m\n\u001b[0;32m     14\u001b[0m \u001b[0mnp\u001b[0m\u001b[1;33m.\u001b[0m\u001b[0msqrt\u001b[0m\u001b[1;33m(\u001b[0m\u001b[1;36m4\u001b[0m\u001b[1;33m**\u001b[0m\u001b[1;36m2\u001b[0m \u001b[1;33m+\u001b[0m \u001b[1;36m4\u001b[0m\u001b[1;33m**\u001b[0m\u001b[1;36m2\u001b[0m\u001b[1;33m)\u001b[0m\u001b[1;33m\u001b[0m\u001b[1;33m\u001b[0m\u001b[0m\n\u001b[1;32m---> 15\u001b[1;33m \u001b[0mprint\u001b[0m\u001b[1;33m(\u001b[0m\u001b[0mnp\u001b[0m\u001b[1;33m.\u001b[0m\u001b[0mcross\u001b[0m\u001b[1;33m(\u001b[0m\u001b[0mvector_column\u001b[0m\u001b[1;33m,\u001b[0m\u001b[0mvector_row\u001b[0m\u001b[1;33m)\u001b[0m\u001b[1;33m)\u001b[0m\u001b[1;33m\u001b[0m\u001b[1;33m\u001b[0m\u001b[0m\n\u001b[0m",
      "\u001b[1;32m<__array_function__ internals>\u001b[0m in \u001b[0;36mcross\u001b[1;34m(*args, **kwargs)\u001b[0m\n",
      "\u001b[1;32mC:\\Users\\rlsmi\\WPy64-31040\\python-3.10.4.amd64\\lib\\site-packages\\numpy\\core\\numeric.py\u001b[0m in \u001b[0;36mcross\u001b[1;34m(a, b, axisa, axisb, axisc, axis)\u001b[0m\n\u001b[0;32m   1604\u001b[0m            \"(dimension must be 2 or 3)\")\n\u001b[0;32m   1605\u001b[0m     \u001b[1;32mif\u001b[0m \u001b[0ma\u001b[0m\u001b[1;33m.\u001b[0m\u001b[0mshape\u001b[0m\u001b[1;33m[\u001b[0m\u001b[1;33m-\u001b[0m\u001b[1;36m1\u001b[0m\u001b[1;33m]\u001b[0m \u001b[1;32mnot\u001b[0m \u001b[1;32min\u001b[0m \u001b[1;33m(\u001b[0m\u001b[1;36m2\u001b[0m\u001b[1;33m,\u001b[0m \u001b[1;36m3\u001b[0m\u001b[1;33m)\u001b[0m \u001b[1;32mor\u001b[0m \u001b[0mb\u001b[0m\u001b[1;33m.\u001b[0m\u001b[0mshape\u001b[0m\u001b[1;33m[\u001b[0m\u001b[1;33m-\u001b[0m\u001b[1;36m1\u001b[0m\u001b[1;33m]\u001b[0m \u001b[1;32mnot\u001b[0m \u001b[1;32min\u001b[0m \u001b[1;33m(\u001b[0m\u001b[1;36m2\u001b[0m\u001b[1;33m,\u001b[0m \u001b[1;36m3\u001b[0m\u001b[1;33m)\u001b[0m\u001b[1;33m:\u001b[0m\u001b[1;33m\u001b[0m\u001b[1;33m\u001b[0m\u001b[0m\n\u001b[1;32m-> 1606\u001b[1;33m         \u001b[1;32mraise\u001b[0m \u001b[0mValueError\u001b[0m\u001b[1;33m(\u001b[0m\u001b[0mmsg\u001b[0m\u001b[1;33m)\u001b[0m\u001b[1;33m\u001b[0m\u001b[1;33m\u001b[0m\u001b[0m\n\u001b[0m\u001b[0;32m   1607\u001b[0m \u001b[1;33m\u001b[0m\u001b[0m\n\u001b[0;32m   1608\u001b[0m     \u001b[1;31m# Create the output array\u001b[0m\u001b[1;33m\u001b[0m\u001b[1;33m\u001b[0m\u001b[0m\n",
      "\u001b[1;31mValueError\u001b[0m: incompatible dimensions for cross product\n(dimension must be 2 or 3)"
     ]
    }
   ],
   "source": [
    "import numpy as np\n",
    "from numpy.linalg import norm\n",
    "vector_row = np.array([[10, 10]])\n",
    "vector_column = np.array([[4], \n",
    "                          [4], \n",
    "                          [4], \n",
    "                          [4],\n",
    "                          [4]])\n",
    "print(vector_row, vector_row.shape)\n",
    "print(vector_column, vector_column.shape)\n",
    "#print(np.dot(vector_row, vector_column))\n",
    "print(np.dot(vector_column, vector_row ))\n",
    "print(norm(vector_column))\n",
    "np.sqrt(4**2 + 4**2)\n",
    "print(np.cross(vector_column,vector_row))"
   ]
  },
  {
   "cell_type": "code",
   "execution_count": 147,
   "id": "a9e1f3ad",
   "metadata": {},
   "outputs": [
    {
     "name": "stdout",
     "output_type": "stream",
     "text": [
      "[[ 1]\n",
      " [12]\n",
      " [13]\n",
      " [ 4]]\n",
      "L_1 is: 30.0\n",
      "L_2 is: 18.2\n",
      "L_inf is: 13.0\n"
     ]
    },
    {
     "data": {
      "text/plain": [
       "0.0"
      ]
     },
     "execution_count": 147,
     "metadata": {},
     "output_type": "execute_result"
    }
   ],
   "source": [
    "from numpy.linalg import norm\n",
    "new_vector = vector_row.T\n",
    "print(new_vector)\n",
    "norm_1 = norm(new_vector, 1)\n",
    "norm_2 = norm(new_vector, 2)\n",
    "norm_inf = norm(new_vector, np.inf)\n",
    "print('L_1 is: %.1f'%norm_1)\n",
    "print('L_2 is: %.1f'%norm_2)\n",
    "print('L_inf is: %.1f'%norm_inf)\n",
    "a = np.array([[1], [0.001]])\n",
    "b = np.array([[0.001], [1]])\n",
    "norm(a) - norm(b)"
   ]
  },
  {
   "cell_type": "code",
   "execution_count": 73,
   "id": "4633d86d",
   "metadata": {},
   "outputs": [
    {
     "name": "stdout",
     "output_type": "stream",
     "text": [
      "scalar =  10\n",
      "v: [4 5 6 7 8 9]\n",
      "v1: [40 50 60 70 80 90]\n",
      "w: [1 2 3 4 5 6]\n",
      "w1: [10 20 30 40 50 60]\n",
      "av + aw =  [ 50  70  90 110 130 150]\n",
      "a(v + w) =  [ 50  70  90 110 130 150]\n",
      "Is a(v + w) = av + aw ?  Yes\n"
     ]
    }
   ],
   "source": [
    "a = 10\n",
    "print('scalar = ', a)\n",
    "v = np.array([4, 5, 6, 7, 8, 9])\n",
    "print('v:', v)\n",
    "v1 = np.multiply(a, v)\n",
    "print('v1:', v1)\n",
    "w = np.array([1, 2, 3, 4, 5, 6])\n",
    "print('w:', w)\n",
    "w1 = np.multiply(a, w)\n",
    "print('w1:', w1)\n",
    "v1w1 = np.add(v1, w1)\n",
    "print('av + aw = ', v1w1)\n",
    "v2w2 = np.multiply(a, np.add(v, w))\n",
    "print('a(v + w) = ', v2w2)\n",
    "if np.sum(v1w1) == np.sum(v2w2):\n",
    "    ans = 'Yes'\n",
    "print('Is a(v + w) = av + aw ? ', ans)"
   ]
  },
  {
   "cell_type": "code",
   "execution_count": 149,
   "id": "6868a8d9",
   "metadata": {},
   "outputs": [
    {
     "name": "stdout",
     "output_type": "stream",
     "text": [
      "[[1.    0.001]] norm : 1.000000499999875\n",
      "[[0.001 1.   ]] norm : 1.000000499999875\n",
      "transposed w\n",
      "  [[0.001]\n",
      " [1.   ]]\n",
      "v · w.T =  [[0.002]]\n",
      "∅ = cos^-1[(v · w.T)/(|v||w|)] =  [[1.56879633]]\n"
     ]
    }
   ],
   "source": [
    "from numpy import arccos, dot\n",
    "\n",
    "v = np.array([[1, 0.001]])\n",
    "print(v, 'norm :', norm(v, 2))\n",
    "w = np.array([[0.001, 1]])\n",
    "print(w, 'norm :', norm(w, 2))\n",
    "print('transposed w\\n ', w.T)\n",
    "print('v · w.T = ', dot(v, w.T))\n",
    "theta = \\\n",
    "    arccos(dot(v, w.T)/(norm(v)*norm(w)))\n",
    "print('∅ = cos^-1[(v · w.T)/(|v||w|)] = ', theta)"
   ]
  },
  {
   "cell_type": "code",
   "execution_count": 82,
   "id": "351af388",
   "metadata": {},
   "outputs": [
    {
     "name": "stdout",
     "output_type": "stream",
     "text": [
      "[[ 0  0 -6]]\n"
     ]
    }
   ],
   "source": [
    "v = np.array([[0, 2, 0]])\n",
    "w = np.array([[3, 0, 0]])\n",
    "print(np.cross(v, w))"
   ]
  },
  {
   "cell_type": "code",
   "execution_count": 155,
   "id": "392adb97",
   "metadata": {},
   "outputs": [
    {
     "name": "stdout",
     "output_type": "stream",
     "text": [
      "[[1 7]\n",
      " [2 3]\n",
      " [5 0]] \n",
      " (3, 2)\n",
      "[[2 6 3 1]\n",
      " [1 2 3 4]] \n",
      " (2, 4)\n",
      "[[ 9 20 24 29]\n",
      " [ 7 18 15 14]\n",
      " [10 30 15  5]]\n"
     ]
    },
    {
     "ename": "ValueError",
     "evalue": "shapes (2,4) and (3,2) not aligned: 4 (dim 1) != 3 (dim 0)",
     "output_type": "error",
     "traceback": [
      "\u001b[1;31m---------------------------------------------------------------------------\u001b[0m",
      "\u001b[1;31mValueError\u001b[0m                                Traceback (most recent call last)",
      "\u001b[1;32mC:\\Users\\rlsmi\\AppData\\Local\\Temp\\ipykernel_26612\\3272330671.py\u001b[0m in \u001b[0;36m<cell line: 9>\u001b[1;34m()\u001b[0m\n\u001b[0;32m      7\u001b[0m \u001b[0mprint\u001b[0m\u001b[1;33m(\u001b[0m\u001b[0mQ\u001b[0m\u001b[1;33m,\u001b[0m \u001b[1;34m'\\n'\u001b[0m\u001b[1;33m,\u001b[0m \u001b[0mQ\u001b[0m\u001b[1;33m.\u001b[0m\u001b[0mshape\u001b[0m\u001b[1;33m)\u001b[0m\u001b[1;33m\u001b[0m\u001b[1;33m\u001b[0m\u001b[0m\n\u001b[0;32m      8\u001b[0m \u001b[0mprint\u001b[0m\u001b[1;33m(\u001b[0m\u001b[0mnp\u001b[0m\u001b[1;33m.\u001b[0m\u001b[0mdot\u001b[0m\u001b[1;33m(\u001b[0m\u001b[0mP\u001b[0m\u001b[1;33m,\u001b[0m \u001b[0mQ\u001b[0m\u001b[1;33m)\u001b[0m\u001b[1;33m)\u001b[0m\u001b[1;33m\u001b[0m\u001b[1;33m\u001b[0m\u001b[0m\n\u001b[1;32m----> 9\u001b[1;33m \u001b[0mnp\u001b[0m\u001b[1;33m.\u001b[0m\u001b[0mdot\u001b[0m\u001b[1;33m(\u001b[0m\u001b[0mQ\u001b[0m\u001b[1;33m,\u001b[0m \u001b[0mP\u001b[0m\u001b[1;33m)\u001b[0m\u001b[1;33m\u001b[0m\u001b[1;33m\u001b[0m\u001b[0m\n\u001b[0m",
      "\u001b[1;32m<__array_function__ internals>\u001b[0m in \u001b[0;36mdot\u001b[1;34m(*args, **kwargs)\u001b[0m\n",
      "\u001b[1;31mValueError\u001b[0m: shapes (2,4) and (3,2) not aligned: 4 (dim 1) != 3 (dim 0)"
     ]
    }
   ],
   "source": [
    "P = np.array([[1, 7],\n",
    "              [2, 3],\n",
    "              [5, 0]])\n",
    "Q = np.array([[2, 6, 3, 1],\n",
    "              [1, 2, 3, 4]])\n",
    "print(P,'\\n', P.shape)\n",
    "print(Q, '\\n', Q.shape)\n",
    "print(np.dot(P, Q))\n",
    "np.dot(Q, P)"
   ]
  },
  {
   "cell_type": "code",
   "execution_count": 156,
   "id": "a8c2d123",
   "metadata": {},
   "outputs": [
    {
     "name": "stdout",
     "output_type": "stream",
     "text": [
      "M:\n",
      " [[0 1 1 3]\n",
      " [1 2 7 1]\n",
      " [1 0 7 3]\n",
      " [0 5 2 1]]\n",
      "Determinant: 4.000\n",
      "I:\n",
      " [[1. 0. 0. 0.]\n",
      " [0. 1. 0. 0.]\n",
      " [0. 0. 1. 0.]\n",
      " [0. 0. 0. 1.]]\n",
      "M*I:\n",
      " [[0. 1. 1. 3.]\n",
      " [1. 2. 7. 1.]\n",
      " [1. 0. 7. 3.]\n",
      " [0. 5. 2. 1.]]\n"
     ]
    }
   ],
   "source": [
    "from numpy.linalg import det\n",
    "\n",
    "M = np.array([[0,1,1,3], \n",
    "             [1,2,7,1], \n",
    "             [1,0,7,3],\n",
    "             [0,5,2,1]])\n",
    "print('M:\\n', M)\n",
    "\n",
    "print('Determinant: %.3f'%det(M))\n",
    "I = np.eye(4)\n",
    "print('I:\\n', I)\n",
    "print('M*I:\\n', np.dot(M, I))"
   ]
  },
  {
   "cell_type": "code",
   "execution_count": 157,
   "id": "1daf48bf",
   "metadata": {},
   "outputs": [
    {
     "name": "stdout",
     "output_type": "stream",
     "text": [
      "M:\n",
      " [[0 1 1 3]\n",
      " [1 2 7 1]\n",
      " [1 0 7 3]\n",
      " [0 5 2 1]]\n",
      "Inv M:\n",
      " [[ 18.    22.25 -21.25 -12.5 ]\n",
      " [  1.     1.25  -1.25  -0.5 ]\n",
      " [ -3.    -3.5    3.5    2.  ]\n",
      " [  1.     0.75  -0.75  -0.5 ]]\n",
      "det of Inv M:\n",
      " 0.25\n",
      "P:\n",
      " [[0 1 0]\n",
      " [0 1 0]\n",
      " [1 0 1]]\n",
      "det(P):\n",
      " 0.0\n"
     ]
    }
   ],
   "source": [
    "from numpy.linalg import inv, matrix_rank, cond, multi_dot\n",
    "print('M:\\n', M)\n",
    "print('Inv M:\\n', inv(M))\n",
    "print('det of Inv M:\\n', det(inv(M)))\n",
    "P = np.array([[0,1,0],\n",
    "              [0,1,0],\n",
    "              [1,0,1]])\n",
    "print('P:\\n', P)\n",
    "# print('Inv P:\\n', inv(P))\n",
    "print('det(P):\\n', det(P))"
   ]
  },
  {
   "cell_type": "code",
   "execution_count": 116,
   "id": "a92ac661",
   "metadata": {},
   "outputs": [
    {
     "name": "stdout",
     "output_type": "stream",
     "text": [
      "Original Matrix:\n",
      " [[0 3 2]\n",
      " [4 1 1]\n",
      " [8 2 2]]\n",
      "rank:\n",
      " 2\n",
      "Condition Number:\n",
      " 7.830072952918736e+16\n",
      "Augmented matrix:\n",
      " [[0 3 2 1]\n",
      " [4 1 1 4]\n",
      " [8 2 2 3]]\n",
      "Rank:\n",
      " 3\n"
     ]
    }
   ],
   "source": [
    "N = [[0, 3, 2],\n",
    "     [4, 1, 1],\n",
    "     [8, 2, 2]]\n",
    "print('Original Matrix:\\n', np.matrix(N))\n",
    "print('rank:\\n', matrix_rank(N))\n",
    "print('Condition Number:\\n', cond(N))\n",
    "y = [[1], [4], [3]]\n",
    "N_y = np.concatenate((N, y), axis = 1)\n",
    "print('Augmented matrix:\\n', N_y)\n",
    "print('Rank:\\n', matrix_rank(N_y))"
   ]
  },
  {
   "cell_type": "code",
   "execution_count": 113,
   "id": "68ada4b9",
   "metadata": {},
   "outputs": [
    {
     "name": "stdout",
     "output_type": "stream",
     "text": [
      "Condition number:\n",
      " 4.048917339522305\n",
      "Rank:\n",
      " 3\n",
      "Augmented matrix:\n",
      " [[1 1 0 1]\n",
      " [0 1 0 2]\n",
      " [1 0 1 1]]\n",
      "Rank:\n",
      " 3\n"
     ]
    }
   ],
   "source": [
    "A = np.array([[1,1,0],\n",
    "              [0,1,0],\n",
    "              [1,0,1]])\n",
    "\n",
    "print('Condition number:\\n', cond(A))\n",
    "print('Rank:\\n', matrix_rank(A))\n",
    "y = np.array([[1], [2], [1]])\n",
    "A_y = np.concatenate((A, y), axis = 1)\n",
    "print('Augmented matrix:\\n', A_y)\n",
    "print('Rank:\\n', matrix_rank(A_y))"
   ]
  },
  {
   "cell_type": "code",
   "execution_count": 188,
   "id": "eecb6e19",
   "metadata": {},
   "outputs": [
    {
     "name": "stdout",
     "output_type": "stream",
     "text": [
      "martix:\n",
      " [[ 0  1  2  3]\n",
      " [ 4  5  6  7]\n",
      " [ 8  9 10 11]]\n",
      "P or points:\n",
      "([[0 0 0 1 1 1 2 2 2 3 3 3]\n",
      " [0 1 2 0 1 2 0 1 2 0 1 2]])\n",
      "a matrix:\n",
      " [[2 2]\n",
      " [1 0]]\n",
      "P' or new points:\n",
      "[[ 0  1  2  0  1  2  0  1  2  0  1  2]\n",
      " [ 0 -1 -2  0  0 -1  1  0 -1  1  0  0]]\n",
      "x:\n",
      "[[0 0 0 0]\n",
      " [1 1 1 1]\n",
      " [2 2 2 2]]\n",
      "y:\n",
      "[[ 0  0  1  1]\n",
      " [-1  0  0  0]\n",
      " [-2 -1 -1  0]]\n",
      "N:\n",
      "4\n",
      "Nx + y:\n",
      "[[0 0 1 1]\n",
      " [3 4 4 4]\n",
      " [6 7 7 8]]\n"
     ]
    }
   ],
   "source": [
    "M, N = 3, 4\n",
    "matrix = np.arange(M*N).reshape((M,N))\n",
    "print('martix:\\n', matrix)\n",
    "points = np.mgrid[0:N, 0:M].reshape((2, M*N))\n",
    "# same method to get points\n",
    "# x, y = np.mgrid[0:N, 0:M]\n",
    "# points = np.vstack([x.ravel(), y.ravel()])\n",
    "print(f'P or points:\\n({points})')\n",
    "a = np.array([[2, 2],\n",
    "              [1, 0]])\n",
    "print(f'a matrix:\\n {a}')\n",
    "new_points = np.linalg.inv(a).dot(points).astype(int)\n",
    "print(f\"P' or new points:\\n{new_points}\")\n",
    "x, y = new_points.reshape((2, M, N), order='F')\n",
    "print(f'x:\\n{x}')\n",
    "print(f'y:\\n{y}')\n",
    "print(f'N:\\n{N}')\n",
    "print(f'Nx + y:\\n{N*x + y}')"
   ]
  },
  {
   "cell_type": "code",
   "execution_count": 171,
   "id": "5bbbab46",
   "metadata": {},
   "outputs": [
    {
     "data": {
      "text/plain": [
       "array([[0, 0, 0, 0],\n",
       "       [1, 1, 1, 1],\n",
       "       [2, 2, 2, 2]])"
      ]
     },
     "execution_count": 171,
     "metadata": {},
     "output_type": "execute_result"
    }
   ],
   "source": [
    "y"
   ]
  },
  {
   "cell_type": "code",
   "execution_count": 152,
   "id": "6e769902",
   "metadata": {},
   "outputs": [
    {
     "data": {
      "text/plain": [
       "array([[ 8464, 18816, 35912],\n",
       "       [ 2116,  9408, 17956],\n",
       "       [16928,  6272, 26934]])"
      ]
     },
     "execution_count": 152,
     "metadata": {},
     "output_type": "execute_result"
    }
   ],
   "source": [
    "new"
   ]
  },
  {
   "cell_type": "code",
   "execution_count": 195,
   "id": "355a8b4d",
   "metadata": {},
   "outputs": [
    {
     "data": {
      "text/plain": [
       "array([39, 55])"
      ]
     },
     "execution_count": 195,
     "metadata": {},
     "output_type": "execute_result"
    }
   ],
   "source": [
    "A = np.array([[1, 7, 2],\n",
    "              [3, 5, 0]])\n",
    "x = [10,\n",
    "    5,\n",
    "    -3]\n",
    "Ta = np.dot(A,x)\n",
    "Ta"
   ]
  },
  {
   "cell_type": "code",
   "execution_count": 213,
   "id": "c4e9c4c4",
   "metadata": {},
   "outputs": [
    {
     "name": "stdout",
     "output_type": "stream",
     "text": [
      "[11, 0]\n",
      "[11  0]\n"
     ]
    }
   ],
   "source": [
    "k = 2\n",
    "p = 3\n",
    "x1 = [1, 0, 1]\n",
    "x2 = [1, 2, 1]\n",
    "newv = (np.multiply(k, x1) + np.multiply(p, x2))\n",
    "print([newv[0] + newv[1], newv[0] - newv[2]])\n",
    "print(np.multiply(k, [x1[0] + x1[1], x1[0] -x1[2]]) + np.multiply(p, [x2[0] + x2[1], x2[0] -x2[2]]))"
   ]
  },
  {
   "cell_type": "code",
   "execution_count": 91,
   "id": "4e912497",
   "metadata": {},
   "outputs": [
    {
     "name": "stdout",
     "output_type": "stream",
     "text": [
      "Iteration results\n",
      " k,    x1,    x2,    x3 \n",
      "1, 1.7500, -1.0625, -0.7937\n",
      "2, 1.8508, -1.5838, -0.5633\n",
      "3, 2.1327, -1.5103, -0.6847\n",
      "4, 2.0596, -1.5678, -0.6340\n",
      "5, 2.1002, -1.5463, -0.6569\n",
      "6, 2.0835, -1.5565, -0.6468\n",
      "7, 2.0911, -1.5520, -0.6513\n",
      "8, 2.0878, -1.5540, -0.6493\n",
      "9, 2.0893, -1.5531, -0.6502\n",
      "10, 2.0886, -1.5535, -0.6498\n",
      "11, 2.0889, -1.5534, -0.6500\n",
      "12, 2.0888, -1.5534, -0.6499\n",
      "13, 2.0888, -1.5534, -0.6499\n",
      "14, 2.0888, -1.5534, -0.6499\n",
      "15, 2.0888, -1.5534, -0.6499\n",
      "16, 2.0888, -1.5534, -0.6499\n",
      "17, 2.0888, -1.5534, -0.6499\n",
      "18, 2.0888, -1.5534, -0.6499\n",
      "19, 2.0888, -1.5534, -0.6499\n",
      "Converged!\n"
     ]
    }
   ],
   "source": [
    "A = [[8, 3, -3],\n",
    "    [-2, -8, 5],\n",
    "    [3, 5, 10]]\n",
    "x = [14, 5, -8]\n",
    "x1 = 0\n",
    "x2 = 0\n",
    "x3 = 0\n",
    "epsilon = 0.000001\n",
    "converged = False\n",
    "\n",
    "x_old = np.array([x1, x2, x3])\n",
    "\n",
    "print('Iteration results')\n",
    "print(' k,    x1,    x2,    x3 ')\n",
    "for k in range(1, 50):\n",
    "    x1 = (14-3*x2+3*x3)/8\n",
    "    x2 = (5+2*x1-5*x3)/(-8)\n",
    "    x3 = (-8-3*x1-5*x2)/(10)\n",
    "    x = np.array([x1, x2, x3])\n",
    "    # check if it is smaller than threshold\n",
    "    dx = np.sqrt(np.dot(x-x_old, x-x_old))\n",
    "    \n",
    "    print(\"%d, %.4f, %.4f, %.4f\"%(k, x1, x2, x3))\n",
    "    if dx < epsilon:\n",
    "        converged = True\n",
    "        print('Converged!')\n",
    "        break\n",
    "        \n",
    "    # assign the latest x value to the old value\n",
    "    x_old = x\n",
    "\n",
    "if not converged:\n",
    "    print('Not converge, increase the # of iterations')"
   ]
  },
  {
   "cell_type": "code",
   "execution_count": 95,
   "id": "a190951c",
   "metadata": {},
   "outputs": [
    {
     "name": "stdout",
     "output_type": "stream",
     "text": [
      "[[ 8  3 -3]\n",
      " [-2 -8  5]\n",
      " [ 3  5 10]]\n",
      "matrix is diagonally dominant\n",
      "inv [[ 0.13513514  0.05791506  0.01158301]\n",
      " [-0.04504505 -0.11454311  0.04375804]\n",
      " [-0.01801802  0.03989704  0.07464607]]\n",
      "solution is [ 2.08880309 -1.55341055 -0.64993565]\n",
      "ck [14.  5. -8.]\n",
      "numpy solve solution is [ 2.08880309 -1.55341055 -0.64993565]\n",
      "ck [14.  5. -8.]\n",
      "Gauss-Seidel solution is [2.088803221384631, -1.5534104754952236, -0.6499357286677776]\n",
      "ck [14.  5. -8.]\n"
     ]
    }
   ],
   "source": [
    "import numpy as np\n",
    "from numpy.linalg import inv, matrix_rank, cond, multi_dot, lstsq\n",
    "text=np.set_printoptions(suppress=True)\n",
    "A = [[8, 3, -3],\n",
    "    [-2, -8, 5],\n",
    "    [3, 5, 10]]\n",
    "v = [14, 5, -8]\n",
    "\n",
    "print(np.vstack(A))\n",
    "diag = np.diag(np.abs(A))\n",
    "off_diag = np.sum(np.abs(A), axis=1) -diag\n",
    "if np.all(diag> off_diag):\n",
    "    print('matrix is diagonally dominant')\n",
    "else:\n",
    "    print('NOT diagonally dominant')\n",
    "syb = ['x = ', 'y = ','z = ']\n",
    "invA = inv(A)\n",
    "print('inv', np.vstack(invA))\n",
    "sol = np.dot(inv(A), v)\n",
    "sol2 = np.linalg.solve(A, v)\n",
    "\n",
    "sol4 = [x1, x2, x3]\n",
    "\n",
    "print(f'solution is {sol}')\n",
    "print('ck',np.dot(A,sol))\n",
    "print(f'numpy solve solution is {sol2}')\n",
    "print('ck',np.matmul(A,sol2))\n",
    "\n",
    "print(f'Gauss-Seidel solution is {sol4}')\n",
    "print('ck',np.matmul(A,sol4).round(2))\n"
   ]
  },
  {
   "cell_type": "code",
   "execution_count": 103,
   "id": "f93cfa32",
   "metadata": {},
   "outputs": [
    {
     "name": "stdout",
     "output_type": "stream",
     "text": [
      "C matrix \n",
      " [[ 4  3 -5]\n",
      " [-2 -4  5]\n",
      " [ 8  8  0]]\n",
      "x unknowns \n",
      " ['x1', 'x2', 'x3']\n",
      "Cx = v vector\n",
      " [[ 2]\n",
      " [ 5]\n",
      " [-3]]\n",
      "The inverse of C matrix \n",
      " [[ 0.33333333  0.33333333  0.04166667]\n",
      " [-0.33333333 -0.33333333  0.08333333]\n",
      " [-0.13333333  0.06666667  0.08333333]]\n",
      "The inversion solution \n",
      " [('x1', 2.208333333333333), ('x2', -2.583333333333333), ('x3', -0.18333333333333335)]\n"
     ]
    }
   ],
   "source": [
    "C = [[ 4,  3, -5],\n",
    "     [-2, -4,  5],\n",
    "     [ 8,  8,  0] ]\n",
    "\n",
    "v =  [ 2,  5, -3]\n",
    "x =  ['x1', 'x2', 'x3']\n",
    "print('C matrix \\n', np.vstack(C))\n",
    "print('x unknowns \\n', x)\n",
    "print('Cx = v vector\\n',np.vstack(v))\n",
    "print('The inverse of C matrix \\n', inv(C))\n",
    "print('The inversion solution \\n', list(zip(x,np.dot(inv(C), v))))"
   ]
  },
  {
   "cell_type": "code",
   "execution_count": 104,
   "id": "b549be0f",
   "metadata": {},
   "outputs": [
    {
     "name": "stdout",
     "output_type": "stream",
     "text": [
      "numpy soultion function \n",
      " [ 7.14634146 -7.2195122   2.41463415]\n",
      "The inversion solution \n",
      " [ 7.14634146 -7.2195122   2.41463415]\n"
     ]
    }
   ],
   "source": [
    "A = np.array([[5, 3, -5], \n",
    "              [-2, -1, 5], \n",
    "              [8, 8, -1]])\n",
    "y = np.array([2, 5, -3])\n",
    "\n",
    "x = np.linalg.solve(A, y)\n",
    "print('numpy soultion function \\n', x)\n",
    "A_inv = np.linalg.inv(A)\n",
    "\n",
    "x1 = np.dot(A_inv, y)\n",
    "print('The inversion solution \\n', x1)"
   ]
  },
  {
   "cell_type": "code",
   "execution_count": 109,
   "id": "505961e7",
   "metadata": {},
   "outputs": [
    {
     "name": "stdout",
     "output_type": "stream",
     "text": [
      "A:\n",
      " [[ 5  3 -5]\n",
      " [-2 -1  5]\n",
      " [ 8  8 -1]]\n",
      "P:\n",
      " [[0. 1. 0.]\n",
      " [0. 0. 1.]\n",
      " [1. 0. 0.]]\n",
      "L:\n",
      " [[ 1.     0.     0.   ]\n",
      " [ 0.625  1.     0.   ]\n",
      " [-0.25  -0.5    1.   ]]\n",
      "U:\n",
      " [[ 8.      8.     -1.    ]\n",
      " [ 0.     -2.     -4.375 ]\n",
      " [ 0.      0.      2.5625]]\n",
      "LU:\n",
      " [[ 8.  8. -1.]\n",
      " [ 5.  3. -5.]\n",
      " [-2. -1.  5.]]\n",
      "PdotA:\n",
      " [[-2. -1.  5.]\n",
      " [ 8.  8. -1.]\n",
      " [ 5.  3. -5.]]\n"
     ]
    }
   ],
   "source": [
    "from scipy.linalg import lu\n",
    "\n",
    "P, L, U = lu(A)\n",
    "print('A:\\n', A)\n",
    "print('P:\\n', P)\n",
    "print('L:\\n', L)\n",
    "print('U:\\n', U)\n",
    "print('LU:\\n',np.dot(L, U))\n",
    "print('PdotA:\\n', np.dot(P, A))"
   ]
  },
  {
   "cell_type": "code",
   "execution_count": 121,
   "id": "6d1704a1",
   "metadata": {},
   "outputs": [
    {
     "name": "stdout",
     "output_type": "stream",
     "text": [
      "P:\n",
      " [[0. 1. 0. 0.]\n",
      " [1. 0. 0. 0.]\n",
      " [0. 0. 0. 1.]\n",
      " [0. 0. 1. 0.]]\n",
      "invP:\n",
      " [[0. 1. 0. 0.]\n",
      " [1. 0. 0. 0.]\n",
      " [0. 0. 0. 1.]\n",
      " [0. 0. 1. 0.]]\n",
      "L:\n",
      " [[ 1.          0.          0.          0.        ]\n",
      " [ 0.          1.          0.          0.        ]\n",
      " [ 0.125       0.28571429  1.          0.        ]\n",
      " [ 0.5         0.14285714 -0.35335689  1.        ]]\n",
      "U:\n",
      " [[ 8.          8.          3.          8.        ]\n",
      " [ 0.          7.          9.          9.        ]\n",
      " [ 0.          0.          5.05357143 -1.57142857]\n",
      " [ 0.          0.          0.          0.1590106 ]]\n",
      "\n",
      "LU factorization is a way of decomposing a matrix A into an\n",
      "upper triangular matrix U , a lower triangular matrix L ,\n",
      "and a permutation matrix P such that PA = LU or A = P^-1LU or PLU\n",
      "and A^-1 = (PL^-1)U^-1,\n",
      "where the inverse permutation matrix P =  permutation matrix P\n",
      "PL:\n",
      " [[ 8.          8.          3.          8.        ]\n",
      " [ 0.          7.          9.          9.        ]\n",
      " [ 0.          0.          5.05357143 -1.57142857]\n",
      " [ 0.          0.          0.          0.1590106 ]]\n",
      "invPL:\n",
      " [[ 0.          1.          0.          0.        ]\n",
      " [ 1.          0.          0.          0.        ]\n",
      " [-0.28571429 -0.125       0.          1.        ]\n",
      " [-0.24381625 -0.54416961  1.          0.35335689]]\n",
      "invU:\n",
      " [[  0.125       -0.14285714   0.18021201   3.57777778]\n",
      " [  0.           0.14285714  -0.25441696 -10.6       ]\n",
      " [  0.           0.           0.19787986   1.95555556]\n",
      " [  0.           0.           0.           6.28888889]]\n",
      "invA from UL:\n",
      " [[ -1.06666667  -1.84444444   3.57777778   1.44444444]\n",
      " [  2.8          5.8        -10.6         -4.        ]\n",
      " [ -0.53333333  -1.08888889   1.95555556   0.88888889]\n",
      " [ -1.53333333  -3.42222222   6.28888889   2.22222222]]\n",
      "inv(A) function:\n",
      " [[ -1.06666667  -1.84444444   3.57777778   1.44444444]\n",
      " [  2.8          5.8        -10.6         -4.        ]\n",
      " [ -0.53333333  -1.08888889   1.95555556   0.88888889]\n",
      " [ -1.53333333  -3.42222222   6.28888889   2.22222222]]\n",
      "\n",
      "Now that we have the lower (l) and upper (u) triangular matrices,\n",
      "we can find the inverse of A by the following equation : A^-1 = U^-1 L^-1\n",
      "the inverse of A = inverse of U x inverse L\n"
     ]
    }
   ],
   "source": [
    "from scipy.linalg import lu\n",
    "\n",
    "A = np.random.randint(0, 10,(4, 4))\n",
    "\n",
    "P,L,U = lu(A) # if true the multiplication P*L (Default: do not permute) \n",
    "print('P:\\n', P)\n",
    "print('invP:\\n', inv(P))\n",
    "print('L:\\n', L)\n",
    "print('U:\\n', U)\n",
    "\n",
    "PL = np.dot(P,L) # permute the lower triangular with unit diagonal elements\n",
    "print(\"\"\"\n",
    "LU factorization is a way of decomposing a matrix A into an\n",
    "upper triangular matrix U , a lower triangular matrix L ,\n",
    "and a permutation matrix P such that PA = LU or A = P^-1LU or PLU\n",
    "and A^-1 = (PL^-1)U^-1,\n",
    "where the inverse permutation matrix P =  permutation matrix P\"\"\")\n",
    "print('PL:\\n', U)\n",
    "PL_inv = np.linalg.inv(PL)\n",
    "print('invPL:\\n', PL_inv)\n",
    "U_inv = np.linalg.inv(U)\n",
    "print('invU:\\n', U_inv)\n",
    "A_inv = np.dot(U_inv,PL_inv)\n",
    "print('invA from UL:\\n', A_inv)\n",
    "print('inv(A) function:\\n',np.linalg.inv(A))\n",
    "print(\"\"\"\n",
    "Now that we have the lower (l) and upper (u) triangular matrices,\n",
    "we can find the inverse of A by the following equation : A^-1 = U^-1 L^-1\n",
    "the inverse of A = inverse of U x inverse L\"\"\")"
   ]
  },
  {
   "cell_type": "code",
   "execution_count": 1,
   "id": "543fac7a",
   "metadata": {},
   "outputs": [
    {
     "ename": "NameError",
     "evalue": "name 'EX2' is not defined",
     "output_type": "error",
     "traceback": [
      "\u001b[1;31m---------------------------------------------------------------------------\u001b[0m",
      "\u001b[1;31mNameError\u001b[0m                                 Traceback (most recent call last)",
      "\u001b[1;32mC:\\Users\\rlsmi\\AppData\\Local\\Temp\\ipykernel_30400\\4219747094.py\u001b[0m in \u001b[0;36m<cell line: 1>\u001b[1;34m()\u001b[0m\n\u001b[1;32m----> 1\u001b[1;33m \u001b[0mprint\u001b[0m\u001b[1;33m(\u001b[0m\u001b[0mEX2\u001b[0m\u001b[1;33m)\u001b[0m\u001b[1;33m\u001b[0m\u001b[1;33m\u001b[0m\u001b[0m\n\u001b[0m\u001b[0;32m      2\u001b[0m \u001b[0mu\u001b[0m \u001b[1;33m=\u001b[0m \u001b[0mnp\u001b[0m\u001b[1;33m.\u001b[0m\u001b[0marray\u001b[0m\u001b[1;33m(\u001b[0m\u001b[1;33m[\u001b[0m\u001b[1;33m[\u001b[0m\u001b[1;36m1\u001b[0m\u001b[1;33m]\u001b[0m\u001b[1;33m,\u001b[0m \u001b[1;33m[\u001b[0m\u001b[1;36m0.001\u001b[0m\u001b[1;33m]\u001b[0m\u001b[1;33m]\u001b[0m\u001b[1;33m)\u001b[0m\u001b[1;33m\u001b[0m\u001b[1;33m\u001b[0m\u001b[0m\n\u001b[0;32m      3\u001b[0m \u001b[0mtol\u001b[0m \u001b[1;33m=\u001b[0m \u001b[1;36m0.01\u001b[0m\u001b[1;33m\u001b[0m\u001b[1;33m\u001b[0m\u001b[0m\n\u001b[0;32m      4\u001b[0m \u001b[0mv\u001b[0m \u001b[1;33m=\u001b[0m \u001b[0mnp\u001b[0m\u001b[1;33m.\u001b[0m\u001b[0marray\u001b[0m\u001b[1;33m(\u001b[0m\u001b[1;33m[\u001b[0m\u001b[1;33m[\u001b[0m\u001b[1;36m1\u001b[0m\u001b[1;33m]\u001b[0m\u001b[1;33m,\u001b[0m \u001b[1;33m[\u001b[0m\u001b[1;36m1\u001b[0m\u001b[1;33m]\u001b[0m\u001b[1;33m]\u001b[0m\u001b[1;33m)\u001b[0m\u001b[1;33m\u001b[0m\u001b[1;33m\u001b[0m\u001b[0m\n\u001b[0;32m      5\u001b[0m \u001b[0mut\u001b[0m \u001b[1;33m=\u001b[0m \u001b[0mu\u001b[0m\u001b[1;33m.\u001b[0m\u001b[0mT\u001b[0m\u001b[1;33m\u001b[0m\u001b[1;33m\u001b[0m\u001b[0m\n",
      "\u001b[1;31mNameError\u001b[0m: name 'EX2' is not defined"
     ]
    }
   ],
   "source": [
    "print(a= EX2)\n",
    "u = np.array([[1], [0.001]])\n",
    "tol = 0.01\n",
    "v = np.array([[1], [1]])\n",
    "ut = u.T\n",
    "th = np.arccos(np.dot(ut, v)/(norm(u)*norm(v)))\n",
    "if (np.pi/2 - th) < tol:\n",
    "    print(1)\n",
    "else:\n",
    "    print(0)"
   ]
  },
  {
   "cell_type": "code",
   "execution_count": 14,
   "id": "c727af61",
   "metadata": {},
   "outputs": [
    {
     "data": {
      "text/plain": [
       "array([1, 0, 2])"
      ]
     },
     "execution_count": 14,
     "metadata": {},
     "output_type": "execute_result"
    }
   ],
   "source": [
    "import numpy as np\n",
    "from numpy.linalg import inv\n",
    "A = [[0, 1, 0], [0, 0, 2]]\n",
    "A\n",
    "p = np.array([1, 0, 2])\n",
    "p.T"
   ]
  },
  {
   "cell_type": "code",
   "execution_count": 6,
   "id": "2da4e230",
   "metadata": {},
   "outputs": [
    {
     "data": {
      "text/plain": [
       "array([[0, 0, 0],\n",
       "       [0, 0, 2]])"
      ]
     },
     "execution_count": 6,
     "metadata": {},
     "output_type": "execute_result"
    }
   ],
   "source": [
    "r2 = np.multiply(A, [2,0,1])\n",
    "r2"
   ]
  },
  {
   "cell_type": "code",
   "execution_count": 11,
   "id": "2f48f31f",
   "metadata": {},
   "outputs": [
    {
     "ename": "AttributeError",
     "evalue": "'list' object has no attribute 'inv'",
     "output_type": "error",
     "traceback": [
      "\u001b[1;31m---------------------------------------------------------------------------\u001b[0m",
      "\u001b[1;31mAttributeError\u001b[0m                            Traceback (most recent call last)",
      "\u001b[1;32mC:\\Users\\rlsmi\\AppData\\Local\\Temp\\ipykernel_30400\\654247439.py\u001b[0m in \u001b[0;36m<cell line: 1>\u001b[1;34m()\u001b[0m\n\u001b[1;32m----> 1\u001b[1;33m \u001b[0mp\u001b[0m\u001b[1;33m.\u001b[0m\u001b[0minv\u001b[0m\u001b[1;33m\u001b[0m\u001b[1;33m\u001b[0m\u001b[0m\n\u001b[0m",
      "\u001b[1;31mAttributeError\u001b[0m: 'list' object has no attribute 'inv'"
     ]
    }
   ],
   "source": [
    "p.inv"
   ]
  },
  {
   "cell_type": "code",
   "execution_count": null,
   "id": "611ed55c",
   "metadata": {},
   "outputs": [],
   "source": []
  }
 ],
 "metadata": {
  "kernelspec": {
   "display_name": "Python 3 (ipykernel)",
   "language": "python",
   "name": "python3"
  },
  "language_info": {
   "codemirror_mode": {
    "name": "ipython",
    "version": 3
   },
   "file_extension": ".py",
   "mimetype": "text/x-python",
   "name": "python",
   "nbconvert_exporter": "python",
   "pygments_lexer": "ipython3",
   "version": "3.10.4"
  }
 },
 "nbformat": 4,
 "nbformat_minor": 5
}
