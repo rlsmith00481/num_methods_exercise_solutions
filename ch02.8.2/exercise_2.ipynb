{
 "cells": [
  {
   "cell_type": "markdown",
   "id": "63a1cb89",
   "metadata": {},
   "source": [
    "# 2.8.2 Problems Python Programming and Numerical Methods"
   ]
  },
  {
   "cell_type": "code",
   "execution_count": 395,
   "id": "ca7066a8",
   "metadata": {},
   "outputs": [
    {
     "name": "stdout",
     "output_type": "stream",
     "text": [
      "Create the error code; NameError: name 'x1' is not defined\n",
      "Assign x and y, x = 2 and y = 3\n",
      "\n",
      "S is of number type <class 'str'> 123\n",
      "N is of number type <class 'float'> 123.0 \n",
      "\n"
     ]
    }
   ],
   "source": [
    "import numpy as np\n",
    "import pandas as pd\n",
    "from math import*\n",
    "import re\n",
    "\n",
    "try:\n",
    "    y = x1**2\n",
    "except Exception as e:\n",
    "    print('Create the error code; NameError:', e)\n",
    "\n",
    "x, y = 2, 3\n",
    "print(f'Assign x and y, x = {x} and y = {y}\\n')\n",
    "\n",
    "S = '123'\n",
    "N = float(S)\n",
    "print('S is of number type',type(S), S)\n",
    "print('N is of number type',type(N), N, '\\n')"
   ]
  },
  {
   "cell_type": "code",
   "execution_count": 375,
   "id": "393e0a04",
   "metadata": {},
   "outputs": [
    {
     "name": "stdout",
     "output_type": "stream",
     "text": [
      "Showing all variables and values from the given expressions.\n",
      "            Variables    Values\n",
      "Expressions                    \n",
      "x + y               u    13.000\n",
      "xy                  v    30.000\n",
      "x/y                 w     3.333\n",
      "sin(x)              z    -0.544\n",
      "8sin(x)             r    -4.352\n",
      "5sin(xy)            s    -4.940\n",
      "x**y                p  1000.000 \n",
      "\n"
     ]
    }
   ],
   "source": [
    "\n",
    "\n",
    "def assignments(x, y):\n",
    "    u = x + y\n",
    "    v = x * y\n",
    "    w = x / y\n",
    "    z = sin(x)\n",
    "    r = 8 * sin(x)\n",
    "    s = 5 * sin(x*y)\n",
    "    p = x**y\n",
    "    return [u, v, w, z, r, s, p]\n",
    "\n",
    "\n",
    "ass_lst = ['u', 'v', 'w', 'z', 'r', 's', 'p']\n",
    "opr_lst = np.around(assignments(10, 3), 3)\n",
    "\n",
    "df_ass = pd.DataFrame({'Variables': ass_lst, 'Values':  opr_lst},\n",
    "                  index=('x + y', 'xy', 'x/y', 'sin(x)', '8sin(x)', '5sin(xy)', 'x**y'),\n",
    "                  columns=['Variables', 'Values'])\n",
    "df_ass.index.name = \"Expressions\" \n",
    "print('Showing all variables and values from the given expressions.')\n",
    "print(df_ass,'\\n')"
   ]
  },
  {
   "cell_type": "code",
   "execution_count": 376,
   "id": "719aeada",
   "metadata": {},
   "outputs": [
    {
     "name": "stdout",
     "output_type": "stream",
     "text": [
      "The upper case HELLO and lower case hello words are not equal; is HELLO equal to hello, False\n",
      "Putting HELLO to lower case hello the words are then equal; is hello equal to hello, True\n",
      "Changing hello to upper case HELLO the words are then equal; is HELLO equal to HELLO, True\n",
      "\n"
     ]
    }
   ],
   "source": [
    "s1 = 'HELLO'\n",
    "s2 = 'hello'\n",
    "print(f'The upper case {s1} and lower case {s2} words are not equal; is {s1} equal to {s2}, {s1 == s2}')\n",
    "print(f'Putting {s1} to lower case {s1.lower()} the words are then equal; is {s1.lower()} equal to {s2}, {s1.lower() == s2}')\n",
    "print(f'Changing {s2} to upper case {s2.upper()} the words are then equal; is {s2.upper()} equal to {s1}, {s1 == s2.upper()}\\n')"
   ]
  },
  {
   "cell_type": "code",
   "execution_count": 377,
   "id": "113492f0",
   "metadata": {},
   "outputs": [
    {
     "name": "stdout",
     "output_type": "stream",
     "text": [
      "The count of the letter in Engineering (['E', 'n', 'g', 'i', 'n', 'e', 'e', 'r', 'i', 'n', 'g']) is 11 and the letter count in Book (['B', 'o', 'o', 'k']) is 4 and total letter count is 15.\n",
      "\n"
     ]
    }
   ],
   "source": [
    "w_1 = int(len('Engineering'))\n",
    "w_lst = list('Engineering')\n",
    "w_2 = int(len('Book'))\n",
    "w_2st = list('Book')\n",
    "tot = w_1 + w_2\n",
    "print(f'The count of the letter in Engineering ({w_lst}) is {w_1} and the letter count in Book ({w_2st}) is {w_2} '\n",
    "      f'and total letter count is {tot}.\\n')"
   ]
  },
  {
   "cell_type": "code",
   "execution_count": 378,
   "id": "4091e2f9",
   "metadata": {},
   "outputs": [
    {
     "name": "stdout",
     "output_type": "stream",
     "text": [
      "Using the re.match exact pattern, the word Python was found in \"Python is Great\"\n",
      "Python \n",
      "\n",
      "Using a general regex pattern a search for the last word was completed,the last word Great was found in \"Python is Great\"\n",
      "Great \n",
      "\n"
     ]
    }
   ],
   "source": [
    "words = 'Python is Great'\n",
    "\n",
    "word1 = re.search(r\"(^\\w+)\", words) # Start the match at the begainning ^ matching all charaters\\w+ until a space\n",
    "word2 = re.search(r\"(\\w+)$\", words) # Start the match at the end $ matching all charaters\\w+ until a space\n",
    "print(f'Using the re.match exact pattern, the word Python was found in \"{words}\"')\n",
    "print(word1.group(0),'\\n') # Group zero which means every thing in all groups.\n",
    "print(f'Using a general regex pattern a search for the last word was completed,'\n",
    "      f'the last word Great was found in \"{words}\"')\n",
    "print(word2.group(0),'\\n')"
   ]
  },
  {
   "cell_type": "code",
   "execution_count": 379,
   "id": "78455709",
   "metadata": {},
   "outputs": [
    {
     "name": "stdout",
     "output_type": "stream",
     "text": [
      "The orginal list is: [1, 8, 9, 15].\n",
      "Insert 2 at index number 1 in orginal list: [1, 2, 9, 15].\n",
      "Append the orginal list with a 4: [1, 2, 9, 15, 4].\n",
      "This is the sort list: [1, 2, 4, 9, 15].\n",
      "\n"
     ]
    }
   ],
   "source": [
    "list_a = [1, 8, 9, 15]\n",
    "print(f'The orginal list is: {list_a}.')\n",
    "list_a[1] = 2\n",
    "print(f'Insert 2 at index number 1 in orginal list: {list_a}.')\n",
    "list_a.append(4)\n",
    "print(f'Append the orginal list with a 4: {list_a}.')\n",
    "list_a.sort()\n",
    "print(f'This is the sort list: {list_a}.\\n')"
   ]
  },
  {
   "cell_type": "code",
   "execution_count": 380,
   "id": "42a1fd9a",
   "metadata": {},
   "outputs": [
    {
     "name": "stdout",
     "output_type": "stream",
     "text": [
      "This is a list of, \"Python is Great\".\n",
      "['P', 'y', 't', 'h', 'o', 'n', ' ', 'i', 's', ' ', 'G', 'r', 'e', 'a', 't'] \n",
      "\n"
     ]
    }
   ],
   "source": [
    "words_list = list(words)\n",
    "print(f'This is a list of, \"{words}\".')\n",
    "print(words_list, '\\n')"
   ]
  },
  {
   "cell_type": "code",
   "execution_count": 381,
   "id": "0cc41eba",
   "metadata": {},
   "outputs": [
    {
     "name": "stdout",
     "output_type": "stream",
     "text": [
      "This is the variables assiged to tuple_a ('One', 1).\n",
      "Get the second element in tuple_a (1,) \n",
      "\n"
     ]
    }
   ],
   "source": [
    "tuple_a = ('One', 1)\n",
    "print(f'This is the variables assiged to tuple_a {tuple_a}.')\n",
    "print('Get the second element in tuple_a', tuple_a[1:3], '\\n')"
   ]
  },
  {
   "cell_type": "code",
   "execution_count": 382,
   "id": "0e221a0d",
   "metadata": {},
   "outputs": [
    {
     "name": "stdout",
     "output_type": "stream",
     "text": [
      "Unique elements of (2, 3, 2, 3, 1, 2, 5) are: {1, 2, 3, 5}\n",
      "The union of (2, 3, 2) and (1, 2, 3) is: {1, 2, 3}\n",
      "The intersection of (2, 3, 2) and (1, 2, 3) is: {2, 3}\n",
      "Is (2, 3, 2) a sub set of (1, 2, 3)? True\n",
      "The difference between  (11, 3, 8) and (2, 3, 2) is: {8, 11} \n",
      "\n"
     ]
    }
   ],
   "source": [
    "set_o = {2, 3, 2, 3, 1, 2, 5}\n",
    "print('Unique elements of (2, 3, 2, 3, 1, 2, 5) are:', set_o)\n",
    "set_a = {2, 3, 2}\n",
    "set_b = {1, 2, 3}\n",
    "set_c = {11, 2, 8}\n",
    "set_u = set_a.union(set_b)\n",
    "print('The union of (2, 3, 2) and (1, 2, 3) is:', set_u)\n",
    "set_i = set_a.intersection(set_b)\n",
    "print('The intersection of (2, 3, 2) and (1, 2, 3) is:', set_i)\n",
    "set_s = set_a.issubset(set_b)\n",
    "print('Is (2, 3, 2) a sub set of (1, 2, 3)?', set_s)\n",
    "set_d = set_c.difference(set_a)\n",
    "print('The difference between  (11, 3, 8) and (2, 3, 2) is:', set_d, '\\n')"
   ]
  },
  {
   "cell_type": "code",
   "execution_count": 383,
   "id": "33686765",
   "metadata": {},
   "outputs": [
    {
     "name": "stdout",
     "output_type": "stream",
     "text": [
      "The keys for the dictionary {'A': 'a', 'B': 'b', 'C': 'c'} are ['A', 'B', 'C'].\n",
      "The value of key \"B\" is: b \n",
      "\n"
     ]
    }
   ],
   "source": [
    "keys = ['A', 'B', 'C']\n",
    "val = ['a', 'b', 'c']\n",
    "dict_1 = dict(zip(keys, val))\n",
    "dict_keys = dict_1.keys()\n",
    "\n",
    "print(f'The keys for the dictionary {dict_1} are {keys}.')\n",
    "print(f'The value of key \"B\" is:', dict_1['B'], '\\n')"
   ]
  },
  {
   "cell_type": "code",
   "execution_count": 384,
   "id": "59b729fd",
   "metadata": {},
   "outputs": [
    {
     "name": "stdout",
     "output_type": "stream",
     "text": [
      "Showing all variables and values from the given expressions.\n",
      "Where x is an array of [1 4 3 2 9 4] and y is an array of [2 3 4 1 2 3]\n",
      "            Arrays                                    Array Values\n",
      "Expressions                                                       \n",
      "x + y            u                 [3.0, 7.0, 7.0, 3.0, 11.0, 7.0]\n",
      "xy               v              [2.0, 12.0, 12.0, 2.0, 18.0, 12.0]\n",
      "x/y              w             [0.5, 1.333, 0.75, 2.0, 4.5, 1.333]\n",
      "sin(x)           z    [0.841, -0.757, 0.141, 0.909, 0.412, -0.757]\n",
      "8sin(x)          r    [6.732, -6.054, 1.129, 7.274, 3.297, -6.054]\n",
      "5sin(xy)         s  [4.546, -2.683, -2.683, 4.546, -3.755, -2.683]\n",
      "x**y             p              [1.0, 64.0, 81.0, 2.0, 81.0, 64.0] \n",
      "\n"
     ]
    }
   ],
   "source": [
    "x = np.array([1, 4, 3, 2, 9, 4])\n",
    "y = np.array([2, 3, 4, 1, 2, 3])\n",
    "\n",
    "\n",
    "def assignments(x, y):\n",
    "    u = np.add(x, y)\n",
    "    v = np.multiply(x, y)\n",
    "    w = np.divide(x, y)\n",
    "    z = np.sin(x)\n",
    "    r = 8 * np.sin(x)\n",
    "    s = 5 * np.sin(np.multiply(x, y))\n",
    "    p = np.power(x, y)\n",
    "    return [u, v, w, z, r, s, p]\n",
    "\n",
    "ass_lst = ['u', 'v', 'w', 'z', 'r', 's', 'p']\n",
    "opr_lst = np.around(assignments(x, y), 3)\n",
    "opr_lst = list(opr_lst)\n",
    "df_ass = pd.DataFrame({'Arrays': ass_lst, 'Array Values':  opr_lst},\n",
    "                  index=('x + y', 'xy', 'x/y', 'sin(x)', '8sin(x)', '5sin(xy)', 'x**y'),\n",
    "                  columns=['Arrays', 'Array Values'])\n",
    "df_ass.index.name = \"Expressions\" \n",
    "print('Showing all variables and values from the given expressions.')\n",
    "print(f'Where x is an array of {x} and y is an array of {y}')\n",
    "print(df_ass,'\\n')"
   ]
  },
  {
   "cell_type": "code",
   "execution_count": 385,
   "id": "35dee0d7",
   "metadata": {},
   "outputs": [
    {
     "name": "stdout",
     "output_type": "stream",
     "text": [
      "This is an array of 100 numbers that are evenly spaced between -10 and 10.\n",
      " [-10.       -9.79798  -9.59596  -9.39394  -9.19192  -8.9899   -8.78788\n",
      "  -8.58586  -8.38384  -8.18182  -7.9798   -7.77778  -7.57576  -7.37374\n",
      "  -7.17172  -6.9697   -6.76768  -6.56566  -6.36364  -6.16162  -5.9596\n",
      "  -5.75758  -5.55556  -5.35354  -5.15152  -4.94949  -4.74747  -4.54545\n",
      "  -4.34343  -4.14141  -3.93939  -3.73737  -3.53535  -3.33333  -3.13131\n",
      "  -2.92929  -2.72727  -2.52525  -2.32323  -2.12121  -1.91919  -1.71717\n",
      "  -1.51515  -1.31313  -1.11111  -0.90909  -0.70707  -0.50505  -0.30303\n",
      "  -0.10101   0.10101   0.30303   0.50505   0.70707   0.90909   1.11111\n",
      "   1.31313   1.51515   1.71717   1.91919   2.12121   2.32323   2.52525\n",
      "   2.72727   2.92929   3.13131   3.33333   3.53535   3.73737   3.93939\n",
      "   4.14141   4.34343   4.54545   4.74747   4.94949   5.15152   5.35354\n",
      "   5.55556   5.75758   5.9596    6.16162   6.36364   6.56566   6.76768\n",
      "   6.9697    7.17172   7.37374   7.57576   7.77778   7.9798    8.18182\n",
      "   8.38384   8.58586   8.78788   8.9899    9.19192   9.39394   9.59596\n",
      "   9.79798  10.     ]\n",
      "The number of elemnets in the array is: (100,) \n",
      "\n"
     ]
    }
   ],
   "source": [
    "arr_100 = np.linspace(-10,10,100)\n",
    "arr_100 = np.around(arr_100, 5)\n",
    "print(f'This is an array of 100 numbers that are evenly spaced between -10 and 10.\\n {arr_100}')\n",
    "print('The number of elemnets in the array is:', arr_100.shape, '\\n')"
   ]
  },
  {
   "cell_type": "code",
   "execution_count": 386,
   "id": "f5b2a837",
   "metadata": {},
   "outputs": [
    {
     "name": "stdout",
     "output_type": "stream",
     "text": [
      "All elements that are greater than 0.0 in [-1  0  1  2  0  3] are [1 2 3].\n"
     ]
    }
   ],
   "source": [
    "array_a = np.array([-1, 0, 1, 2, 0, 3])\n",
    "print(f'All elements that are greater than 0.0 in {array_a} are {array_a[array_a > 0]}.')"
   ]
  },
  {
   "cell_type": "code",
   "execution_count": 387,
   "id": "51774ecb",
   "metadata": {},
   "outputs": [
    {
     "name": "stdout",
     "output_type": "stream",
     "text": [
      "The orginal 3x3 matrix \n",
      " [[3 5 3]\n",
      " [2 2 5]\n",
      " [3 8 9]]\n",
      "The transposed 3x3 matrix \n",
      " [[3 2 3]\n",
      " [5 2 8]\n",
      " [3 5 9]]\n",
      "\n"
     ]
    }
   ],
   "source": [
    "array_y = np.array([[3, 5, 3], [2, 2, 5], [3, 8, 9]])\n",
    "print(f'The orginal 3x3 matrix \\n {array_y}')\n",
    "print(f'The transposed 3x3 matrix \\n {array_y.T}\\n')"
   ]
  },
  {
   "cell_type": "code",
   "execution_count": 388,
   "id": "7f53d4f6",
   "metadata": {},
   "outputs": [
    {
     "name": "stdout",
     "output_type": "stream",
     "text": [
      "This is a 2x4 zero array\n",
      " [[0. 0. 0. 0.]\n",
      " [0. 0. 0. 0.]].\n",
      "\n",
      "The zero array column 1 was changed to 1.0\n",
      " [[0. 1. 0. 0.]\n",
      " [0. 1. 0. 0.]]\n",
      "\n"
     ]
    }
   ],
   "source": [
    "dim = (2, 4)\n",
    "array_24 = np.zeros(dim)\n",
    "print(f'This is a 2x4 zero array\\n {array_24}.\\n')\n",
    "array_24[:,1] = 1.0\n",
    "print(f'The zero array column 1 was changed to 1.0\\n {array_24}\\n')"
   ]
  },
  {
   "cell_type": "code",
   "execution_count": 389,
   "id": "c055f0e7",
   "metadata": {},
   "outputs": [
    {
     "name": "stdout",
     "output_type": "stream",
     "text": [
      "acos\t acosh\t all_var\t arr_100\t array_24\t array_a\t array_y\t asin\t asinh\t \n",
      "ass_lst\t assignments\t atan\t atan2\t atanh\t ceil\t comb\t copysign\t cos\t \n",
      "cosh\t degrees\t df_ass\t dict_1\t dict_keys\t dim\t dist\t erf\t erfc\t \n",
      "exp\t expm1\t fabs\t factorial\t floor\t fmod\t frexp\t fsum\t gamma\t \n",
      "gcd\t hypot\t inf\t isclose\t isfinite\t isinf\t isnan\t isqrt\t keys\t \n",
      "lcm\t ldexp\t lgamma\t list_a\t log\t log10\t log1p\t log2\t modf\t \n",
      "nan\t nextafter\t np\t opr_lst\t pd\t perm\t pi\t pow\t prod\t \n",
      "radians\t re\t remainder\t s1\t s2\t set_a\t set_b\t set_c\t set_d\t \n",
      "set_i\t set_o\t set_s\t set_u\t sin\t sinh\t sqrt\t tan\t tanh\t \n",
      "tau\t tot\t trunc\t tuple_a\t ulp\t val\t w_1\t w_2\t w_2st\t \n",
      "w_lst\t word1\t word2\t words\t words_list\t x\t y\t \n",
      "This is all the variables used in chapter 2 problems\n",
      "None\n",
      "Once deleted, variables cannot be recovered. Proceed (y/[n])? n\n",
      "Nothing done.\n",
      "This is what what remained after the varible reset.\n",
      "acos\t acosh\t all_var\t arr_100\t array_24\t array_a\t array_y\t asin\t asinh\t \n",
      "ass_lst\t assignments\t atan\t atan2\t atanh\t ceil\t comb\t copysign\t cos\t \n",
      "cosh\t degrees\t df_ass\t dict_1\t dict_keys\t dim\t dist\t erf\t erfc\t \n",
      "exp\t expm1\t fabs\t factorial\t floor\t fmod\t frexp\t fsum\t gamma\t \n",
      "gcd\t hypot\t inf\t isclose\t isfinite\t isinf\t isnan\t isqrt\t keys\t \n",
      "lcm\t ldexp\t lgamma\t list_a\t log\t log10\t log1p\t log2\t modf\t \n",
      "nan\t nextafter\t np\t opr_lst\t pd\t perm\t pi\t pow\t prod\t \n",
      "radians\t re\t remainder\t s1\t s2\t set_a\t set_b\t set_c\t set_d\t \n",
      "set_i\t set_o\t set_s\t set_u\t sin\t sinh\t sqrt\t tan\t tanh\t \n",
      "tau\t tot\t trunc\t tuple_a\t ulp\t val\t w_1\t w_2\t w_2st\t \n",
      "w_lst\t word1\t word2\t words\t words_list\t x\t y\t \n",
      "None\n"
     ]
    }
   ],
   "source": [
    "all_var = %who\n",
    "print('This is all the variables used in chapter 2 problems')\n",
    "print(all_var)\n",
    "%reset\n",
    "print(\"This is what what remained after the varible reset.\")\n",
    "all_var = %who\n",
    "print(all_var)"
   ]
  }
 ],
 "metadata": {
  "kernelspec": {
   "display_name": "Python 3 (ipykernel)",
   "language": "python",
   "name": "python3"
  },
  "language_info": {
   "codemirror_mode": {
    "name": "ipython",
    "version": 3
   },
   "file_extension": ".py",
   "mimetype": "text/x-python",
   "name": "python",
   "nbconvert_exporter": "python",
   "pygments_lexer": "ipython3",
   "version": "3.10.4"
  }
 },
 "nbformat": 4,
 "nbformat_minor": 5
}
