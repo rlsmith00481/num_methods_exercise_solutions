{
 "cells": [
  {
   "cell_type": "markdown",
   "id": "9e6d6e7d",
   "metadata": {},
   "source": [
    "# 1.6.2 Problems Python Programming and Numerical Methods\n",
    "\n",
    "    1. Print 'I love Python' using the Python shell.\n",
    "    2. Print 'I love Python' by creating a .py file and running it in a shell.\n",
    "    3. Type import antigravity in the iPython Shell, which will take you to xkcd enable you to see the awesome Python.\n",
    "    4. Launch a new Juptyer notebook server in a folder called \"exercise\" and create a new Python notebook with the name \"exercise_1\". Put the rest of the problems within this notebook.\n",
    "    5. Compute the area of a trangle.\n",
    "    6. Comupute the surface area and volume of a cylinder.\n",
    "    7. Compute the slope between two points.\n",
    "    8. Compute the distance between two points.\n",
    "    9. Use Pythons factorial function.\n",
    "    10. Find and count all the leap years between 1500 and 2010.\n",
    "    11. Use the given approximation for pi given by Ramanujan from N=0 to N=1."
   ]
  },
  {
   "cell_type": "code",
   "execution_count": 127,
   "id": "090f1367",
   "metadata": {},
   "outputs": [],
   "source": [
    "import os\n",
    "cwd = os.getcwd()"
   ]
  },
  {
   "cell_type": "code",
   "execution_count": 151,
   "id": "5e198e5c",
   "metadata": {},
   "outputs": [
    {
     "name": "stdout",
     "output_type": "stream",
     "text": [
      "The working directory is:C:\\Users\\rlsmi\\num_methods_prob\\ch1.6.2\n"
     ]
    }
   ],
   "source": [
    "print(f'The working directory is:{cwd}')"
   ]
  },
  {
   "cell_type": "code",
   "execution_count": 129,
   "id": "6a9ff2aa",
   "metadata": {},
   "outputs": [
    {
     "name": "stdout",
     "output_type": "stream",
     "text": [
      "The area of a triangle with a base of 10 nad height of 12 is: 60.0\n"
     ]
    }
   ],
   "source": [
    "area_tri = lambda b,h: 0.5*b*h\n",
    "print('The area of a triangle with a base of 10 nad height of 12 is:', area_tri(10, 12))"
   ]
  },
  {
   "cell_type": "code",
   "execution_count": 3,
   "id": "82611357",
   "metadata": {},
   "outputs": [
    {
     "name": "stdout",
     "output_type": "stream",
     "text": [
      "The radius is 5.0 and height of the cylinder is 3.0.\n",
      "The volume of a cylinder is: 235.619\n",
      "The surface area of a cylinder is: 94.248\n"
     ]
    }
   ],
   "source": [
    "from math import*\n",
    "\n",
    "vol_cly = lambda r,h: pi*(r**2)*h\n",
    "surf_area = lambda r,h: 2*pi*r*h\n",
    "r = 5.0\n",
    "h = 3.0\n",
    "print(f\"The radius is {r} and height of the cylinder is {h}.\")\n",
    "print('The volume of a cylinder is:', round(vol_cly(r, h), 3))\n",
    "print('The surface area of a cylinder is:', round(surf_area(r, h), 3))"
   ]
  },
  {
   "cell_type": "code",
   "execution_count": 4,
   "id": "c8920d1d",
   "metadata": {},
   "outputs": [
    {
     "name": "stdout",
     "output_type": "stream",
     "text": [
      "The slope of a line from (3, 4) to (5, 9) is:  2.5\n"
     ]
    }
   ],
   "source": [
    "slope = lambda x1,y1,x2,y2: (y2-y1)/(x2-x1)\n",
    "x1, y1 = 3, 4\n",
    "x2, y2 = 5, 9\n",
    "print(f\"The slope of a line from ({x1}, {y1}) to ({x2}, {y2}) is:  {slope(x1,y1,x2,y2)}\")"
   ]
  },
  {
   "cell_type": "code",
   "execution_count": 5,
   "id": "9bcd0238",
   "metadata": {},
   "outputs": [
    {
     "name": "stdout",
     "output_type": "stream",
     "text": [
      "The distance between two points is at (3, 4) and (5, 9) is: 5.385\n"
     ]
    }
   ],
   "source": [
    "dist_2points = lambda x1, y1, x2, y2 : sqrt((x2-x1)**2 + (y2-y1)**2)\n",
    "print(f\"The distance between two points is at ({x1}, {y1}) and ({x2}, {y2}) is: {round(dist_2points(x1, y1, x2, y2), 3)}\")"
   ]
  },
  {
   "cell_type": "code",
   "execution_count": 11,
   "id": "e8030d78",
   "metadata": {},
   "outputs": [
    {
     "name": "stdout",
     "output_type": "stream",
     "text": [
      "The factorial of 6 is ([1, 2, 3, 4, 5, 6]) is: 720\n"
     ]
    }
   ],
   "source": [
    "num = 6\n",
    "\n",
    "lst_num = [i+1 for i in range(6)]\n",
    "print(f\"The factorial of {num} is ({lst_num}) is: {factorial(num)}\")"
   ]
  },
  {
   "cell_type": "code",
   "execution_count": 13,
   "id": "52f56ebb",
   "metadata": {},
   "outputs": [
    {
     "name": "stdout",
     "output_type": "stream",
     "text": [
      "The total number of leap years from 2000 to 2040 is 11 \n",
      "\n",
      "The total number of non leap years from 2000 to 2040 is 33 \n",
      "\n",
      "    Leap Years\n",
      "1         2000\n",
      "2         2004\n",
      "3         2008\n",
      "4         2012\n",
      "5         2016\n",
      "6         2020\n",
      "7         2024\n",
      "8         2028\n",
      "9         2032\n",
      "10        2036\n",
      "11        2040\n"
     ]
    }
   ],
   "source": [
    "import pandas as pd\n",
    "\n",
    "\n",
    "def createList(r1, r2):\n",
    "    return list(range(r1, r2+1))\n",
    "\n",
    "\n",
    "leap = []\n",
    "count = 0\n",
    "non_count = 0\n",
    "start_year = 2000\n",
    "end_year = 2040\n",
    "tot_yrs = sum(createList(start_year, end_year))\n",
    "start = min(createList(start_year,end_year))\n",
    "end = max(createList(start_year,end_year))\n",
    "\n",
    "for item in createList(start_year,end_year):\n",
    "    if item % 4 != 0:\n",
    "        #print(item,'was not leap year.')\n",
    "        non_count += 1\n",
    "    elif item % 100 != 0:\n",
    "        count += 1\n",
    "        leap.append(item)\n",
    "    elif item % 400 == 0:\n",
    "        count += 1\n",
    "        leap.append(item)\n",
    "\n",
    "df = pd.DataFrame(leap, columns=['Leap Years'])\n",
    "df.index = df.index+1\n",
    "non_leap = non_count + 3\n",
    "\n",
    "print(f'The total number of leap years from {start} to {end} is {count} \\n')\n",
    "print(f'The total number of non leap years from {start} to {end} is {non_leap} \\n')\n",
    "print(df)"
   ]
  },
  {
   "cell_type": "code",
   "execution_count": 15,
   "id": "a1b3cf48",
   "metadata": {},
   "outputs": [
    {
     "name": "stdout",
     "output_type": "stream",
     "text": [
      "n= 0\n",
      "result= 0.31830987844047015\n",
      "sum= 0.31830987844047015\n",
      "n= 1\n",
      "result= 7.743320483521513e-09\n",
      "sum= 0.31830988618379064\n",
      "n= 2\n",
      "result= 6.479857051717437e-17\n",
      "sum= 0.3183098861837907\n",
      "Pi value using Ramanujan Formula : 3.141592653589793\n",
      "3.1415927300133055\n",
      "pi = 3.141592653589793\n",
      "Is pi equal to Ramanujan Formula for pi: True (differance = 0.0 )\n"
     ]
    }
   ],
   "source": [
    "\"\"\"\n",
    "This section was removed due to the math function properly using factorial(0) = 1.\n",
    "#def fact(x):\n",
    "    #print('x=', x)\n",
    "    # can not have a factorial of 0! from the factorial function in python the ffactorial of 0 is 1\n",
    "    #if x == 0:\n",
    "        #return 1\n",
    "    #else:\n",
    "        #r = factorial(x)\n",
    "        #print('r=', r)\n",
    "        #return r\n",
    "\"\"\"\n",
    "\n",
    "\n",
    "def pi_formula():\n",
    "    n = 0\n",
    "    sum = 0\n",
    "    i = (2*sqrt(2))/9801\n",
    "    while True:\n",
    "        print('n=', n)\n",
    "        result = i*(factorial(4*n)/pow(factorial(n), 4))*((26390*n+1103)/pow(396, 4*n))\n",
    "        print('result=', result)\n",
    "        sum += result  # Can not use (result += result) must be a sum of the results\n",
    "        print('sum=', sum)\n",
    "        if abs(result) < 0.000000001:\n",
    "            break\n",
    "        n += 1\n",
    "    return(1/sum)\n",
    "\n",
    "ram_for = pi_formula()\n",
    "ram_for2 = 9801/(1103*(8**(0.5)))\n",
    "print(f'Pi value using Ramanujan Formula : {ram_for}')\n",
    "print(ram_for2)\n",
    "print(f\"pi = {pi}\")\n",
    "print('Is pi equal to Ramanujan Formula for pi:', pi == ram_for, '(differance =',pi - ram_for, ')')"
   ]
  },
  {
   "cell_type": "code",
   "execution_count": 20,
   "id": "f70a8928",
   "metadata": {},
   "outputs": [
    {
     "name": "stdout",
     "output_type": "stream",
     "text": [
      "The equation at x=2 for the sinh = 3.626860407847\n",
      "Python's sinh value at x=2 = 3.626860407847\n",
      "The above values are to a percision of 13 with a scale of 12 decimal points.\n",
      "Is the equation for sinh = to python sinh fundtion: True\n"
     ]
    }
   ],
   "source": [
    "hyp_sin = lambda x: (exp(x)-exp(-x))/2\n",
    "print(f\"The equation at x=2 for the sinh = {round(hyp_sin(2), 12)}\")\n",
    "print(f\"Python's sinh value at x=2 = {round(sinh(2), 12)}\")\n",
    "print(f'The above values are to a percision of 13 with a scale ' \n",
    "      f'of 12 decimal points.')\n",
    "print(f\"Is the equation for sinh = to python sinh fundtion:\" \n",
    "      f\" {round(hyp_sin(2), 12) == round(sinh(2), 12)}\")"
   ]
  },
  {
   "cell_type": "code",
   "execution_count": 153,
   "id": "8b5c4095",
   "metadata": {},
   "outputs": [
    {
     "name": "stdout",
     "output_type": "stream",
     "text": [
      "sin^2(x) + cos^2(x) at [π, π/2, π/4, π/6] = [1. 1. 1. 1.]\n",
      "An array of ones [1., 1., 1., 1.] = [1.0, 1.0, 1.0, 1.0]\n",
      "Varify that sin^2(x) + cos^2(x) at [π, π/2, π/4, π/6] is equal to one at 15 decimal points: [ True  True  True  True]\n",
      "Beyond 15 decimal points rounding error occure at π/4.\n"
     ]
    }
   ],
   "source": [
    "import numpy as np\n",
    "x = np.array([pi, pi/2, pi/4, pi/6])\n",
    "sin2_cos2 = lambda x: np.sin(x)**2 + np.cos(x)**2\n",
    "sincos = np.around(sin2_cos2(x), decimals=15) # The result had to be rounded to 15 decimals to be equal\n",
    "sin_1 = [1., 1., 1., 1.]\n",
    "\n",
    "print(f'sin^2(x) + cos^2(x) at [π, π/2, π/4, π/6] = {sincos}')\n",
    "print(f'An array of ones [1., 1., 1., 1.] = {sin_1}')\n",
    "print('Varify that sin^2(x) + cos^2(x) at [π, π/2, π/4, π/6] is equal to one at 15 decimal points:', sincos == sin_1)\n",
    "print('Beyond 15 decimal points rounding error occure at π/4.')"
   ]
  },
  {
   "cell_type": "code",
   "execution_count": 138,
   "id": "97703a7b",
   "metadata": {},
   "outputs": [
    {
     "name": "stdout",
     "output_type": "stream",
     "text": [
      "First converted 87° to radians( 1.51844 )then calculate the sin value of the converted number at 0.99863\n"
     ]
    }
   ],
   "source": [
    "rads = radians(87) # Convert degrees to radians\n",
    "result = sin(rads) # Calculate sin of 87° after converting 87° to radians\n",
    "print('First converted 87° to radians(', round(rads, 5),')' \n",
    "      'then calculate the sin value of the converted number at', round(result, 5))"
   ]
  },
  {
   "cell_type": "code",
   "execution_count": 34,
   "id": "93f8c8e6",
   "metadata": {},
   "outputs": [
    {
     "name": "stdout",
     "output_type": "stream",
     "text": [
      "0.4165005039184049\n"
     ]
    }
   ],
   "source": [
    "import math\n",
    "x = 2.712\n",
    "val = ''\n",
    "try:\n",
    "    val = math.sin(x)\n",
    "    print(val)\n",
    "except Exception as e: \n",
    "    print('AttributeError:', e)\n",
    "    print(val)\n",
    "    "
   ]
  },
  {
   "cell_type": "code",
   "execution_count": 140,
   "id": "82eb8c3c",
   "metadata": {},
   "outputs": [
    {
     "name": "stdout",
     "output_type": "stream",
     "text": [
      "TypeError: math.sin() takes exactly one argument (0 given)\n"
     ]
    }
   ],
   "source": [
    "try:\n",
    "    sin() # If the argumnet is for sin(<arg>) is left out then TypeError: math.sin() takes exactly one argument (0 given)\n",
    "    \n",
    "except Exception as e: print('TypeError:', e)"
   ]
  },
  {
   "cell_type": "code",
   "execution_count": 141,
   "id": "a5ef66fc",
   "metadata": {},
   "outputs": [
    {
     "name": "stdout",
     "output_type": "stream",
     "text": [
      "False True\n"
     ]
    }
   ],
   "source": [
    "L1 = (1 and (1 and not 1))\n",
    "L2 = (1 and (1 and not 0))\n",
    "print(L1, L2)"
   ]
  },
  {
   "cell_type": "code",
   "execution_count": 142,
   "id": "ad46e10a",
   "metadata": {},
   "outputs": [
    {
     "data": {
      "text/plain": [
       "False"
      ]
     },
     "execution_count": 142,
     "metadata": {},
     "output_type": "execute_result"
    }
   ],
   "source": [
    "(1 and 0) or (1 and not 1)"
   ]
  },
  {
   "cell_type": "code",
   "execution_count": 143,
   "id": "32e541c9",
   "metadata": {},
   "outputs": [
    {
     "data": {
      "text/plain": [
       "True"
      ]
     },
     "execution_count": 143,
     "metadata": {},
     "output_type": "execute_result"
    }
   ],
   "source": [
    "(1 and not (1 or 1)) == (1 and not 1) and (1 and not 0)"
   ]
  },
  {
   "cell_type": "code",
   "execution_count": 144,
   "id": "bb10233a",
   "metadata": {},
   "outputs": [
    {
     "data": {
      "text/plain": [
       "True"
      ]
     },
     "execution_count": 144,
     "metadata": {},
     "output_type": "execute_result"
    }
   ],
   "source": [
    "(1 and not (0 and not 1))"
   ]
  },
  {
   "cell_type": "code",
   "execution_count": 145,
   "id": "31445edd",
   "metadata": {},
   "outputs": [
    {
     "data": {
      "text/plain": [
       "-125.12206803207424"
      ]
     },
     "execution_count": 145,
     "metadata": {},
     "output_type": "execute_result"
    }
   ],
   "source": [
    "w_23 = (exp(2)*sin(pi))/6 + (log(3)*cos(pi))/9 - 5**3\n",
    "w_23"
   ]
  },
  {
   "cell_type": "code",
   "execution_count": 36,
   "id": "c8e7472f",
   "metadata": {},
   "outputs": [
    {
     "data": {
      "text/plain": [
       "False"
      ]
     },
     "execution_count": 36,
     "metadata": {},
     "output_type": "execute_result"
    }
   ],
   "source": [
    "a, b = 10, 25\n",
    "(a < b) and a == b "
   ]
  },
  {
   "cell_type": "code",
   "execution_count": 147,
   "id": "0564e85d",
   "metadata": {},
   "outputs": [
    {
     "data": {
      "text/plain": [
       "False"
      ]
     },
     "execution_count": 147,
     "metadata": {},
     "output_type": "execute_result"
    }
   ],
   "source": [
    "(1 and not 1) and (1 and not 1)"
   ]
  }
 ],
 "metadata": {
  "kernelspec": {
   "display_name": "Python 3 (ipykernel)",
   "language": "python",
   "name": "python3"
  },
  "language_info": {
   "codemirror_mode": {
    "name": "ipython",
    "version": 3
   },
   "file_extension": ".py",
   "mimetype": "text/x-python",
   "name": "python",
   "nbconvert_exporter": "python",
   "pygments_lexer": "ipython3",
   "version": "3.12.2"
  }
 },
 "nbformat": 4,
 "nbformat_minor": 5
}
