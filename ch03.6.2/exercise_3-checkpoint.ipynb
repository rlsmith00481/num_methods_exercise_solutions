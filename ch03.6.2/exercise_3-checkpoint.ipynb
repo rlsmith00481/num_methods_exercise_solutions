{
 "cells": [
  {
   "cell_type": "code",
   "execution_count": 23,
   "id": "c75cf450",
   "metadata": {},
   "outputs": [
    {
     "name": "stdout",
     "output_type": "stream",
     "text": [
      "These are the values at for the hyperbolic sine at 0, 1, 2.\n",
      "         sinh(0)   sinh(1)  sinh(2)\n",
      "Values      0.0  1.175201  3.62686\n",
      "\n"
     ]
    }
   ],
   "source": [
    "import math\n",
    "from math import*\n",
    "import pandas as pd\n",
    "import numpy as np\n",
    "\n",
    "\n",
    "def my_sinh(x):\n",
    "    \"\"\" The function uses \"(exp(x) - exp(-x))/2 to calculate the hyperbolic sine. \n",
    "    The input value is in radians, to convert from degrees to radians degree * pi()/180.\"\"\"\n",
    "    return (exp(x) - exp(-x))/2\n",
    "\n",
    "\n",
    "df_sinh = pd.DataFrame( {'sinh(0)': my_sinh(0), 'sinh(1)': my_sinh(1),\n",
    "                         'sinh(2)': my_sinh(2)}, index=(['Values']))\n",
    "print(f'These are the values at for the hyperbolic sine at 0, 1, 2.\\n {df_sinh}\\n')"
   ]
  },
  {
   "cell_type": "code",
   "execution_count": 165,
   "id": "f9e4b1ee",
   "metadata": {},
   "outputs": [
    {
     "name": "stdout",
     "output_type": "stream",
     "text": [
      "At n = 1\n",
      "[array([1.])] \n",
      "\n",
      "At n = 2\n",
      "[[1. 0.]\n",
      " [0. 1.]] \n",
      "\n",
      "At n = 3\n",
      "[[1. 0. 1.]\n",
      " [0. 1. 0.]\n",
      " [1. 0. 1.]] \n",
      "\n",
      "At n = 4\n",
      "[[1. 0. 1. 0.]\n",
      " [0. 1. 0. 1.]\n",
      " [1. 0. 1. 0.]\n",
      " [0. 1. 0. 1.]] \n",
      "\n",
      "At n = 5\n",
      "[[1. 0. 1. 0. 1.]\n",
      " [0. 1. 0. 1. 0.]\n",
      " [1. 0. 1. 0. 1.]\n",
      " [0. 1. 0. 1. 0.]\n",
      " [1. 0. 1. 0. 1.]] \n",
      "\n"
     ]
    }
   ],
   "source": [
    "\n",
    "\n",
    "def my_checker_board(n):\n",
    "    z = np.ones((n), dtype=float)\n",
    "    x = np.ones((n), dtype=float)\n",
    "    np.place(z[1::2], z[1::2]==1, [0])\n",
    "    np.place(x[::2], x[::2]==1, [0])\n",
    "    if n == 1:\n",
    "        m = [z]\n",
    "    elif n == 2:\n",
    "        m = np.concatenate(([[z], [x]]), axis=0)\n",
    "    elif n == 3:\n",
    "        m = np.concatenate(([[z], [x], [z]]), axis=0)\n",
    "    elif n == 4:\n",
    "        m = np.concatenate(([[z], [x], [z], [x]]), axis=0)\n",
    "    elif n == 5:\n",
    "        m = np.concatenate(([[z], [x], [z], [x], [z]]), axis=0)\n",
    "    return (m)\n",
    "\n",
    "\n",
    "print('At n = 1') \n",
    "print(my_checker_board(1), '\\n')\n",
    "print('At n = 2')\n",
    "print(my_checker_board(2), '\\n')\n",
    "print('At n = 3')\n",
    "print(my_checker_board(3), '\\n')\n",
    "print('At n = 4')\n",
    "print(my_checker_board(4), '\\n')\n",
    "print('At n = 5')\n",
    "print(my_checker_board(5), '\\n')"
   ]
  },
  {
   "cell_type": "code",
   "execution_count": 159,
   "id": "08a7cc1c",
   "metadata": {},
   "outputs": [
    {
     "data": {
      "text/plain": [
       "Arrays    NaN\n",
       "dtype: object"
      ]
     },
     "execution_count": 159,
     "metadata": {},
     "output_type": "execute_result"
    }
   ],
   "source": [
    "df_board"
   ]
  },
  {
   "cell_type": "code",
   "execution_count": null,
   "id": "2cb98b60",
   "metadata": {},
   "outputs": [],
   "source": []
  }
 ],
 "metadata": {
  "kernelspec": {
   "display_name": "Python 3 (ipykernel)",
   "language": "python",
   "name": "python3"
  },
  "language_info": {
   "codemirror_mode": {
    "name": "ipython",
    "version": 3
   },
   "file_extension": ".py",
   "mimetype": "text/x-python",
   "name": "python",
   "nbconvert_exporter": "python",
   "pygments_lexer": "ipython3",
   "version": "3.10.4"
  }
 },
 "nbformat": 4,
 "nbformat_minor": 5
}
