{
 "cells": [
  {
   "cell_type": "code",
   "execution_count": 3,
   "id": "c75cf450",
   "metadata": {},
   "outputs": [
    {
     "name": "stdout",
     "output_type": "stream",
     "text": [
      "These are the values at for the hyperbolic sine at 0, 1, 2.\n",
      "         sinh(0)   sinh(1)  sinh(2)\n",
      "Values      0.0  1.175201  3.62686\n",
      "\n"
     ]
    }
   ],
   "source": [
    "import math\n",
    "from math import*\n",
    "import pandas as pd\n",
    "import numpy as np\n",
    "import matplotlib.pyplot as plt\n",
    "from matplotlib.patches import Polygon\n",
    "\n",
    "\n",
    "def my_sinh(x):\n",
    "    \"\"\" The function uses \"(exp(x) - exp(-x))/2 to calculate the hyperbolic sine. \n",
    "    The input value is in radians, to convert from degrees to radians degree * pi()/180.\"\"\"\n",
    "    return (exp(x) - exp(-x))/2\n",
    "\n",
    "\n",
    "df_sinh = pd.DataFrame( {'sinh(0)': my_sinh(0), 'sinh(1)': my_sinh(1),\n",
    "                         'sinh(2)': my_sinh(2)}, index=(['Values']))\n",
    "print(f'These are the values at for the hyperbolic sine at 0, 1, 2.\\n {df_sinh}\\n')"
   ]
  },
  {
   "cell_type": "code",
   "execution_count": 173,
   "id": "f9e4b1ee",
   "metadata": {},
   "outputs": [
    {
     "name": "stdout",
     "output_type": "stream",
     "text": [
      "At n = 1\n",
      "[array([1.])] \n",
      "\n",
      "At n = 2\n",
      "[[1. 0.]\n",
      " [0. 1.]] \n",
      "\n",
      "At n = 3\n",
      "[[1. 0. 1.]\n",
      " [0. 1. 0.]\n",
      " [1. 0. 1.]] \n",
      "\n",
      "At n = 4\n",
      "[[1. 0. 1. 0.]\n",
      " [0. 1. 0. 1.]\n",
      " [1. 0. 1. 0.]\n",
      " [0. 1. 0. 1.]] \n",
      "\n",
      "At n = 5\n",
      "[[1. 0. 1. 0. 1.]\n",
      " [0. 1. 0. 1. 0.]\n",
      " [1. 0. 1. 0. 1.]\n",
      " [0. 1. 0. 1. 0.]\n",
      " [1. 0. 1. 0. 1.]] \n",
      "\n"
     ]
    }
   ],
   "source": [
    "\n",
    "\n",
    "def my_checker_board(n):\n",
    "    \"\"\"\n",
    "    This function will create a checkerboard square matrix of 0 and 1.\n",
    "    Enter the size of the matrix n from 1 to 5.\n",
    "    \"\"\"\n",
    "    z = np.ones((n), dtype=float)\n",
    "    x = np.ones((n), dtype=float)\n",
    "    np.place(z[1::2], z[1::2]==1, [0])\n",
    "    np.place(x[::2], x[::2]==1, [0])\n",
    "    if n == 1:\n",
    "        m = [z]\n",
    "    elif n == 2:\n",
    "        m = np.concatenate(([[z], [x]]), axis=0)\n",
    "    elif n == 3:\n",
    "        m = np.concatenate(([[z], [x], [z]]), axis=0)\n",
    "    elif n == 4:\n",
    "        m = np.concatenate(([[z], [x], [z], [x]]), axis=0)\n",
    "    elif n == 5:\n",
    "        m = np.concatenate(([[z], [x], [z], [x], [z]]), axis=0)\n",
    "    return (m)\n",
    "\n",
    "\n",
    "print('At n = 1') \n",
    "print(my_checker_board(1), '\\n')\n",
    "print('At n = 2')\n",
    "print(my_checker_board(2), '\\n')\n",
    "print('At n = 3')\n",
    "print(my_checker_board(3), '\\n')\n",
    "print('At n = 4')\n",
    "print(my_checker_board(4), '\\n')\n",
    "print('At n = 5')\n",
    "print(my_checker_board(5), '\\n')"
   ]
  },
  {
   "cell_type": "code",
   "execution_count": 11,
   "id": "08a7cc1c",
   "metadata": {},
   "outputs": [
    {
     "name": "stdout",
     "output_type": "stream",
     "text": [
      "The function my_triangle(b, h) calculates the area of a triangle using the lambda function. Just enter the base (b) and height (h) of the triangle into the function. The equation for the area of a triangle is 1/2 x base x height or 1/2 the area of a rectangle.\n"
     ]
    },
    {
     "data": {
      "image/png": "[encoded data removed]",
      "text/plain": [
       "<Figure size 432x288 with 1 Axes>"
      ]
     },
     "metadata": {
      "needs_background": "light"
     },
     "output_type": "display_data"
    },
    {
     "name": "stdout",
     "output_type": "stream",
     "text": [
      "For the above triangle with a base of 1 and a hieght of 1 the area is 0.5.\n"
     ]
    },
    {
     "data": {
      "image/png": "[encoded data removed]",
      "text/plain": [
       "<Figure size 432x288 with 1 Axes>"
      ]
     },
     "metadata": {
      "needs_background": "light"
     },
     "output_type": "display_data"
    },
    {
     "name": "stdout",
     "output_type": "stream",
     "text": [
      "For the above triangle with a base of 2 and a hieght of 1 the area is 1.0.\n"
     ]
    },
    {
     "data": {
      "image/png": "[encoded data removed]",
      "text/plain": [
       "<Figure size 432x288 with 1 Axes>"
      ]
     },
     "metadata": {
      "needs_background": "light"
     },
     "output_type": "display_data"
    },
    {
     "name": "stdout",
     "output_type": "stream",
     "text": [
      "For the above triangle with a base of 12 and a hieght of 15 the area is 30.0.\n",
      "\n"
     ]
    }
   ],
   "source": [
    "my_triangle = lambda b, h: (b*h)/2\n",
    "print('The function my_triangle(b, h) calculates the area of a triangle using the'\n",
    "      ' lambda function.'\n",
    "      ' Just enter the base (b) and height (h) of the triangle into the function.'\n",
    "      ' The equation for the area of a triangle is 1/2 x base x height or 1/2 the '\n",
    "      'area of a rectangle.')\n",
    "pts = np.array([[0,0], [1,0], [0,1]])\n",
    "p = Polygon(pts, closed=False, fill=True, fc='green', ec='black')\n",
    "ax = plt.gca()\n",
    "ax.add_patch(p)\n",
    "ax.set_xlim(0,1)\n",
    "ax.set_ylim(0,1)\n",
    "plt.show()\n",
    "print(f'For the above triangle with a base of 1 and a hieght of 1 the area is {my_triangle(1, 1)}.')\n",
    "pts = np.array([[0,0], [2,0], [0,1]])\n",
    "p = Polygon(pts, closed=False, fill=True, fc='red', ec='black')\n",
    "ax = plt.gca()\n",
    "ax.add_patch(p)\n",
    "ax.set_xlim(0,2)\n",
    "ax.set_ylim(0,1)\n",
    "plt.show()\n",
    "print(f'For the above triangle with a base of 2 and a hieght of 1 the area is {my_triangle(2, 1)}.')\n",
    "pts = np.array([[0,0], [12,0], [0,5]])\n",
    "p = Polygon(pts, closed=False, fill=True, fc='blue', ec='black')\n",
    "ax = plt.gca()\n",
    "ax.add_patch(p)\n",
    "ax.set_xlim(0,12)\n",
    "ax.set_ylim(0,5)\n",
    "plt.show()\n",
    "print(f'For the above triangle with a base of 12 and a hieght of 15 the area is {my_triangle(12, 5)}.\\n')"
   ]
  },
  {
   "cell_type": "code",
   "execution_count": 175,
   "id": "2cb98b60",
   "metadata": {},
   "outputs": [
    {
     "name": "stdout",
     "output_type": "stream",
     "text": [
      "For case where array is a ([1, 2, 3], [4, 5, 6], [7, 8, 9])\n",
      "m1\n",
      "[[1 2]\n",
      " [4 5]\n",
      " [7 8]]\n",
      "m2\n",
      "[[3]\n",
      " [6]\n",
      " [9]] \n",
      "\n",
      "For case where array is a np.one((5, 5))\n",
      "m1\n",
      "[[1. 1. 1.]\n",
      " [1. 1. 1.]\n",
      " [1. 1. 1.]\n",
      " [1. 1. 1.]\n",
      " [1. 1. 1.]]\n",
      "m2\n",
      "[[1. 1.]\n",
      " [1. 1.]\n",
      " [1. 1.]\n",
      " [1. 1.]\n",
      " [1. 1.]] \n",
      "\n"
     ]
    }
   ],
   "source": [
    "\n",
    "\n",
    "def split_(lst):\n",
    "    \"\"\" Insert a list for the argument in split(lst) in the form of \n",
    "    ([1,2,3], [4,5,6], [7, 8, 9]). The function will create an array\n",
    "    and split the array in 2 equal parts. The two parts are retured with\n",
    "    the function in the form m1, m2 = split(list). Must have at least\n",
    "    two list objects ([object], [object]) with the same number of elements.\"\"\"\n",
    "    m = np.array(lst)\n",
    "    m = np.array_split(m, 2, axis=1)\n",
    "    m_1 = m[0]\n",
    "    m_2 = m[1]\n",
    "    return m_1, m_2\n",
    "\n",
    "\n",
    "x = ([1, 2, 3], [4, 5, 6], [7, 8, 9])\n",
    "m1, m2 = split_(x)\n",
    "print('For case where array is a ([1, 2, 3], [4, 5, 6], [7, 8, 9])')\n",
    "print('m1')\n",
    "print(m1)\n",
    "print('m2')\n",
    "print(m2, '\\n')\n",
    "\n",
    "x = np.ones((5, 5))\n",
    "m1, m2 = split_(x)\n",
    "print('For case where array is a np.one((5, 5))')\n",
    "print('m1')\n",
    "print(m1)\n",
    "print('m2')\n",
    "print(m2, '\\n')"
   ]
  },
  {
   "cell_type": "code",
   "execution_count": 176,
   "id": "b20e8f60",
   "metadata": {},
   "outputs": [
    {
     "name": "stdout",
     "output_type": "stream",
     "text": [
      "The surface area and volume of a cylinder.\n",
      "                       Radius=1 & Height=5  Radius=2 & Height=4  \\\n",
      "Cylinder Surface Area            37.699112            75.398224   \n",
      "Cylinder Volume                  15.707963            50.265482   \n",
      "\n",
      "                       Radius=8.5 & Height=43  \n",
      "Cylinder Surface Area             1507.964474  \n",
      "Cylinder Volume                   3377.212103   \n",
      "\n"
     ]
    }
   ],
   "source": [
    "\n",
    "\n",
    "def my_cylinder(r, h):\n",
    "    \"\"\" my_cylinder(r, h) function will calculate the surface area and voulume of a cylinder.\n",
    "    The formula for surface area is 2π(r^2)) + (2πrh) and the volume is πr^2h, where\n",
    "    r is the radius and h is the height.\"\"\"\n",
    "    s = (2 * pi * (r**2)) + (2 * pi * r * h)\n",
    "    v = pi * (r**2) * h\n",
    "    return s,v\n",
    "\n",
    "\n",
    "dict_cly_suf_vol = {'Radius=1 & Height=5':  my_cylinder(1, 5),\n",
    "                    'Radius=2 & Height=4':my_cylinder(2, 4),\n",
    "                    'Radius=8.5 & Height=43':my_cylinder(5, 43)}\n",
    "cly_surface_vol = pd.DataFrame(dict_cly_suf_vol, index=['Cylinder Surface Area', 'Cylinder Volume'])\n",
    "print('The surface area and volume of a cylinder.')\n",
    "print(cly_surface_vol, '\\n')"
   ]
  },
  {
   "cell_type": "code",
   "execution_count": 177,
   "id": "9ab2f7a1",
   "metadata": {},
   "outputs": [
    {
     "name": "stdout",
     "output_type": "stream",
     "text": [
      "The number of odd numbers in the array [ 0  1  2  3  4  5  6  7  8  9 10 11 12 13 14 15 16 17 18 19 20 21 22 23\n",
      " 24 25 26 27 28 29 30 31 32 33 34 35 36 37 38 39 40 41 42 43 44 45 46 47\n",
      " 48 49 50 51 52 53 54 55 56 57 58 59 60 61 62 63 64 65 66 67 68 69 70 71\n",
      " 72 73 74 75 76 77 78 79 80 81 82 83 84 85 86 87 88 89 90 91 92 93 94 95\n",
      " 96 97 98 99] are 50.\n",
      "\n",
      "The number of odd numbers in the array [ 2  4  6  8 10 12 14 16 18 20 22 24 26 28 30 32 34 36 38 40 42 44 46 48\n",
      " 50 52 54 56 58 60 62 64 66 68 70 72 74 76 78 80 82 84 86 88 90 92 94 96\n",
      " 98] are 0.\n",
      "\n"
     ]
    }
   ],
   "source": [
    "\n",
    "\n",
    "def my_n_odd(arr):\n",
    "    \"\"\"This function does the same thing as the lower function with an embeded lambda\n",
    "    function using filtering with list. The function finds all the odd numbers in the array.\n",
    "    The function requres a array.\"\"\"\n",
    "    odds = list(filter(lambda x: (x % 2 != 0), list(arr)))\n",
    "    return len(odds)\n",
    "\n",
    "\n",
    "def my_n_odd2(arr):\n",
    "    \"\"\"This function does the same thing as the upper function with list comprehension and \n",
    "    will work on arrays, lists, or tuple. The function finds all the odd numbers in the array.\n",
    "    The function requres a list of numbers be it a list or array.\"\"\"\n",
    "    count = 0\n",
    "    odds = [x for x in arr if x % 2 != 0]\n",
    "    return len(odds)\n",
    "\n",
    "\n",
    "print(f'The number of odd numbers in the array {np.arange(100)} are {my_n_odd(np.arange(100))}.\\n')\n",
    "print(f'The number of odd numbers in the array {np.arange(2, 100, 2)} are {my_n_odd(np.arange(2, 100, 2))}.\\n')\n"
   ]
  },
  {
   "cell_type": "code",
   "execution_count": 178,
   "id": "1a88bfc9",
   "metadata": {},
   "outputs": [
    {
     "name": "stdout",
     "output_type": "stream",
     "text": [
      "This function creates a 2D array filled with 2.\n",
      "case 1 is a 2D array with a size of (3 x 2).\n",
      "[[2 2]\n",
      " [2 2]\n",
      " [2 2]] \n",
      "\n",
      "case 2 is a 2D array with a size of (1 x 4).\n",
      "[[2 2 2 2]] \n",
      "\n"
     ]
    }
   ],
   "source": [
    "\n",
    "\n",
    "def my_twos(m,n):\n",
    "    \"\"\"This function creates a 2D array filled with 2s. \n",
    "    The function my_twos(m,n) uses (m,n) as the array size. \"\"\"\n",
    "    return np.full(shape=(m,n),fill_value=2, dtype=int)\n",
    "\n",
    "\n",
    "print('This function creates a 2D array filled with 2.')    \n",
    "case_1 = my_twos(3,2)\n",
    "print('case 1 is a 2D array with a size of (3 x 2).')\n",
    "print(case_1, '\\n')\n",
    "case_2 = my_twos(1,4)\n",
    "print('case 2 is a 2D array with a size of (1 x 4).')\n",
    "print(case_2, '\\n')"
   ]
  },
  {
   "cell_type": "code",
   "execution_count": 179,
   "id": "22dab976",
   "metadata": {},
   "outputs": [
    {
     "name": "stdout",
     "output_type": "stream",
     "text": [
      "The lambda function for x - y where x = 6 and y = 3, so x - y = 3.\n",
      "\n"
     ]
    }
   ],
   "source": [
    "sub_xy = lambda x, y: x - y\n",
    "x, y = 6, 3\n",
    "print(f'The lambda function for x - y where x = {x} and y = {y}, so x - y = {sub_xy(x,y)}.\\n')"
   ]
  },
  {
   "cell_type": "code",
   "execution_count": 180,
   "id": "d467eecb",
   "metadata": {},
   "outputs": [
    {
     "name": "stdout",
     "output_type": "stream",
     "text": [
      "Case one join 'Programing' and 'is fun!' with function add_string(s_1, s_2 = '')\n",
      "Programing is fun! \n",
      "\n"
     ]
    }
   ],
   "source": [
    "\n",
    "\n",
    "def add_string(s_1, s_2 = ''):\n",
    "    \"\"\"Joins two string objects and if they are not string objects\n",
    "    the function will convert them to strings prior to concatenating\n",
    "    the strings.\"\"\"\n",
    "    s_1 = str(s_1)\n",
    "    s_2 = str(s_2)\n",
    "    return s_1 + s_2\n",
    "\n",
    "\n",
    "s1 = add_string(\"Programing \")\n",
    "s2 = add_string(\"is \", \"fun!\")\n",
    "sent = add_string(s1, s2)\n",
    "print(\"Case one join 'Programing' and 'is fun!' with function add_string(s_1, s_2 = '')\")\n",
    "print(sent, '\\n')"
   ]
  },
  {
   "cell_type": "code",
   "execution_count": 181,
   "id": "9f006158",
   "metadata": {},
   "outputs": [
    {
     "name": "stdout",
     "output_type": "stream",
     "text": [
      "Create the error code; TypeError: fun() missing 1 required positional argument: 'a' \n",
      "\n"
     ]
    }
   ],
   "source": [
    "\n",
    "\n",
    "def fun(a):\n",
    "    print('This is fun')\n",
    "\n",
    "\n",
    "try:\n",
    "   err = fun()\n",
    "except Exception as e:\n",
    "    print('Create the error code; TypeError:', e, '\\n')"
   ]
  },
  {
   "cell_type": "code",
   "execution_count": 182,
   "id": "27caa6ed",
   "metadata": {},
   "outputs": [
    {
     "ename": "IndentationError",
     "evalue": "expected an indented block after function definition on line 1 (1149612415.py, line 2)",
     "output_type": "error",
     "traceback": [
      "\u001b[1;36m  File \u001b[1;32m\"C:\\Users\\rlsmi\\AppData\\Local\\Temp\\ipykernel_18856\\1149612415.py\"\u001b[1;36m, line \u001b[1;32m2\u001b[0m\n\u001b[1;33m    f = print('This is fun')\u001b[0m\n\u001b[1;37m    ^\u001b[0m\n\u001b[1;31mIndentationError\u001b[0m\u001b[1;31m:\u001b[0m expected an indented block after function definition on line 1\n"
     ]
    }
   ],
   "source": [
    "\n",
    "\n",
    "def fun():\n",
    "f = print('This is fun')\n",
    "    return print(f)\n",
    "\n",
    "\n",
    "try:\n",
    "    err = fun()\n",
    "except Exception as e:\n",
    "    print('Create the error code; IndentationError:', e)"
   ]
  },
  {
   "cell_type": "code",
   "execution_count": 24,
   "id": "a863b046",
   "metadata": {},
   "outputs": [
    {
     "name": "stdout",
     "output_type": "stream",
     "text": [
      "Case 1 use 'John' as name and 'age' is 26 to produce the sentence 'Hi, my name is John and I am 26 years old'.\n",
      "Hi, my name is John and I am 26.0 years old.\n",
      "\n",
      "\n",
      "Case 2 use 'Kate' as name and 'age' is 19 to produce the sentence 'Hi, my name is Kate and I am 19 years old'.\n",
      "Hi, my name is Kate and I am 19.0 years old.\n",
      "\n",
      "\n"
     ]
    }
   ],
   "source": [
    "def greeting(name, age):\n",
    "    name = str(name)\n",
    "    age = float(age)\n",
    "    return print(f'Hi, my name is {name} and I am {age} years old.')\n",
    "\n",
    "\n",
    "print(\"Case 1 use 'John' as name and 'age' is 26 to produce the sentence\"\n",
    "      \" 'Hi, my name is John and I am 26 years old'.\" )\n",
    "greeting('John', 26)\n",
    "print('\\n')\n",
    "print(\"Case 2 use 'Kate' as name and 'age' is 19 to produce the sentence\"\n",
    "      \" 'Hi, my name is Kate and I am 19 years old'.\" )\n",
    "greeting('Kate', 19)\n",
    "print('\\n')"
   ]
  },
  {
   "cell_type": "code",
   "execution_count": 186,
   "id": "12118eca",
   "metadata": {},
   "outputs": [
    {
     "name": "stdout",
     "output_type": "stream",
     "text": [
      "Test case 2 create the function that will calculate the area of a donut with vectorization. For inter radius vector [1, 2, 3] and outer radius vector [2, 4, 6].\n",
      "\n",
      "Cross sectional area of the donut circle without the hole is as follows;\n",
      "                Inter Diameter  Donut Area\n",
      "Outer Diameter                            \n",
      "2                            1    9.424778\n",
      "4                            2   37.699112\n",
      "6                            3   84.823002 \n",
      "\n"
     ]
    }
   ],
   "source": [
    "\n",
    "\n",
    "def my_donut_area(r1, r2):\n",
    "    \"\"\"The function that will calculate the area of a donut with vectorization.\n",
    "    The function test to make sure the inter radius is lessthan outer radius \n",
    "    then caculates the area of the inter cut out and subtracts that from total\n",
    "    area of the circle. r1 is the inter radius and r2 is the outer radius where r2 > r1.\n",
    "    my_donut_area(r1, r2)\"\"\"\n",
    "    if (r1 < r2).all():\n",
    "        area_in = np.multiply(pi, np.multiply(r1, r1))\n",
    "        area_out = np.multiply(pi, np.multiply(r2, r2))\n",
    "        return np.subtract(area_out,area_in)\n",
    "    else:\n",
    "        return 'The inter radius is larger than the outer radius.'\n",
    "\n",
    "\n",
    "ID = np.arange(1, 4)\n",
    "OD = np.arange(2, 7, 2)\n",
    "arr_do = my_donut_area(ID, OD)\n",
    "print(\"Test case 2 create the function that will calculate\"\n",
    "      \" the area of a donut with vectorization.\"\n",
    "      \" For inter radius vector [1, 2, 3] and outer radius vector [2, 4, 6].\\n\")\n",
    "df_donut = pd.DataFrame(list(zip(OD, ID, arr_do)),\n",
    "              columns=[\"Outer Diameter\",\"Inter Diameter\", \"Donut Area\"]).set_index('Outer Diameter')\n",
    "print(f'Cross sectional area of the donut circle without the hole is as follows;')\n",
    "print(df_donut, '\\n')\n",
    "    "
   ]
  },
  {
   "cell_type": "code",
   "execution_count": 206,
   "id": "2b0c25f2",
   "metadata": {},
   "outputs": [
    {
     "name": "stdout",
     "output_type": "stream",
     "text": [
      "Case 1                                 [1, 2]\n",
      "Case 2                   [48, 49, 50, 51, 52]\n",
      "Case 3    [0.47, 0.48, 0.49, 0.5, 0.51, 0.52]\n",
      "dtype: object \n",
      "\n"
     ]
    }
   ],
   "source": [
    "def my_wthin_tolerance(A, a, tol):\n",
    "    \"\"\"This function evaluates an array to each element in a array\n",
    "    at a given condition and returns the values within the given tolerance.\n",
    "    my_wthin_tolerance(A, a, tol) A is the array, a is a evaluation constant,\n",
    "    tol is tolerance\"\"\"\n",
    "    arr_ = np.extract(abs(A-a) < tol, A)\n",
    "    return arr_\n",
    "\n",
    "\n",
    "c_1 = (my_wthin_tolerance(np.arange(0,4), 1.5, 0.75))\n",
    "c_2 = (my_wthin_tolerance(np.arange(0, 101, 1), 50, 3))\n",
    "c_3 = np.around(my_wthin_tolerance(np.arange(0, 1.01, 0.01), 0.5, 0.03), 2)\n",
    "dict_c = {'Case 1': c_1, 'Case 2' : c_2, 'Case 3' : c_3}\n",
    "print(pd.Series(dict_c), '\\n')\n"
   ]
  },
  {
   "cell_type": "code",
   "execution_count": 207,
   "id": "8787f37c",
   "metadata": {},
   "outputs": [
    {
     "data": {
      "text/plain": [
       "array([-5, -4, -3, -2, -1,  0,  1,  2,  3,  4,  5])"
      ]
     },
     "execution_count": 207,
     "metadata": {},
     "output_type": "execute_result"
    }
   ],
   "source": [
    "np.arange(-5, 6, 1)\n"
   ]
  },
  {
   "cell_type": "code",
   "execution_count": 23,
   "id": "c27b8eae",
   "metadata": {},
   "outputs": [
    {
     "name": "stdout",
     "output_type": "stream",
     "text": [
      "For a given array of [-5 -4 -3 -2 -1  0  1  2  3  4  5].\n",
      "With boundry conditions at 3 and -3.\n",
      "Yields the new array [-3, -2, -1, 0, 1, 2, 3].\n"
     ]
    }
   ],
   "source": [
    "def bounding_array(A, top, bottom):\n",
    "    \"\"\"This function evaluates an array with in given boundry conditions \n",
    "    and returns the values within the given boundries.\n",
    "    bounding_array(A, top, bottom) A is the array, top is a upper limit,\n",
    "    botom is a lower limit\"\"\"\n",
    "    arr_ = np.extract(A <= top, A)\n",
    "    arr_ = np.extract(arr_ >= bottom , A)\n",
    "    return arr_\n",
    "\n",
    "arr_b = np.arange(-5, 6, 1)\n",
    "top = 3\n",
    "bottom = -3\n",
    "a_bound = bounding_array(arr_b, top, bottom)\n",
    "print(f'For a given array of {np.arange(-5, 6, 1)}.')\n",
    "print(f'With boundry conditions at {top} and {bottom}.')\n",
    "print(f'Yields the new array {list(a_bound)}.')"
   ]
  },
  {
   "cell_type": "code",
   "execution_count": null,
   "id": "ab315f56",
   "metadata": {},
   "outputs": [],
   "source": []
  }
 ],
 "metadata": {
  "kernelspec": {
   "display_name": "Python 3 (ipykernel)",
   "language": "python",
   "name": "python3"
  },
  "language_info": {
   "codemirror_mode": {
    "name": "ipython",
    "version": 3
   },
   "file_extension": ".py",
   "mimetype": "text/x-python",
   "name": "python",
   "nbconvert_exporter": "python",
   "pygments_lexer": "ipython3",
   "version": "3.10.4"
  }
 },
 "nbformat": 4,
 "nbformat_minor": 5
}
